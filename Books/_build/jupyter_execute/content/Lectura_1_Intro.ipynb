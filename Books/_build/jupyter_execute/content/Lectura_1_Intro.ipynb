{
 "cells": [
  {
   "cell_type": "markdown",
   "metadata": {
    "id": "SeerEoaCENM5"
   },
   "source": [
    "# ***Introducción al machine learning***\n",
    "\n",
    "## ***Universidad Central***\n",
    "\n",
    "## ***Maestría en analítica de datos***\n",
    "\n",
    "## ***Métodos estadísticos para analítica de datos.***\n",
    "## ***Docente: Luis Andrés Campos Maldonado.***"
   ]
  },
  {
   "cell_type": "markdown",
   "metadata": {
    "id": "G3kWUHC2sauX"
   },
   "source": [
    "El `Machine Learning` trata de extraer conocimiento de los datos. Es un campo de investigación que intersecta la estadística, inteligencia artificial y ciencias de la computación, este también conocido como **análisis predictivo o aprendizaje estadístico**. Las aplicaciones del `Machine Learning` se han convertido en los últimos años en omnipresentes en la vida cotidiana, desde recomendaciones automáticas de qué películas para ver, qué comida pedir, que productos comprar hasta el reconocimiento de amigos en tus fotos. Al mirar un sitio web complejo como Facebook, Amazon o Netflix, es muy probable que cada parte del sitio contenga múltiples modelos de `Machine Learning`. "
   ]
  },
  {
   "cell_type": "markdown",
   "metadata": {
    "id": "sBl1uLoC4EQj"
   },
   "source": [
    "## ***Problemas que el Machine Learning sabe resolver.***"
   ]
  },
  {
   "cell_type": "markdown",
   "metadata": {
    "id": "EA_y5oXwwcWx"
   },
   "source": [
    "### ***Aprendizaje supervisado:*** \n",
    "\n",
    "En este caso se desea automatizar el proceso de toma de decisiones a partir de ejemplos conocidos. Estos algoritmos de `Machine Learning` aprenden de los pares input/output conocidos, para al estar implementado  crear un **output** para un **input** que nunca ha visto antes sin más ayuda. \n",
    "\n",
    "Consideremos algunos ejemplos: \n",
    "\n",
    "1. Clasificación de correos spam: El modelo de `Machine Learning` utiliza un algoritmo dotado de una gran cantidad de correos electrónicos (los inputs), junto con información sobre\n",
    "si alguno de estos correos electrónicos es spam (objetivo deseado). Dado un nuevo correo electrónico, el algoritmo producirá una predicción sobre si el nuevo correo electrónico es correo no deseado.\n",
    "\n",
    "2. Identificar el código postal a partir de dígitos escritos a mano en un sobre: La entrada es un escaneo de la escritura a mano, y la salida deseada es el real\n",
    "código postal. Para crear un conjunto de datos para construir un modelo de machine learning, se necesita recoger muchos sobres. Entonces puede leer los códigos postales usted mismo y almacene los dígitos como sus resultados deseados.\n",
    "\n",
    "3. Determinar si un tumor es benigno en base a una imagen médica: La entrada es la imagen y la salida es si el tumor es benigno. Para crear un conjunto de datos para construir un modelo, se necesita una base de datos de imágenes médicas. Asi mismo se necesita la opinión de un experto, por lo que un médico debe observar todas las imágenes y decidir qué tumores son benignos y cuáles no. Incluso podría ser necesario hacer un diagnóstico adicional más allá del contenido de la imagen para determinar si el tumor en la imagen es canceroso o no.\n",
    "\n",
    "4. Detección de actividad fraudulenta en transacciones con tarjetas de crédito: La entrada es un registro de la transacción de la tarjeta de crédito y la salida es\n",
    "si es probable que sea fraudulento o no. Suponiendo que usted es la entidad que distribuye las tarjetas de crédito, recopilar un conjunto de datos significa almacenar todas las transacciones y registro si un usuario reporta alguna transacción como fraudulenta."
   ]
  },
  {
   "cell_type": "markdown",
   "metadata": {
    "id": "4UDvsvda0Byx"
   },
   "source": [
    "### ***Algoritmos no supervisados:*** \n",
    "\n",
    "Estos son el otro tipo de algoritmo que cubriremos en este curso. En este aprendizaje, solo se conocen los datos de entrada y no se conoce la salida. Si bien hay muchas aplicaciones exitosas de estos métodos, por lo general son más difíciles de entender y evaluar.\n",
    "\n",
    "Consideremos algunos ejemplos:\n",
    "\n",
    "1. Identificar temas en un conjunto de publicaciones de blog: Si tiene una gran colección de datos de texto, es posible que desee resumirlos y encontrar temas predominantes en él. Es posible que no sepa de antemano cuáles son estos temas, o cuántos temas puede haber. Por lo tanto, no hay salidas conocidas.\n",
    "\n",
    "2. Segmentación de clientes en grupos con preferencias similares: Dado un conjunto de registros de clientes, es posible que desee identificar qué clientes son similar, y si hay grupos de clientes con preferencias similares. Para un sitio de compras, estos pueden ser \"padres\", \"ratones de biblioteca\" o \"jugadores\". Porque no conoce de antemano cuáles podrían ser estos grupos, o incluso cuántos hay, no tiene salidas conocidas.\n",
    "\n",
    "3. Detección de patrones de acceso anormales a un sitio web: Para identificar abusos o errores, a menudo es útil encontrar patrones de acceso que sean diferentes de lo normal. Cada patrón anormal puede ser muy diferente y usted podría no tener ninguna instancia registrada de comportamiento anormal. En este ejemplo, solo se observa el tráfico y no sabe lo que constituye normal\n",
    "y comportamiento anormal."
   ]
  },
  {
   "cell_type": "markdown",
   "metadata": {
    "id": "adD6qliS_PTt"
   },
   "source": [
    "### ***Conocimiento del problema y de los datos.***\n",
    "\n",
    "\n",
    "La parte más importante del machine learning es comprender los datos con los que estamos trabajando y cómo se relacionan con la tarea que desea realizar. No será efectivo elegir aleatoriamente un algoritmo y arrojarle los datos. Es necesario comprender lo que está sucediendo en el dataset antes de comenzar a\n",
    "construir un modelo. Cada algoritmo es diferente en términos de qué tipo de datos y la configuración del problema para la que funciona mejor. \n",
    "\n",
    "Mientras se crea una solución de machine learning se debe tener en cuenta:\n",
    "\n",
    "- ¿Qué pregunta(s) se está tratando de responder? ¿Creo que los datos recopilados pueden responder esa pregunta?\n",
    "\n",
    "- ¿Cuál es la mejor manera de formular mis preguntas como un problema de machine learning?\n",
    "\n",
    "- ¿He recopilado suficientes datos para representar el problema que quiero resolver?\n",
    "\n",
    "- ¿Qué características de los datos extraje y permitirán las predicciones?\n",
    "\n",
    "- ¿Cómo mediré el éxito de mi solución?\n",
    "\n",
    "- ¿Cómo interactuará la solución de machine learning con otras partes de mi investigación o producto comercial?"
   ]
  },
  {
   "cell_type": "markdown",
   "metadata": {
    "id": "vH3ZDunlBbEg"
   },
   "source": [
    "### ***Python y [scikit-learn](https://scikit-learn.org/stable/)***\n",
    "\n",
    "#### ***Python:***\n",
    "\n",
    "Como lenguaje de programación de alto nivel, Python, se ha convertido en el lenguaje para muchas aplicaciones de ciencia de datos. Pues mezcla el poder de los lenguajes de programación de propósito general con la facilidad de uso de lenguajes de secuencias de comandos específicos como MATLAB o R. Además, Python tiene módulos para carga de datos, visualización, estadísticas, procesamiento de lenguaje natural, procesamiento de imágenes y más.  El machine learning y el análisis de datos son procesos fundamentalmente iterativos, en los que los datos impulsan el análisis. \n",
    "\n",
    "\n",
    "#### ***scikit-learn***\n",
    "\n",
    "Es un proyecto de código abierto y cualquiera puede obtener fácilmente el código fuente para ver qué sucede detrás de escena.  El proyecto _scikit-learn_ se desarrolla y mejora constantemente, y tiene una comunidad de usuarios muy activa. Contiene una serie de algoritmos de machine learning, así como documentación completa sobre cada algoritmo.\n",
    "\n",
    "_scikit-learn_ es una herramienta muy popular y la librería de Python más destacada para machine learning. Es ampliamente utilizada en la industria y la academia, y una gran cantidad de tutoriales y fragmentos de código están disponibles en línea. scikit-learn funciona bien con otras herramientas científicas de Python."
   ]
  },
  {
   "cell_type": "code",
   "execution_count": 1,
   "metadata": {
    "colab": {
     "base_uri": "https://localhost:8080/"
    },
    "executionInfo": {
     "elapsed": 289,
     "status": "ok",
     "timestamp": 1659667544894,
     "user": {
      "displayName": "Luis Andres Campos Maldonado",
      "userId": "15478348060554261231"
     },
     "user_tz": 300
    },
    "id": "1DU6T8DbF6p6",
    "outputId": "51307e26-8c99-433e-fa0c-9c758127608b"
   },
   "outputs": [
    {
     "name": "stdout",
     "output_type": "stream",
     "text": [
      "Python 3.10.12\r\n"
     ]
    }
   ],
   "source": [
    "## Version de python en Colab\n",
    "!python --version"
   ]
  },
  {
   "cell_type": "code",
   "execution_count": 2,
   "metadata": {
    "colab": {
     "base_uri": "https://localhost:8080/"
    },
    "executionInfo": {
     "elapsed": 2982,
     "status": "ok",
     "timestamp": 1659667548532,
     "user": {
      "displayName": "Luis Andres Campos Maldonado",
      "userId": "15478348060554261231"
     },
     "user_tz": 300
    },
    "id": "59CWapxeGPww",
    "outputId": "e4ed460a-d4b6-4826-8f66-f800eb2b4912"
   },
   "outputs": [
    {
     "name": "stdout",
     "output_type": "stream",
     "text": [
      "Name: pandas\r\n",
      "Version: 2.2.2\r\n",
      "Summary: Powerful data structures for data analysis, time series, and statistics\r\n",
      "Home-page: https://pandas.pydata.org\r\n",
      "Author: \r\n",
      "Author-email: The Pandas Development Team <pandas-dev@python.org>\r\n",
      "License: BSD 3-Clause License\r\n",
      "        \r\n",
      "        Copyright (c) 2008-2011, AQR Capital Management, LLC, Lambda Foundry, Inc. and PyData Development Team\r\n",
      "        All rights reserved.\r\n",
      "        \r\n",
      "        Copyright (c) 2011-2023, Open source contributors.\r\n",
      "        \r\n",
      "        Redistribution and use in source and binary forms, with or without\r\n",
      "        modification, are permitted provided that the following conditions are met:\r\n",
      "        \r\n",
      "        * Redistributions of source code must retain the above copyright notice, this\r\n",
      "          list of conditions and the following disclaimer.\r\n",
      "        \r\n",
      "        * Redistributions in binary form must reproduce the above copyright notice,\r\n",
      "          this list of conditions and the following disclaimer in the documentation\r\n",
      "          and/or other materials provided with the distribution.\r\n",
      "        \r\n",
      "        * Neither the name of the copyright holder nor the names of its\r\n",
      "          contributors may be used to endorse or promote products derived from\r\n",
      "          this software without specific prior written permission.\r\n",
      "        \r\n",
      "        THIS SOFTWARE IS PROVIDED BY THE COPYRIGHT HOLDERS AND CONTRIBUTORS \"AS IS\"\r\n",
      "        AND ANY EXPRESS OR IMPLIED WARRANTIES, INCLUDING, BUT NOT LIMITED TO, THE\r\n",
      "        IMPLIED WARRANTIES OF MERCHANTABILITY AND FITNESS FOR A PARTICULAR PURPOSE ARE\r\n",
      "        DISCLAIMED. IN NO EVENT SHALL THE COPYRIGHT HOLDER OR CONTRIBUTORS BE LIABLE\r\n",
      "        FOR ANY DIRECT, INDIRECT, INCIDENTAL, SPECIAL, EXEMPLARY, OR CONSEQUENTIAL\r\n",
      "        DAMAGES (INCLUDING, BUT NOT LIMITED TO, PROCUREMENT OF SUBSTITUTE GOODS OR\r\n",
      "        SERVICES; LOSS OF USE, DATA, OR PROFITS; OR BUSINESS INTERRUPTION) HOWEVER\r\n",
      "        CAUSED AND ON ANY THEORY OF LIABILITY, WHETHER IN CONTRACT, STRICT LIABILITY,\r\n",
      "        OR TORT (INCLUDING NEGLIGENCE OR OTHERWISE) ARISING IN ANY WAY OUT OF THE USE\r\n",
      "        OF THIS SOFTWARE, EVEN IF ADVISED OF THE POSSIBILITY OF SUCH DAMAGE.\r\n",
      "Location: /home/andres-campos/github_public/Metodos-Estadisticos/venv/lib/python3.10/site-packages\r\n",
      "Requires: numpy, python-dateutil, pytz, tzdata\r\n",
      "Required-by: catboost, category-encoders, factor_analyzer, mglearn, pandas-flavor, pingouin, prince, seaborn, statsmodels, sweetviz, xarray\r\n"
     ]
    }
   ],
   "source": [
    "## Version de pandas \n",
    "!pip show pandas"
   ]
  },
  {
   "cell_type": "code",
   "execution_count": 3,
   "metadata": {
    "colab": {
     "base_uri": "https://localhost:8080/"
    },
    "executionInfo": {
     "elapsed": 4299,
     "status": "ok",
     "timestamp": 1659667552825,
     "user": {
      "displayName": "Luis Andres Campos Maldonado",
      "userId": "15478348060554261231"
     },
     "user_tz": 300
    },
    "id": "OmAUG-R5FwNl",
    "outputId": "d839d094-ba28-4d5d-ff8e-708ac28f71f7"
   },
   "outputs": [
    {
     "name": "stdout",
     "output_type": "stream",
     "text": [
      "Name: numpy\r\n",
      "Version: 1.26.4\r\n",
      "Summary: Fundamental package for array computing in Python\r\n",
      "Home-page: https://numpy.org\r\n",
      "Author: Travis E. Oliphant et al.\r\n",
      "Author-email: \r\n",
      "License: Copyright (c) 2005-2023, NumPy Developers.\r\n",
      "        All rights reserved.\r\n",
      "        \r\n",
      "        Redistribution and use in source and binary forms, with or without\r\n",
      "        modification, are permitted provided that the following conditions are\r\n",
      "        met:\r\n",
      "        \r\n",
      "            * Redistributions of source code must retain the above copyright\r\n",
      "               notice, this list of conditions and the following disclaimer.\r\n",
      "        \r\n",
      "            * Redistributions in binary form must reproduce the above\r\n",
      "               copyright notice, this list of conditions and the following\r\n",
      "               disclaimer in the documentation and/or other materials provided\r\n",
      "               with the distribution.\r\n",
      "        \r\n",
      "            * Neither the name of the NumPy Developers nor the names of any\r\n",
      "               contributors may be used to endorse or promote products derived\r\n",
      "               from this software without specific prior written permission.\r\n",
      "        \r\n",
      "        THIS SOFTWARE IS PROVIDED BY THE COPYRIGHT HOLDERS AND CONTRIBUTORS\r\n",
      "        \"AS IS\" AND ANY EXPRESS OR IMPLIED WARRANTIES, INCLUDING, BUT NOT\r\n",
      "        LIMITED TO, THE IMPLIED WARRANTIES OF MERCHANTABILITY AND FITNESS FOR\r\n",
      "        A PARTICULAR PURPOSE ARE DISCLAIMED. IN NO EVENT SHALL THE COPYRIGHT\r\n",
      "        OWNER OR CONTRIBUTORS BE LIABLE FOR ANY DIRECT, INDIRECT, INCIDENTAL,\r\n",
      "        SPECIAL, EXEMPLARY, OR CONSEQUENTIAL DAMAGES (INCLUDING, BUT NOT\r\n",
      "        LIMITED TO, PROCUREMENT OF SUBSTITUTE GOODS OR SERVICES; LOSS OF USE,\r\n",
      "        DATA, OR PROFITS; OR BUSINESS INTERRUPTION) HOWEVER CAUSED AND ON ANY\r\n",
      "        THEORY OF LIABILITY, WHETHER IN CONTRACT, STRICT LIABILITY, OR TORT\r\n",
      "        (INCLUDING NEGLIGENCE OR OTHERWISE) ARISING IN ANY WAY OUT OF THE USE\r\n",
      "        OF THIS SOFTWARE, EVEN IF ADVISED OF THE POSSIBILITY OF SUCH DAMAGE.\r\n",
      "        \r\n",
      "        ----\r\n",
      "        \r\n",
      "        The NumPy repository and source distributions bundle several libraries that are\r\n",
      "        compatibly licensed.  We list these here.\r\n",
      "        \r\n",
      "        Name: lapack-lite\r\n",
      "        Files: numpy/linalg/lapack_lite/*\r\n",
      "        License: BSD-3-Clause\r\n",
      "          For details, see numpy/linalg/lapack_lite/LICENSE.txt\r\n",
      "        \r\n",
      "        Name: tempita\r\n",
      "        Files: tools/npy_tempita/*\r\n",
      "        License: MIT\r\n",
      "          For details, see tools/npy_tempita/license.txt\r\n",
      "        \r\n",
      "        Name: dragon4\r\n",
      "        Files: numpy/core/src/multiarray/dragon4.c\r\n",
      "        License: MIT\r\n",
      "          For license text, see numpy/core/src/multiarray/dragon4.c\r\n",
      "        \r\n",
      "        Name: libdivide\r\n",
      "        Files: numpy/core/include/numpy/libdivide/*\r\n",
      "        License: Zlib\r\n",
      "          For license text, see numpy/core/include/numpy/libdivide/LICENSE.txt\r\n",
      "        \r\n",
      "        \r\n",
      "        Note that the following files are vendored in the repository and sdist but not\r\n",
      "        installed in built numpy packages:\r\n",
      "        \r\n",
      "        Name: Meson\r\n",
      "        Files: vendored-meson/meson/*\r\n",
      "        License: Apache 2.0\r\n",
      "          For license text, see vendored-meson/meson/COPYING\r\n",
      "        \r\n",
      "        Name: spin\r\n",
      "        Files: .spin/cmds.py\r\n",
      "        License: BSD-3\r\n",
      "          For license text, see .spin/LICENSE\r\n",
      "        \r\n",
      "        ----\r\n",
      "        \r\n",
      "        This binary distribution of NumPy also bundles the following software:\r\n",
      "        \r\n",
      "        \r\n",
      "        Name: OpenBLAS\r\n",
      "        Files: numpy.libs/libopenblas*.so\r\n",
      "        Description: bundled as a dynamically linked library\r\n",
      "        Availability: https://github.com/OpenMathLib/OpenBLAS/\r\n",
      "        License: BSD-3-Clause\r\n",
      "          Copyright (c) 2011-2014, The OpenBLAS Project\r\n",
      "          All rights reserved.\r\n",
      "        \r\n",
      "          Redistribution and use in source and binary forms, with or without\r\n",
      "          modification, are permitted provided that the following conditions are\r\n",
      "          met:\r\n",
      "        \r\n",
      "             1. Redistributions of source code must retain the above copyright\r\n",
      "                notice, this list of conditions and the following disclaimer.\r\n",
      "        \r\n",
      "             2. Redistributions in binary form must reproduce the above copyright\r\n",
      "                notice, this list of conditions and the following disclaimer in\r\n",
      "                the documentation and/or other materials provided with the\r\n",
      "                distribution.\r\n",
      "             3. Neither the name of the OpenBLAS project nor the names of\r\n",
      "                its contributors may be used to endorse or promote products\r\n",
      "                derived from this software without specific prior written\r\n",
      "                permission.\r\n",
      "        \r\n",
      "          THIS SOFTWARE IS PROVIDED BY THE COPYRIGHT HOLDERS AND CONTRIBUTORS \"AS IS\"\r\n",
      "          AND ANY EXPRESS OR IMPLIED WARRANTIES, INCLUDING, BUT NOT LIMITED TO, THE\r\n",
      "          IMPLIED WARRANTIES OF MERCHANTABILITY AND FITNESS FOR A PARTICULAR PURPOSE\r\n",
      "          ARE DISCLAIMED. IN NO EVENT SHALL THE COPYRIGHT OWNER OR CONTRIBUTORS BE\r\n",
      "          LIABLE FOR ANY DIRECT, INDIRECT, INCIDENTAL, SPECIAL, EXEMPLARY, OR CONSEQUENTIAL\r\n",
      "          DAMAGES (INCLUDING, BUT NOT LIMITED TO, PROCUREMENT OF SUBSTITUTE GOODS OR\r\n",
      "          SERVICES; LOSS OF USE, DATA, OR PROFITS; OR BUSINESS INTERRUPTION) HOWEVER\r\n",
      "          CAUSED AND ON ANY THEORY OF LIABILITY, WHETHER IN CONTRACT, STRICT LIABILITY,\r\n",
      "          OR TORT (INCLUDING NEGLIGENCE OR OTHERWISE) ARISING IN ANY WAY OUT OF THE\r\n",
      "          USE OF THIS SOFTWARE, EVEN IF ADVISED OF THE POSSIBILITY OF SUCH DAMAGE.\r\n",
      "        \r\n",
      "        \r\n",
      "        Name: LAPACK\r\n",
      "        Files: numpy.libs/libopenblas*.so\r\n",
      "        Description: bundled in OpenBLAS\r\n",
      "        Availability: https://github.com/OpenMathLib/OpenBLAS/\r\n",
      "        License: BSD-3-Clause-Attribution\r\n",
      "          Copyright (c) 1992-2013 The University of Tennessee and The University\r\n",
      "                                  of Tennessee Research Foundation.  All rights\r\n",
      "                                  reserved.\r\n",
      "          Copyright (c) 2000-2013 The University of California Berkeley. All\r\n",
      "                                  rights reserved.\r\n",
      "          Copyright (c) 2006-2013 The University of Colorado Denver.  All rights\r\n",
      "                                  reserved.\r\n",
      "        \r\n",
      "          $COPYRIGHT$\r\n",
      "        \r\n",
      "          Additional copyrights may follow\r\n",
      "        \r\n",
      "          $HEADER$\r\n",
      "        \r\n",
      "          Redistribution and use in source and binary forms, with or without\r\n",
      "          modification, are permitted provided that the following conditions are\r\n",
      "          met:\r\n",
      "        \r\n",
      "          - Redistributions of source code must retain the above copyright\r\n",
      "            notice, this list of conditions and the following disclaimer.\r\n",
      "        \r\n",
      "          - Redistributions in binary form must reproduce the above copyright\r\n",
      "            notice, this list of conditions and the following disclaimer listed\r\n",
      "            in this license in the documentation and/or other materials\r\n",
      "            provided with the distribution.\r\n",
      "        \r\n",
      "          - Neither the name of the copyright holders nor the names of its\r\n",
      "            contributors may be used to endorse or promote products derived from\r\n",
      "            this software without specific prior written permission.\r\n",
      "        \r\n",
      "          The copyright holders provide no reassurances that the source code\r\n",
      "          provided does not infringe any patent, copyright, or any other\r\n",
      "          intellectual property rights of third parties.  The copyright holders\r\n",
      "          disclaim any liability to any recipient for claims brought against\r\n",
      "          recipient by any third party for infringement of that parties\r\n",
      "          intellectual property rights.\r\n",
      "        \r\n",
      "          THIS SOFTWARE IS PROVIDED BY THE COPYRIGHT HOLDERS AND CONTRIBUTORS\r\n",
      "          \"AS IS\" AND ANY EXPRESS OR IMPLIED WARRANTIES, INCLUDING, BUT NOT\r\n",
      "          LIMITED TO, THE IMPLIED WARRANTIES OF MERCHANTABILITY AND FITNESS FOR\r\n",
      "          A PARTICULAR PURPOSE ARE DISCLAIMED. IN NO EVENT SHALL THE COPYRIGHT\r\n",
      "          OWNER OR CONTRIBUTORS BE LIABLE FOR ANY DIRECT, INDIRECT, INCIDENTAL,\r\n",
      "          SPECIAL, EXEMPLARY, OR CONSEQUENTIAL DAMAGES (INCLUDING, BUT NOT\r\n",
      "          LIMITED TO, PROCUREMENT OF SUBSTITUTE GOODS OR SERVICES; LOSS OF USE,\r\n",
      "          DATA, OR PROFITS; OR BUSINESS INTERRUPTION) HOWEVER CAUSED AND ON ANY\r\n",
      "          THEORY OF LIABILITY, WHETHER IN CONTRACT, STRICT LIABILITY, OR TORT\r\n",
      "          (INCLUDING NEGLIGENCE OR OTHERWISE) ARISING IN ANY WAY OUT OF THE USE\r\n",
      "          OF THIS SOFTWARE, EVEN IF ADVISED OF THE POSSIBILITY OF SUCH DAMAGE.\r\n",
      "        \r\n",
      "        \r\n",
      "        Name: GCC runtime library\r\n",
      "        Files: numpy.libs/libgfortran*.so\r\n",
      "        Description: dynamically linked to files compiled with gcc\r\n",
      "        Availability: https://gcc.gnu.org/git/?p=gcc.git;a=tree;f=libgfortran\r\n",
      "        License: GPL-3.0-with-GCC-exception\r\n",
      "          Copyright (C) 2002-2017 Free Software Foundation, Inc.\r\n",
      "        \r\n",
      "          Libgfortran is free software; you can redistribute it and/or modify\r\n",
      "          it under the terms of the GNU General Public License as published by\r\n",
      "          the Free Software Foundation; either version 3, or (at your option)\r\n",
      "          any later version.\r\n",
      "        \r\n",
      "          Libgfortran is distributed in the hope that it will be useful,\r\n",
      "          but WITHOUT ANY WARRANTY; without even the implied warranty of\r\n",
      "          MERCHANTABILITY or FITNESS FOR A PARTICULAR PURPOSE.  See the\r\n",
      "          GNU General Public License for more details.\r\n",
      "        \r\n",
      "          Under Section 7 of GPL version 3, you are granted additional\r\n",
      "          permissions described in the GCC Runtime Library Exception, version\r\n",
      "          3.1, as published by the Free Software Foundation.\r\n",
      "        \r\n",
      "          You should have received a copy of the GNU General Public License and\r\n",
      "          a copy of the GCC Runtime Library Exception along with this program;\r\n",
      "          see the files COPYING3 and COPYING.RUNTIME respectively.  If not, see\r\n",
      "          <http://www.gnu.org/licenses/>.\r\n",
      "        \r\n",
      "        ----\r\n",
      "        \r\n",
      "        Full text of license texts referred to above follows (that they are\r\n",
      "        listed below does not necessarily imply the conditions apply to the\r\n",
      "        present binary release):\r\n",
      "        \r\n",
      "        ----\r\n",
      "        \r\n",
      "        GCC RUNTIME LIBRARY EXCEPTION\r\n",
      "        \r\n",
      "        Version 3.1, 31 March 2009\r\n",
      "        \r\n",
      "        Copyright (C) 2009 Free Software Foundation, Inc. <http://fsf.org/>\r\n",
      "        \r\n",
      "        Everyone is permitted to copy and distribute verbatim copies of this\r\n",
      "        license document, but changing it is not allowed.\r\n",
      "        \r\n",
      "        This GCC Runtime Library Exception (\"Exception\") is an additional\r\n",
      "        permission under section 7 of the GNU General Public License, version\r\n",
      "        3 (\"GPLv3\"). It applies to a given file (the \"Runtime Library\") that\r\n",
      "        bears a notice placed by the copyright holder of the file stating that\r\n",
      "        the file is governed by GPLv3 along with this Exception.\r\n",
      "        \r\n",
      "        When you use GCC to compile a program, GCC may combine portions of\r\n",
      "        certain GCC header files and runtime libraries with the compiled\r\n",
      "        program. The purpose of this Exception is to allow compilation of\r\n",
      "        non-GPL (including proprietary) programs to use, in this way, the\r\n",
      "        header files and runtime libraries covered by this Exception.\r\n",
      "        \r\n",
      "        0. Definitions.\r\n",
      "        \r\n",
      "        A file is an \"Independent Module\" if it either requires the Runtime\r\n",
      "        Library for execution after a Compilation Process, or makes use of an\r\n",
      "        interface provided by the Runtime Library, but is not otherwise based\r\n",
      "        on the Runtime Library.\r\n",
      "        \r\n",
      "        \"GCC\" means a version of the GNU Compiler Collection, with or without\r\n",
      "        modifications, governed by version 3 (or a specified later version) of\r\n",
      "        the GNU General Public License (GPL) with the option of using any\r\n",
      "        subsequent versions published by the FSF.\r\n",
      "        \r\n",
      "        \"GPL-compatible Software\" is software whose conditions of propagation,\r\n",
      "        modification and use would permit combination with GCC in accord with\r\n",
      "        the license of GCC.\r\n",
      "        \r\n",
      "        \"Target Code\" refers to output from any compiler for a real or virtual\r\n",
      "        target processor architecture, in executable form or suitable for\r\n",
      "        input to an assembler, loader, linker and/or execution\r\n",
      "        phase. Notwithstanding that, Target Code does not include data in any\r\n",
      "        format that is used as a compiler intermediate representation, or used\r\n",
      "        for producing a compiler intermediate representation.\r\n",
      "        \r\n",
      "        The \"Compilation Process\" transforms code entirely represented in\r\n",
      "        non-intermediate languages designed for human-written code, and/or in\r\n",
      "        Java Virtual Machine byte code, into Target Code. Thus, for example,\r\n",
      "        use of source code generators and preprocessors need not be considered\r\n",
      "        part of the Compilation Process, since the Compilation Process can be\r\n",
      "        understood as starting with the output of the generators or\r\n",
      "        preprocessors.\r\n",
      "        \r\n",
      "        A Compilation Process is \"Eligible\" if it is done using GCC, alone or\r\n",
      "        with other GPL-compatible software, or if it is done without using any\r\n",
      "        work based on GCC. For example, using non-GPL-compatible Software to\r\n",
      "        optimize any GCC intermediate representations would not qualify as an\r\n",
      "        Eligible Compilation Process.\r\n",
      "        \r\n",
      "        1. Grant of Additional Permission.\r\n",
      "        \r\n",
      "        You have permission to propagate a work of Target Code formed by\r\n",
      "        combining the Runtime Library with Independent Modules, even if such\r\n",
      "        propagation would otherwise violate the terms of GPLv3, provided that\r\n",
      "        all Target Code was generated by Eligible Compilation Processes. You\r\n",
      "        may then convey such a combination under terms of your choice,\r\n",
      "        consistent with the licensing of the Independent Modules.\r\n",
      "        \r\n",
      "        2. No Weakening of GCC Copyleft.\r\n",
      "        \r\n",
      "        The availability of this Exception does not imply any general\r\n",
      "        presumption that third-party software is unaffected by the copyleft\r\n",
      "        requirements of the license of GCC.\r\n",
      "        \r\n",
      "        ----\r\n",
      "        \r\n",
      "                            GNU GENERAL PUBLIC LICENSE\r\n",
      "                               Version 3, 29 June 2007\r\n",
      "        \r\n",
      "         Copyright (C) 2007 Free Software Foundation, Inc. <http://fsf.org/>\r\n",
      "         Everyone is permitted to copy and distribute verbatim copies\r\n",
      "         of this license document, but changing it is not allowed.\r\n",
      "        \r\n",
      "                                    Preamble\r\n",
      "        \r\n",
      "          The GNU General Public License is a free, copyleft license for\r\n",
      "        software and other kinds of works.\r\n",
      "        \r\n",
      "          The licenses for most software and other practical works are designed\r\n",
      "        to take away your freedom to share and change the works.  By contrast,\r\n",
      "        the GNU General Public License is intended to guarantee your freedom to\r\n",
      "        share and change all versions of a program--to make sure it remains free\r\n",
      "        software for all its users.  We, the Free Software Foundation, use the\r\n",
      "        GNU General Public License for most of our software; it applies also to\r\n",
      "        any other work released this way by its authors.  You can apply it to\r\n",
      "        your programs, too.\r\n",
      "        \r\n",
      "          When we speak of free software, we are referring to freedom, not\r\n",
      "        price.  Our General Public Licenses are designed to make sure that you\r\n",
      "        have the freedom to distribute copies of free software (and charge for\r\n",
      "        them if you wish), that you receive source code or can get it if you\r\n",
      "        want it, that you can change the software or use pieces of it in new\r\n",
      "        free programs, and that you know you can do these things.\r\n",
      "        \r\n",
      "          To protect your rights, we need to prevent others from denying you\r\n",
      "        these rights or asking you to surrender the rights.  Therefore, you have\r\n",
      "        certain responsibilities if you distribute copies of the software, or if\r\n",
      "        you modify it: responsibilities to respect the freedom of others.\r\n",
      "        \r\n",
      "          For example, if you distribute copies of such a program, whether\r\n",
      "        gratis or for a fee, you must pass on to the recipients the same\r\n",
      "        freedoms that you received.  You must make sure that they, too, receive\r\n",
      "        or can get the source code.  And you must show them these terms so they\r\n",
      "        know their rights.\r\n",
      "        \r\n",
      "          Developers that use the GNU GPL protect your rights with two steps:\r\n",
      "        (1) assert copyright on the software, and (2) offer you this License\r\n",
      "        giving you legal permission to copy, distribute and/or modify it.\r\n",
      "        \r\n",
      "          For the developers' and authors' protection, the GPL clearly explains\r\n",
      "        that there is no warranty for this free software.  For both users' and\r\n",
      "        authors' sake, the GPL requires that modified versions be marked as\r\n",
      "        changed, so that their problems will not be attributed erroneously to\r\n",
      "        authors of previous versions.\r\n",
      "        \r\n",
      "          Some devices are designed to deny users access to install or run\r\n",
      "        modified versions of the software inside them, although the manufacturer\r\n",
      "        can do so.  This is fundamentally incompatible with the aim of\r\n",
      "        protecting users' freedom to change the software.  The systematic\r\n",
      "        pattern of such abuse occurs in the area of products for individuals to\r\n",
      "        use, which is precisely where it is most unacceptable.  Therefore, we\r\n",
      "        have designed this version of the GPL to prohibit the practice for those\r\n",
      "        products.  If such problems arise substantially in other domains, we\r\n",
      "        stand ready to extend this provision to those domains in future versions\r\n",
      "        of the GPL, as needed to protect the freedom of users.\r\n",
      "        \r\n",
      "          Finally, every program is threatened constantly by software patents.\r\n",
      "        States should not allow patents to restrict development and use of\r\n",
      "        software on general-purpose computers, but in those that do, we wish to\r\n",
      "        avoid the special danger that patents applied to a free program could\r\n",
      "        make it effectively proprietary.  To prevent this, the GPL assures that\r\n",
      "        patents cannot be used to render the program non-free.\r\n",
      "        \r\n",
      "          The precise terms and conditions for copying, distribution and\r\n",
      "        modification follow.\r\n",
      "        \r\n",
      "                               TERMS AND CONDITIONS\r\n",
      "        \r\n",
      "          0. Definitions.\r\n",
      "        \r\n",
      "          \"This License\" refers to version 3 of the GNU General Public License.\r\n",
      "        \r\n",
      "          \"Copyright\" also means copyright-like laws that apply to other kinds of\r\n",
      "        works, such as semiconductor masks.\r\n",
      "        \r\n",
      "          \"The Program\" refers to any copyrightable work licensed under this\r\n",
      "        License.  Each licensee is addressed as \"you\".  \"Licensees\" and\r\n",
      "        \"recipients\" may be individuals or organizations.\r\n",
      "        \r\n",
      "          To \"modify\" a work means to copy from or adapt all or part of the work\r\n",
      "        in a fashion requiring copyright permission, other than the making of an\r\n",
      "        exact copy.  The resulting work is called a \"modified version\" of the\r\n",
      "        earlier work or a work \"based on\" the earlier work.\r\n",
      "        \r\n",
      "          A \"covered work\" means either the unmodified Program or a work based\r\n",
      "        on the Program.\r\n",
      "        \r\n",
      "          To \"propagate\" a work means to do anything with it that, without\r\n",
      "        permission, would make you directly or secondarily liable for\r\n",
      "        infringement under applicable copyright law, except executing it on a\r\n",
      "        computer or modifying a private copy.  Propagation includes copying,\r\n",
      "        distribution (with or without modification), making available to the\r\n",
      "        public, and in some countries other activities as well.\r\n",
      "        \r\n",
      "          To \"convey\" a work means any kind of propagation that enables other\r\n",
      "        parties to make or receive copies.  Mere interaction with a user through\r\n",
      "        a computer network, with no transfer of a copy, is not conveying.\r\n",
      "        \r\n",
      "          An interactive user interface displays \"Appropriate Legal Notices\"\r\n",
      "        to the extent that it includes a convenient and prominently visible\r\n",
      "        feature that (1) displays an appropriate copyright notice, and (2)\r\n",
      "        tells the user that there is no warranty for the work (except to the\r\n",
      "        extent that warranties are provided), that licensees may convey the\r\n",
      "        work under this License, and how to view a copy of this License.  If\r\n",
      "        the interface presents a list of user commands or options, such as a\r\n",
      "        menu, a prominent item in the list meets this criterion.\r\n",
      "        \r\n",
      "          1. Source Code.\r\n",
      "        \r\n",
      "          The \"source code\" for a work means the preferred form of the work\r\n",
      "        for making modifications to it.  \"Object code\" means any non-source\r\n",
      "        form of a work.\r\n",
      "        \r\n",
      "          A \"Standard Interface\" means an interface that either is an official\r\n",
      "        standard defined by a recognized standards body, or, in the case of\r\n",
      "        interfaces specified for a particular programming language, one that\r\n",
      "        is widely used among developers working in that language.\r\n",
      "        \r\n",
      "          The \"System Libraries\" of an executable work include anything, other\r\n",
      "        than the work as a whole, that (a) is included in the normal form of\r\n",
      "        packaging a Major Component, but which is not part of that Major\r\n",
      "        Component, and (b) serves only to enable use of the work with that\r\n",
      "        Major Component, or to implement a Standard Interface for which an\r\n",
      "        implementation is available to the public in source code form.  A\r\n",
      "        \"Major Component\", in this context, means a major essential component\r\n",
      "        (kernel, window system, and so on) of the specific operating system\r\n",
      "        (if any) on which the executable work runs, or a compiler used to\r\n",
      "        produce the work, or an object code interpreter used to run it.\r\n",
      "        \r\n",
      "          The \"Corresponding Source\" for a work in object code form means all\r\n",
      "        the source code needed to generate, install, and (for an executable\r\n",
      "        work) run the object code and to modify the work, including scripts to\r\n",
      "        control those activities.  However, it does not include the work's\r\n",
      "        System Libraries, or general-purpose tools or generally available free\r\n",
      "        programs which are used unmodified in performing those activities but\r\n",
      "        which are not part of the work.  For example, Corresponding Source\r\n",
      "        includes interface definition files associated with source files for\r\n",
      "        the work, and the source code for shared libraries and dynamically\r\n",
      "        linked subprograms that the work is specifically designed to require,\r\n",
      "        such as by intimate data communication or control flow between those\r\n",
      "        subprograms and other parts of the work.\r\n",
      "        \r\n",
      "          The Corresponding Source need not include anything that users\r\n",
      "        can regenerate automatically from other parts of the Corresponding\r\n",
      "        Source.\r\n",
      "        \r\n",
      "          The Corresponding Source for a work in source code form is that\r\n",
      "        same work.\r\n",
      "        \r\n",
      "          2. Basic Permissions.\r\n",
      "        \r\n",
      "          All rights granted under this License are granted for the term of\r\n",
      "        copyright on the Program, and are irrevocable provided the stated\r\n",
      "        conditions are met.  This License explicitly affirms your unlimited\r\n",
      "        permission to run the unmodified Program.  The output from running a\r\n",
      "        covered work is covered by this License only if the output, given its\r\n",
      "        content, constitutes a covered work.  This License acknowledges your\r\n",
      "        rights of fair use or other equivalent, as provided by copyright law.\r\n",
      "        \r\n",
      "          You may make, run and propagate covered works that you do not\r\n",
      "        convey, without conditions so long as your license otherwise remains\r\n",
      "        in force.  You may convey covered works to others for the sole purpose\r\n",
      "        of having them make modifications exclusively for you, or provide you\r\n",
      "        with facilities for running those works, provided that you comply with\r\n",
      "        the terms of this License in conveying all material for which you do\r\n",
      "        not control copyright.  Those thus making or running the covered works\r\n",
      "        for you must do so exclusively on your behalf, under your direction\r\n",
      "        and control, on terms that prohibit them from making any copies of\r\n",
      "        your copyrighted material outside their relationship with you.\r\n",
      "        \r\n",
      "          Conveying under any other circumstances is permitted solely under\r\n",
      "        the conditions stated below.  Sublicensing is not allowed; section 10\r\n",
      "        makes it unnecessary.\r\n",
      "        \r\n",
      "          3. Protecting Users' Legal Rights From Anti-Circumvention Law.\r\n",
      "        \r\n",
      "          No covered work shall be deemed part of an effective technological\r\n",
      "        measure under any applicable law fulfilling obligations under article\r\n",
      "        11 of the WIPO copyright treaty adopted on 20 December 1996, or\r\n",
      "        similar laws prohibiting or restricting circumvention of such\r\n",
      "        measures.\r\n",
      "        \r\n",
      "          When you convey a covered work, you waive any legal power to forbid\r\n",
      "        circumvention of technological measures to the extent such circumvention\r\n",
      "        is effected by exercising rights under this License with respect to\r\n",
      "        the covered work, and you disclaim any intention to limit operation or\r\n",
      "        modification of the work as a means of enforcing, against the work's\r\n",
      "        users, your or third parties' legal rights to forbid circumvention of\r\n",
      "        technological measures.\r\n",
      "        \r\n",
      "          4. Conveying Verbatim Copies.\r\n",
      "        \r\n",
      "          You may convey verbatim copies of the Program's source code as you\r\n",
      "        receive it, in any medium, provided that you conspicuously and\r\n",
      "        appropriately publish on each copy an appropriate copyright notice;\r\n",
      "        keep intact all notices stating that this License and any\r\n",
      "        non-permissive terms added in accord with section 7 apply to the code;\r\n",
      "        keep intact all notices of the absence of any warranty; and give all\r\n",
      "        recipients a copy of this License along with the Program.\r\n",
      "        \r\n",
      "          You may charge any price or no price for each copy that you convey,\r\n",
      "        and you may offer support or warranty protection for a fee.\r\n",
      "        \r\n",
      "          5. Conveying Modified Source Versions.\r\n",
      "        \r\n",
      "          You may convey a work based on the Program, or the modifications to\r\n",
      "        produce it from the Program, in the form of source code under the\r\n",
      "        terms of section 4, provided that you also meet all of these conditions:\r\n",
      "        \r\n",
      "            a) The work must carry prominent notices stating that you modified\r\n",
      "            it, and giving a relevant date.\r\n",
      "        \r\n",
      "            b) The work must carry prominent notices stating that it is\r\n",
      "            released under this License and any conditions added under section\r\n",
      "            7.  This requirement modifies the requirement in section 4 to\r\n",
      "            \"keep intact all notices\".\r\n",
      "        \r\n",
      "            c) You must license the entire work, as a whole, under this\r\n",
      "            License to anyone who comes into possession of a copy.  This\r\n",
      "            License will therefore apply, along with any applicable section 7\r\n",
      "            additional terms, to the whole of the work, and all its parts,\r\n",
      "            regardless of how they are packaged.  This License gives no\r\n",
      "            permission to license the work in any other way, but it does not\r\n",
      "            invalidate such permission if you have separately received it.\r\n",
      "        \r\n",
      "            d) If the work has interactive user interfaces, each must display\r\n",
      "            Appropriate Legal Notices; however, if the Program has interactive\r\n",
      "            interfaces that do not display Appropriate Legal Notices, your\r\n",
      "            work need not make them do so.\r\n",
      "        \r\n",
      "          A compilation of a covered work with other separate and independent\r\n",
      "        works, which are not by their nature extensions of the covered work,\r\n",
      "        and which are not combined with it such as to form a larger program,\r\n",
      "        in or on a volume of a storage or distribution medium, is called an\r\n",
      "        \"aggregate\" if the compilation and its resulting copyright are not\r\n",
      "        used to limit the access or legal rights of the compilation's users\r\n",
      "        beyond what the individual works permit.  Inclusion of a covered work\r\n",
      "        in an aggregate does not cause this License to apply to the other\r\n",
      "        parts of the aggregate.\r\n",
      "        \r\n",
      "          6. Conveying Non-Source Forms.\r\n",
      "        \r\n",
      "          You may convey a covered work in object code form under the terms\r\n",
      "        of sections 4 and 5, provided that you also convey the\r\n",
      "        machine-readable Corresponding Source under the terms of this License,\r\n",
      "        in one of these ways:\r\n",
      "        \r\n",
      "            a) Convey the object code in, or embodied in, a physical product\r\n",
      "            (including a physical distribution medium), accompanied by the\r\n",
      "            Corresponding Source fixed on a durable physical medium\r\n",
      "            customarily used for software interchange.\r\n",
      "        \r\n",
      "            b) Convey the object code in, or embodied in, a physical product\r\n",
      "            (including a physical distribution medium), accompanied by a\r\n",
      "            written offer, valid for at least three years and valid for as\r\n",
      "            long as you offer spare parts or customer support for that product\r\n",
      "            model, to give anyone who possesses the object code either (1) a\r\n",
      "            copy of the Corresponding Source for all the software in the\r\n",
      "            product that is covered by this License, on a durable physical\r\n",
      "            medium customarily used for software interchange, for a price no\r\n",
      "            more than your reasonable cost of physically performing this\r\n",
      "            conveying of source, or (2) access to copy the\r\n",
      "            Corresponding Source from a network server at no charge.\r\n",
      "        \r\n",
      "            c) Convey individual copies of the object code with a copy of the\r\n",
      "            written offer to provide the Corresponding Source.  This\r\n",
      "            alternative is allowed only occasionally and noncommercially, and\r\n",
      "            only if you received the object code with such an offer, in accord\r\n",
      "            with subsection 6b.\r\n",
      "        \r\n",
      "            d) Convey the object code by offering access from a designated\r\n",
      "            place (gratis or for a charge), and offer equivalent access to the\r\n",
      "            Corresponding Source in the same way through the same place at no\r\n",
      "            further charge.  You need not require recipients to copy the\r\n",
      "            Corresponding Source along with the object code.  If the place to\r\n",
      "            copy the object code is a network server, the Corresponding Source\r\n",
      "            may be on a different server (operated by you or a third party)\r\n",
      "            that supports equivalent copying facilities, provided you maintain\r\n",
      "            clear directions next to the object code saying where to find the\r\n",
      "            Corresponding Source.  Regardless of what server hosts the\r\n",
      "            Corresponding Source, you remain obligated to ensure that it is\r\n",
      "            available for as long as needed to satisfy these requirements.\r\n",
      "        \r\n",
      "            e) Convey the object code using peer-to-peer transmission, provided\r\n",
      "            you inform other peers where the object code and Corresponding\r\n",
      "            Source of the work are being offered to the general public at no\r\n",
      "            charge under subsection 6d.\r\n",
      "        \r\n",
      "          A separable portion of the object code, whose source code is excluded\r\n",
      "        from the Corresponding Source as a System Library, need not be\r\n",
      "        included in conveying the object code work.\r\n",
      "        \r\n",
      "          A \"User Product\" is either (1) a \"consumer product\", which means any\r\n",
      "        tangible personal property which is normally used for personal, family,\r\n",
      "        or household purposes, or (2) anything designed or sold for incorporation\r\n",
      "        into a dwelling.  In determining whether a product is a consumer product,\r\n",
      "        doubtful cases shall be resolved in favor of coverage.  For a particular\r\n",
      "        product received by a particular user, \"normally used\" refers to a\r\n",
      "        typical or common use of that class of product, regardless of the status\r\n",
      "        of the particular user or of the way in which the particular user\r\n",
      "        actually uses, or expects or is expected to use, the product.  A product\r\n",
      "        is a consumer product regardless of whether the product has substantial\r\n",
      "        commercial, industrial or non-consumer uses, unless such uses represent\r\n",
      "        the only significant mode of use of the product.\r\n",
      "        \r\n",
      "          \"Installation Information\" for a User Product means any methods,\r\n",
      "        procedures, authorization keys, or other information required to install\r\n",
      "        and execute modified versions of a covered work in that User Product from\r\n",
      "        a modified version of its Corresponding Source.  The information must\r\n",
      "        suffice to ensure that the continued functioning of the modified object\r\n",
      "        code is in no case prevented or interfered with solely because\r\n",
      "        modification has been made.\r\n",
      "        \r\n",
      "          If you convey an object code work under this section in, or with, or\r\n",
      "        specifically for use in, a User Product, and the conveying occurs as\r\n",
      "        part of a transaction in which the right of possession and use of the\r\n",
      "        User Product is transferred to the recipient in perpetuity or for a\r\n",
      "        fixed term (regardless of how the transaction is characterized), the\r\n",
      "        Corresponding Source conveyed under this section must be accompanied\r\n",
      "        by the Installation Information.  But this requirement does not apply\r\n",
      "        if neither you nor any third party retains the ability to install\r\n",
      "        modified object code on the User Product (for example, the work has\r\n",
      "        been installed in ROM).\r\n",
      "        \r\n",
      "          The requirement to provide Installation Information does not include a\r\n",
      "        requirement to continue to provide support service, warranty, or updates\r\n",
      "        for a work that has been modified or installed by the recipient, or for\r\n",
      "        the User Product in which it has been modified or installed.  Access to a\r\n",
      "        network may be denied when the modification itself materially and\r\n",
      "        adversely affects the operation of the network or violates the rules and\r\n",
      "        protocols for communication across the network.\r\n",
      "        \r\n",
      "          Corresponding Source conveyed, and Installation Information provided,\r\n",
      "        in accord with this section must be in a format that is publicly\r\n",
      "        documented (and with an implementation available to the public in\r\n",
      "        source code form), and must require no special password or key for\r\n",
      "        unpacking, reading or copying.\r\n",
      "        \r\n",
      "          7. Additional Terms.\r\n",
      "        \r\n",
      "          \"Additional permissions\" are terms that supplement the terms of this\r\n",
      "        License by making exceptions from one or more of its conditions.\r\n",
      "        Additional permissions that are applicable to the entire Program shall\r\n",
      "        be treated as though they were included in this License, to the extent\r\n",
      "        that they are valid under applicable law.  If additional permissions\r\n",
      "        apply only to part of the Program, that part may be used separately\r\n",
      "        under those permissions, but the entire Program remains governed by\r\n",
      "        this License without regard to the additional permissions.\r\n",
      "        \r\n",
      "          When you convey a copy of a covered work, you may at your option\r\n",
      "        remove any additional permissions from that copy, or from any part of\r\n",
      "        it.  (Additional permissions may be written to require their own\r\n",
      "        removal in certain cases when you modify the work.)  You may place\r\n",
      "        additional permissions on material, added by you to a covered work,\r\n",
      "        for which you have or can give appropriate copyright permission.\r\n",
      "        \r\n",
      "          Notwithstanding any other provision of this License, for material you\r\n",
      "        add to a covered work, you may (if authorized by the copyright holders of\r\n",
      "        that material) supplement the terms of this License with terms:\r\n",
      "        \r\n",
      "            a) Disclaiming warranty or limiting liability differently from the\r\n",
      "            terms of sections 15 and 16 of this License; or\r\n",
      "        \r\n",
      "            b) Requiring preservation of specified reasonable legal notices or\r\n",
      "            author attributions in that material or in the Appropriate Legal\r\n",
      "            Notices displayed by works containing it; or\r\n",
      "        \r\n",
      "            c) Prohibiting misrepresentation of the origin of that material, or\r\n",
      "            requiring that modified versions of such material be marked in\r\n",
      "            reasonable ways as different from the original version; or\r\n",
      "        \r\n",
      "            d) Limiting the use for publicity purposes of names of licensors or\r\n",
      "            authors of the material; or\r\n",
      "        \r\n",
      "            e) Declining to grant rights under trademark law for use of some\r\n",
      "            trade names, trademarks, or service marks; or\r\n",
      "        \r\n",
      "            f) Requiring indemnification of licensors and authors of that\r\n",
      "            material by anyone who conveys the material (or modified versions of\r\n",
      "            it) with contractual assumptions of liability to the recipient, for\r\n",
      "            any liability that these contractual assumptions directly impose on\r\n",
      "            those licensors and authors.\r\n",
      "        \r\n",
      "          All other non-permissive additional terms are considered \"further\r\n",
      "        restrictions\" within the meaning of section 10.  If the Program as you\r\n",
      "        received it, or any part of it, contains a notice stating that it is\r\n",
      "        governed by this License along with a term that is a further\r\n",
      "        restriction, you may remove that term.  If a license document contains\r\n",
      "        a further restriction but permits relicensing or conveying under this\r\n",
      "        License, you may add to a covered work material governed by the terms\r\n",
      "        of that license document, provided that the further restriction does\r\n",
      "        not survive such relicensing or conveying.\r\n",
      "        \r\n",
      "          If you add terms to a covered work in accord with this section, you\r\n",
      "        must place, in the relevant source files, a statement of the\r\n",
      "        additional terms that apply to those files, or a notice indicating\r\n",
      "        where to find the applicable terms.\r\n",
      "        \r\n",
      "          Additional terms, permissive or non-permissive, may be stated in the\r\n",
      "        form of a separately written license, or stated as exceptions;\r\n",
      "        the above requirements apply either way.\r\n",
      "        \r\n",
      "          8. Termination.\r\n",
      "        \r\n",
      "          You may not propagate or modify a covered work except as expressly\r\n",
      "        provided under this License.  Any attempt otherwise to propagate or\r\n",
      "        modify it is void, and will automatically terminate your rights under\r\n",
      "        this License (including any patent licenses granted under the third\r\n",
      "        paragraph of section 11).\r\n",
      "        \r\n",
      "          However, if you cease all violation of this License, then your\r\n",
      "        license from a particular copyright holder is reinstated (a)\r\n",
      "        provisionally, unless and until the copyright holder explicitly and\r\n",
      "        finally terminates your license, and (b) permanently, if the copyright\r\n",
      "        holder fails to notify you of the violation by some reasonable means\r\n",
      "        prior to 60 days after the cessation.\r\n",
      "        \r\n",
      "          Moreover, your license from a particular copyright holder is\r\n",
      "        reinstated permanently if the copyright holder notifies you of the\r\n",
      "        violation by some reasonable means, this is the first time you have\r\n",
      "        received notice of violation of this License (for any work) from that\r\n",
      "        copyright holder, and you cure the violation prior to 30 days after\r\n",
      "        your receipt of the notice.\r\n",
      "        \r\n",
      "          Termination of your rights under this section does not terminate the\r\n",
      "        licenses of parties who have received copies or rights from you under\r\n",
      "        this License.  If your rights have been terminated and not permanently\r\n",
      "        reinstated, you do not qualify to receive new licenses for the same\r\n",
      "        material under section 10.\r\n",
      "        \r\n",
      "          9. Acceptance Not Required for Having Copies.\r\n",
      "        \r\n",
      "          You are not required to accept this License in order to receive or\r\n",
      "        run a copy of the Program.  Ancillary propagation of a covered work\r\n",
      "        occurring solely as a consequence of using peer-to-peer transmission\r\n",
      "        to receive a copy likewise does not require acceptance.  However,\r\n",
      "        nothing other than this License grants you permission to propagate or\r\n",
      "        modify any covered work.  These actions infringe copyright if you do\r\n",
      "        not accept this License.  Therefore, by modifying or propagating a\r\n",
      "        covered work, you indicate your acceptance of this License to do so.\r\n",
      "        \r\n",
      "          10. Automatic Licensing of Downstream Recipients.\r\n",
      "        \r\n",
      "          Each time you convey a covered work, the recipient automatically\r\n",
      "        receives a license from the original licensors, to run, modify and\r\n",
      "        propagate that work, subject to this License.  You are not responsible\r\n",
      "        for enforcing compliance by third parties with this License.\r\n",
      "        \r\n",
      "          An \"entity transaction\" is a transaction transferring control of an\r\n",
      "        organization, or substantially all assets of one, or subdividing an\r\n",
      "        organization, or merging organizations.  If propagation of a covered\r\n",
      "        work results from an entity transaction, each party to that\r\n",
      "        transaction who receives a copy of the work also receives whatever\r\n",
      "        licenses to the work the party's predecessor in interest had or could\r\n",
      "        give under the previous paragraph, plus a right to possession of the\r\n",
      "        Corresponding Source of the work from the predecessor in interest, if\r\n",
      "        the predecessor has it or can get it with reasonable efforts.\r\n",
      "        \r\n",
      "          You may not impose any further restrictions on the exercise of the\r\n",
      "        rights granted or affirmed under this License.  For example, you may\r\n",
      "        not impose a license fee, royalty, or other charge for exercise of\r\n",
      "        rights granted under this License, and you may not initiate litigation\r\n",
      "        (including a cross-claim or counterclaim in a lawsuit) alleging that\r\n",
      "        any patent claim is infringed by making, using, selling, offering for\r\n",
      "        sale, or importing the Program or any portion of it.\r\n",
      "        \r\n",
      "          11. Patents.\r\n",
      "        \r\n",
      "          A \"contributor\" is a copyright holder who authorizes use under this\r\n",
      "        License of the Program or a work on which the Program is based.  The\r\n",
      "        work thus licensed is called the contributor's \"contributor version\".\r\n",
      "        \r\n",
      "          A contributor's \"essential patent claims\" are all patent claims\r\n",
      "        owned or controlled by the contributor, whether already acquired or\r\n",
      "        hereafter acquired, that would be infringed by some manner, permitted\r\n",
      "        by this License, of making, using, or selling its contributor version,\r\n",
      "        but do not include claims that would be infringed only as a\r\n",
      "        consequence of further modification of the contributor version.  For\r\n",
      "        purposes of this definition, \"control\" includes the right to grant\r\n",
      "        patent sublicenses in a manner consistent with the requirements of\r\n",
      "        this License.\r\n",
      "        \r\n",
      "          Each contributor grants you a non-exclusive, worldwide, royalty-free\r\n",
      "        patent license under the contributor's essential patent claims, to\r\n",
      "        make, use, sell, offer for sale, import and otherwise run, modify and\r\n",
      "        propagate the contents of its contributor version.\r\n",
      "        \r\n",
      "          In the following three paragraphs, a \"patent license\" is any express\r\n",
      "        agreement or commitment, however denominated, not to enforce a patent\r\n",
      "        (such as an express permission to practice a patent or covenant not to\r\n",
      "        sue for patent infringement).  To \"grant\" such a patent license to a\r\n",
      "        party means to make such an agreement or commitment not to enforce a\r\n",
      "        patent against the party.\r\n",
      "        \r\n",
      "          If you convey a covered work, knowingly relying on a patent license,\r\n",
      "        and the Corresponding Source of the work is not available for anyone\r\n",
      "        to copy, free of charge and under the terms of this License, through a\r\n",
      "        publicly available network server or other readily accessible means,\r\n",
      "        then you must either (1) cause the Corresponding Source to be so\r\n",
      "        available, or (2) arrange to deprive yourself of the benefit of the\r\n",
      "        patent license for this particular work, or (3) arrange, in a manner\r\n",
      "        consistent with the requirements of this License, to extend the patent\r\n",
      "        license to downstream recipients.  \"Knowingly relying\" means you have\r\n",
      "        actual knowledge that, but for the patent license, your conveying the\r\n",
      "        covered work in a country, or your recipient's use of the covered work\r\n",
      "        in a country, would infringe one or more identifiable patents in that\r\n",
      "        country that you have reason to believe are valid.\r\n",
      "        \r\n",
      "          If, pursuant to or in connection with a single transaction or\r\n",
      "        arrangement, you convey, or propagate by procuring conveyance of, a\r\n",
      "        covered work, and grant a patent license to some of the parties\r\n",
      "        receiving the covered work authorizing them to use, propagate, modify\r\n",
      "        or convey a specific copy of the covered work, then the patent license\r\n",
      "        you grant is automatically extended to all recipients of the covered\r\n",
      "        work and works based on it.\r\n",
      "        \r\n",
      "          A patent license is \"discriminatory\" if it does not include within\r\n",
      "        the scope of its coverage, prohibits the exercise of, or is\r\n",
      "        conditioned on the non-exercise of one or more of the rights that are\r\n",
      "        specifically granted under this License.  You may not convey a covered\r\n",
      "        work if you are a party to an arrangement with a third party that is\r\n",
      "        in the business of distributing software, under which you make payment\r\n",
      "        to the third party based on the extent of your activity of conveying\r\n",
      "        the work, and under which the third party grants, to any of the\r\n",
      "        parties who would receive the covered work from you, a discriminatory\r\n",
      "        patent license (a) in connection with copies of the covered work\r\n",
      "        conveyed by you (or copies made from those copies), or (b) primarily\r\n",
      "        for and in connection with specific products or compilations that\r\n",
      "        contain the covered work, unless you entered into that arrangement,\r\n",
      "        or that patent license was granted, prior to 28 March 2007.\r\n",
      "        \r\n",
      "          Nothing in this License shall be construed as excluding or limiting\r\n",
      "        any implied license or other defenses to infringement that may\r\n",
      "        otherwise be available to you under applicable patent law.\r\n",
      "        \r\n",
      "          12. No Surrender of Others' Freedom.\r\n",
      "        \r\n",
      "          If conditions are imposed on you (whether by court order, agreement or\r\n",
      "        otherwise) that contradict the conditions of this License, they do not\r\n",
      "        excuse you from the conditions of this License.  If you cannot convey a\r\n",
      "        covered work so as to satisfy simultaneously your obligations under this\r\n",
      "        License and any other pertinent obligations, then as a consequence you may\r\n",
      "        not convey it at all.  For example, if you agree to terms that obligate you\r\n",
      "        to collect a royalty for further conveying from those to whom you convey\r\n",
      "        the Program, the only way you could satisfy both those terms and this\r\n",
      "        License would be to refrain entirely from conveying the Program.\r\n",
      "        \r\n",
      "          13. Use with the GNU Affero General Public License.\r\n",
      "        \r\n",
      "          Notwithstanding any other provision of this License, you have\r\n",
      "        permission to link or combine any covered work with a work licensed\r\n",
      "        under version 3 of the GNU Affero General Public License into a single\r\n",
      "        combined work, and to convey the resulting work.  The terms of this\r\n",
      "        License will continue to apply to the part which is the covered work,\r\n",
      "        but the special requirements of the GNU Affero General Public License,\r\n",
      "        section 13, concerning interaction through a network will apply to the\r\n",
      "        combination as such.\r\n",
      "        \r\n",
      "          14. Revised Versions of this License.\r\n",
      "        \r\n",
      "          The Free Software Foundation may publish revised and/or new versions of\r\n",
      "        the GNU General Public License from time to time.  Such new versions will\r\n",
      "        be similar in spirit to the present version, but may differ in detail to\r\n",
      "        address new problems or concerns.\r\n",
      "        \r\n",
      "          Each version is given a distinguishing version number.  If the\r\n",
      "        Program specifies that a certain numbered version of the GNU General\r\n",
      "        Public License \"or any later version\" applies to it, you have the\r\n",
      "        option of following the terms and conditions either of that numbered\r\n",
      "        version or of any later version published by the Free Software\r\n",
      "        Foundation.  If the Program does not specify a version number of the\r\n",
      "        GNU General Public License, you may choose any version ever published\r\n",
      "        by the Free Software Foundation.\r\n",
      "        \r\n",
      "          If the Program specifies that a proxy can decide which future\r\n",
      "        versions of the GNU General Public License can be used, that proxy's\r\n",
      "        public statement of acceptance of a version permanently authorizes you\r\n",
      "        to choose that version for the Program.\r\n",
      "        \r\n",
      "          Later license versions may give you additional or different\r\n",
      "        permissions.  However, no additional obligations are imposed on any\r\n",
      "        author or copyright holder as a result of your choosing to follow a\r\n",
      "        later version.\r\n",
      "        \r\n",
      "          15. Disclaimer of Warranty.\r\n",
      "        \r\n",
      "          THERE IS NO WARRANTY FOR THE PROGRAM, TO THE EXTENT PERMITTED BY\r\n",
      "        APPLICABLE LAW.  EXCEPT WHEN OTHERWISE STATED IN WRITING THE COPYRIGHT\r\n",
      "        HOLDERS AND/OR OTHER PARTIES PROVIDE THE PROGRAM \"AS IS\" WITHOUT WARRANTY\r\n",
      "        OF ANY KIND, EITHER EXPRESSED OR IMPLIED, INCLUDING, BUT NOT LIMITED TO,\r\n",
      "        THE IMPLIED WARRANTIES OF MERCHANTABILITY AND FITNESS FOR A PARTICULAR\r\n",
      "        PURPOSE.  THE ENTIRE RISK AS TO THE QUALITY AND PERFORMANCE OF THE PROGRAM\r\n",
      "        IS WITH YOU.  SHOULD THE PROGRAM PROVE DEFECTIVE, YOU ASSUME THE COST OF\r\n",
      "        ALL NECESSARY SERVICING, REPAIR OR CORRECTION.\r\n",
      "        \r\n",
      "          16. Limitation of Liability.\r\n",
      "        \r\n",
      "          IN NO EVENT UNLESS REQUIRED BY APPLICABLE LAW OR AGREED TO IN WRITING\r\n",
      "        WILL ANY COPYRIGHT HOLDER, OR ANY OTHER PARTY WHO MODIFIES AND/OR CONVEYS\r\n",
      "        THE PROGRAM AS PERMITTED ABOVE, BE LIABLE TO YOU FOR DAMAGES, INCLUDING ANY\r\n",
      "        GENERAL, SPECIAL, INCIDENTAL OR CONSEQUENTIAL DAMAGES ARISING OUT OF THE\r\n",
      "        USE OR INABILITY TO USE THE PROGRAM (INCLUDING BUT NOT LIMITED TO LOSS OF\r\n",
      "        DATA OR DATA BEING RENDERED INACCURATE OR LOSSES SUSTAINED BY YOU OR THIRD\r\n",
      "        PARTIES OR A FAILURE OF THE PROGRAM TO OPERATE WITH ANY OTHER PROGRAMS),\r\n",
      "        EVEN IF SUCH HOLDER OR OTHER PARTY HAS BEEN ADVISED OF THE POSSIBILITY OF\r\n",
      "        SUCH DAMAGES.\r\n",
      "        \r\n",
      "          17. Interpretation of Sections 15 and 16.\r\n",
      "        \r\n",
      "          If the disclaimer of warranty and limitation of liability provided\r\n",
      "        above cannot be given local legal effect according to their terms,\r\n",
      "        reviewing courts shall apply local law that most closely approximates\r\n",
      "        an absolute waiver of all civil liability in connection with the\r\n",
      "        Program, unless a warranty or assumption of liability accompanies a\r\n",
      "        copy of the Program in return for a fee.\r\n",
      "        \r\n",
      "                             END OF TERMS AND CONDITIONS\r\n",
      "        \r\n",
      "                    How to Apply These Terms to Your New Programs\r\n",
      "        \r\n",
      "          If you develop a new program, and you want it to be of the greatest\r\n",
      "        possible use to the public, the best way to achieve this is to make it\r\n",
      "        free software which everyone can redistribute and change under these terms.\r\n",
      "        \r\n",
      "          To do so, attach the following notices to the program.  It is safest\r\n",
      "        to attach them to the start of each source file to most effectively\r\n",
      "        state the exclusion of warranty; and each file should have at least\r\n",
      "        the \"copyright\" line and a pointer to where the full notice is found.\r\n",
      "        \r\n",
      "            <one line to give the program's name and a brief idea of what it does.>\r\n",
      "            Copyright (C) <year>  <name of author>\r\n",
      "        \r\n",
      "            This program is free software: you can redistribute it and/or modify\r\n",
      "            it under the terms of the GNU General Public License as published by\r\n",
      "            the Free Software Foundation, either version 3 of the License, or\r\n",
      "            (at your option) any later version.\r\n",
      "        \r\n",
      "            This program is distributed in the hope that it will be useful,\r\n",
      "            but WITHOUT ANY WARRANTY; without even the implied warranty of\r\n",
      "            MERCHANTABILITY or FITNESS FOR A PARTICULAR PURPOSE.  See the\r\n",
      "            GNU General Public License for more details.\r\n",
      "        \r\n",
      "            You should have received a copy of the GNU General Public License\r\n",
      "            along with this program.  If not, see <http://www.gnu.org/licenses/>.\r\n",
      "        \r\n",
      "        Also add information on how to contact you by electronic and paper mail.\r\n",
      "        \r\n",
      "          If the program does terminal interaction, make it output a short\r\n",
      "        notice like this when it starts in an interactive mode:\r\n",
      "        \r\n",
      "            <program>  Copyright (C) <year>  <name of author>\r\n",
      "            This program comes with ABSOLUTELY NO WARRANTY; for details type `show w'.\r\n",
      "            This is free software, and you are welcome to redistribute it\r\n",
      "            under certain conditions; type `show c' for details.\r\n",
      "        \r\n",
      "        The hypothetical commands `show w' and `show c' should show the appropriate\r\n",
      "        parts of the General Public License.  Of course, your program's commands\r\n",
      "        might be different; for a GUI interface, you would use an \"about box\".\r\n",
      "        \r\n",
      "          You should also get your employer (if you work as a programmer) or school,\r\n",
      "        if any, to sign a \"copyright disclaimer\" for the program, if necessary.\r\n",
      "        For more information on this, and how to apply and follow the GNU GPL, see\r\n",
      "        <http://www.gnu.org/licenses/>.\r\n",
      "        \r\n",
      "          The GNU General Public License does not permit incorporating your program\r\n",
      "        into proprietary programs.  If your program is a subroutine library, you\r\n",
      "        may consider it more useful to permit linking proprietary applications with\r\n",
      "        the library.  If this is what you want to do, use the GNU Lesser General\r\n",
      "        Public License instead of this License.  But first, please read\r\n",
      "        <http://www.gnu.org/philosophy/why-not-lgpl.html>.\r\n",
      "        \r\n",
      "        Name: libquadmath\r\n",
      "        Files: numpy.libs/libquadmath*.so\r\n",
      "        Description: dynamically linked to files compiled with gcc\r\n",
      "        Availability: https://gcc.gnu.org/git/?p=gcc.git;a=tree;f=libquadmath\r\n",
      "        License: LGPL-2.1-or-later\r\n",
      "        \r\n",
      "            GCC Quad-Precision Math Library\r\n",
      "            Copyright (C) 2010-2019 Free Software Foundation, Inc.\r\n",
      "            Written by Francois-Xavier Coudert  <fxcoudert@gcc.gnu.org>\r\n",
      "        \r\n",
      "            This file is part of the libquadmath library.\r\n",
      "            Libquadmath is free software; you can redistribute it and/or\r\n",
      "            modify it under the terms of the GNU Library General Public\r\n",
      "            License as published by the Free Software Foundation; either\r\n",
      "            version 2.1 of the License, or (at your option) any later version.\r\n",
      "        \r\n",
      "            Libquadmath is distributed in the hope that it will be useful,\r\n",
      "            but WITHOUT ANY WARRANTY; without even the implied warranty of\r\n",
      "            MERCHANTABILITY or FITNESS FOR A PARTICULAR PURPOSE.  See the GNU\r\n",
      "            Lesser General Public License for more details.\r\n",
      "            https://www.gnu.org/licenses/old-licenses/lgpl-2.1.html\r\n",
      "Location: /home/andres-campos/github_public/Metodos-Estadisticos/venv/lib/python3.10/site-packages\r\n",
      "Requires: \r\n",
      "Required-by: catboost, category-encoders, contourpy, factor_analyzer, folium, hdbscan, imageio, imbalanced-learn, langchain, langchain-community, lightgbm, matplotlib, mglearn, numba, pandas, patsy, pingouin, pyarrow, scikit-learn, scikit-optimize, scipy, seaborn, statsmodels, sweetviz, umap-learn, xarray, xgboost\r\n"
     ]
    }
   ],
   "source": [
    "## Version de numpy\n",
    "!pip show numpy"
   ]
  },
  {
   "cell_type": "code",
   "execution_count": 4,
   "metadata": {
    "colab": {
     "base_uri": "https://localhost:8080/"
    },
    "executionInfo": {
     "elapsed": 3125,
     "status": "ok",
     "timestamp": 1659667555930,
     "user": {
      "displayName": "Luis Andres Campos Maldonado",
      "userId": "15478348060554261231"
     },
     "user_tz": 300
    },
    "id": "-GaFy351GV_-",
    "outputId": "3ab97c17-6435-4f6b-9907-80534a1fc65b"
   },
   "outputs": [
    {
     "name": "stdout",
     "output_type": "stream",
     "text": [
      "Name: scipy\r\n",
      "Version: 1.14.0\r\n",
      "Summary: Fundamental algorithms for scientific computing in Python\r\n",
      "Home-page: https://scipy.org/\r\n",
      "Author: \r\n",
      "Author-email: \r\n"
     ]
    },
    {
     "name": "stdout",
     "output_type": "stream",
     "text": [
      "License: Copyright (c) 2001-2002 Enthought, Inc. 2003-2024, SciPy Developers.\r\n",
      "        All rights reserved.\r\n",
      "        \r\n",
      "        Redistribution and use in source and binary forms, with or without\r\n",
      "        modification, are permitted provided that the following conditions\r\n",
      "        are met:\r\n",
      "        \r\n",
      "        1. Redistributions of source code must retain the above copyright\r\n",
      "           notice, this list of conditions and the following disclaimer.\r\n",
      "        \r\n",
      "        2. Redistributions in binary form must reproduce the above\r\n",
      "           copyright notice, this list of conditions and the following\r\n",
      "           disclaimer in the documentation and/or other materials provided\r\n",
      "           with the distribution.\r\n",
      "        \r\n",
      "        3. Neither the name of the copyright holder nor the names of its\r\n",
      "           contributors may be used to endorse or promote products derived\r\n",
      "           from this software without specific prior written permission.\r\n",
      "        \r\n",
      "        THIS SOFTWARE IS PROVIDED BY THE COPYRIGHT HOLDERS AND CONTRIBUTORS\r\n",
      "        \"AS IS\" AND ANY EXPRESS OR IMPLIED WARRANTIES, INCLUDING, BUT NOT\r\n",
      "        LIMITED TO, THE IMPLIED WARRANTIES OF MERCHANTABILITY AND FITNESS FOR\r\n",
      "        A PARTICULAR PURPOSE ARE DISCLAIMED. IN NO EVENT SHALL THE COPYRIGHT\r\n",
      "        OWNER OR CONTRIBUTORS BE LIABLE FOR ANY DIRECT, INDIRECT, INCIDENTAL,\r\n",
      "        SPECIAL, EXEMPLARY, OR CONSEQUENTIAL DAMAGES (INCLUDING, BUT NOT\r\n",
      "        LIMITED TO, PROCUREMENT OF SUBSTITUTE GOODS OR SERVICES; LOSS OF USE,\r\n",
      "        DATA, OR PROFITS; OR BUSINESS INTERRUPTION) HOWEVER CAUSED AND ON ANY\r\n",
      "        THEORY OF LIABILITY, WHETHER IN CONTRACT, STRICT LIABILITY, OR TORT\r\n",
      "        (INCLUDING NEGLIGENCE OR OTHERWISE) ARISING IN ANY WAY OUT OF THE USE\r\n",
      "        OF THIS SOFTWARE, EVEN IF ADVISED OF THE POSSIBILITY OF SUCH DAMAGE.\r\n",
      "        \r\n",
      "        ----\r\n",
      "        \r\n",
      "        This binary distribution of SciPy also bundles the following software:\r\n",
      "        \r\n",
      "        \r\n",
      "        Name: OpenBLAS\r\n",
      "        Files: scipy.libs/libopenblas*.so\r\n",
      "        Description: bundled as a dynamically linked library\r\n",
      "        Availability: https://github.com/OpenMathLib/OpenBLAS/\r\n",
      "        License: BSD-3-Clause-Attribution\r\n",
      "          Copyright (c) 2011-2014, The OpenBLAS Project\r\n",
      "          All rights reserved.\r\n",
      "          \r\n",
      "          Redistribution and use in source and binary forms, with or without\r\n",
      "          modification, are permitted provided that the following conditions are\r\n",
      "          met:\r\n",
      "          \r\n",
      "             1. Redistributions of source code must retain the above copyright\r\n",
      "                notice, this list of conditions and the following disclaimer.\r\n",
      "          \r\n",
      "             2. Redistributions in binary form must reproduce the above copyright\r\n",
      "                notice, this list of conditions and the following disclaimer in\r\n",
      "                the documentation and/or other materials provided with the\r\n",
      "                distribution.\r\n",
      "             3. Neither the name of the OpenBLAS project nor the names of \r\n",
      "                its contributors may be used to endorse or promote products \r\n",
      "                derived from this software without specific prior written \r\n",
      "                permission.\r\n",
      "          \r\n",
      "          THIS SOFTWARE IS PROVIDED BY THE COPYRIGHT HOLDERS AND CONTRIBUTORS \"AS IS\"\r\n",
      "          AND ANY EXPRESS OR IMPLIED WARRANTIES, INCLUDING, BUT NOT LIMITED TO, THE\r\n",
      "          IMPLIED WARRANTIES OF MERCHANTABILITY AND FITNESS FOR A PARTICULAR PURPOSE\r\n",
      "          ARE DISCLAIMED. IN NO EVENT SHALL THE COPYRIGHT OWNER OR CONTRIBUTORS BE\r\n",
      "          LIABLE FOR ANY DIRECT, INDIRECT, INCIDENTAL, SPECIAL, EXEMPLARY, OR CONSEQUENTIAL\r\n",
      "          DAMAGES (INCLUDING, BUT NOT LIMITED TO, PROCUREMENT OF SUBSTITUTE GOODS OR\r\n",
      "          SERVICES; LOSS OF USE, DATA, OR PROFITS; OR BUSINESS INTERRUPTION) HOWEVER\r\n",
      "          CAUSED AND ON ANY THEORY OF LIABILITY, WHETHER IN CONTRACT, STRICT LIABILITY,\r\n",
      "          OR TORT (INCLUDING NEGLIGENCE OR OTHERWISE) ARISING IN ANY WAY OUT OF THE\r\n",
      "          USE OF THIS SOFTWARE, EVEN IF ADVISED OF THE POSSIBILITY OF SUCH DAMAGE.\r\n",
      "        \r\n",
      "        \r\n",
      "        Name: LAPACK\r\n",
      "        Files: scipy.libs/libopenblas*.so\r\n",
      "        Description: bundled in OpenBLAS\r\n",
      "        Availability: https://github.com/OpenMathLib/OpenBLAS/\r\n",
      "        License: BSD-3-Clause-Attribution\r\n",
      "          Copyright (c) 1992-2013 The University of Tennessee and The University\r\n",
      "                                  of Tennessee Research Foundation.  All rights\r\n",
      "                                  reserved.\r\n",
      "          Copyright (c) 2000-2013 The University of California Berkeley. All\r\n",
      "                                  rights reserved.\r\n",
      "          Copyright (c) 2006-2013 The University of Colorado Denver.  All rights\r\n",
      "                                  reserved.\r\n",
      "          \r\n",
      "          $COPYRIGHT$\r\n",
      "          \r\n",
      "          Additional copyrights may follow\r\n",
      "          \r\n",
      "          $HEADER$\r\n",
      "          \r\n",
      "          Redistribution and use in source and binary forms, with or without\r\n",
      "          modification, are permitted provided that the following conditions are\r\n",
      "          met:\r\n",
      "          \r\n",
      "          - Redistributions of source code must retain the above copyright\r\n",
      "            notice, this list of conditions and the following disclaimer.\r\n",
      "          \r\n",
      "          - Redistributions in binary form must reproduce the above copyright\r\n",
      "            notice, this list of conditions and the following disclaimer listed\r\n",
      "            in this license in the documentation and/or other materials\r\n",
      "            provided with the distribution.\r\n",
      "          \r\n",
      "          - Neither the name of the copyright holders nor the names of its\r\n",
      "            contributors may be used to endorse or promote products derived from\r\n",
      "            this software without specific prior written permission.\r\n",
      "          \r\n",
      "          The copyright holders provide no reassurances that the source code\r\n",
      "          provided does not infringe any patent, copyright, or any other\r\n",
      "          intellectual property rights of third parties.  The copyright holders\r\n",
      "          disclaim any liability to any recipient for claims brought against\r\n",
      "          recipient by any third party for infringement of that parties\r\n",
      "          intellectual property rights.\r\n",
      "          \r\n",
      "          THIS SOFTWARE IS PROVIDED BY THE COPYRIGHT HOLDERS AND CONTRIBUTORS\r\n",
      "          \"AS IS\" AND ANY EXPRESS OR IMPLIED WARRANTIES, INCLUDING, BUT NOT\r\n",
      "          LIMITED TO, THE IMPLIED WARRANTIES OF MERCHANTABILITY AND FITNESS FOR\r\n",
      "          A PARTICULAR PURPOSE ARE DISCLAIMED. IN NO EVENT SHALL THE COPYRIGHT\r\n",
      "          OWNER OR CONTRIBUTORS BE LIABLE FOR ANY DIRECT, INDIRECT, INCIDENTAL,\r\n",
      "          SPECIAL, EXEMPLARY, OR CONSEQUENTIAL DAMAGES (INCLUDING, BUT NOT\r\n",
      "          LIMITED TO, PROCUREMENT OF SUBSTITUTE GOODS OR SERVICES; LOSS OF USE,\r\n",
      "          DATA, OR PROFITS; OR BUSINESS INTERRUPTION) HOWEVER CAUSED AND ON ANY\r\n",
      "          THEORY OF LIABILITY, WHETHER IN CONTRACT, STRICT LIABILITY, OR TORT\r\n",
      "          (INCLUDING NEGLIGENCE OR OTHERWISE) ARISING IN ANY WAY OUT OF THE USE\r\n",
      "          OF THIS SOFTWARE, EVEN IF ADVISED OF THE POSSIBILITY OF SUCH DAMAGE.\r\n",
      "        \r\n",
      "        \r\n",
      "        Name: GCC runtime library\r\n",
      "        Files: scipy.libs/libgfortran*.so\r\n",
      "        Description: dynamically linked to files compiled with gcc\r\n",
      "        Availability: https://gcc.gnu.org/git/?p=gcc.git;a=tree;f=libgfortran\r\n",
      "        License: GPL-3.0-with-GCC-exception\r\n",
      "          Copyright (C) 2002-2017 Free Software Foundation, Inc.\r\n",
      "          \r\n",
      "          Libgfortran is free software; you can redistribute it and/or modify\r\n",
      "          it under the terms of the GNU General Public License as published by\r\n",
      "          the Free Software Foundation; either version 3, or (at your option)\r\n",
      "          any later version.\r\n",
      "          \r\n",
      "          Libgfortran is distributed in the hope that it will be useful,\r\n",
      "          but WITHOUT ANY WARRANTY; without even the implied warranty of\r\n",
      "          MERCHANTABILITY or FITNESS FOR A PARTICULAR PURPOSE.  See the\r\n",
      "          GNU General Public License for more details.\r\n",
      "          \r\n",
      "          Under Section 7 of GPL version 3, you are granted additional\r\n",
      "          permissions described in the GCC Runtime Library Exception, version\r\n",
      "          3.1, as published by the Free Software Foundation.\r\n",
      "          \r\n",
      "          You should have received a copy of the GNU General Public License and\r\n",
      "          a copy of the GCC Runtime Library Exception along with this program;\r\n",
      "          see the files COPYING3 and COPYING.RUNTIME respectively.  If not, see\r\n",
      "          <http://www.gnu.org/licenses/>.\r\n",
      "        \r\n",
      "        ----\r\n",
      "        \r\n",
      "        Full text of license texts referred to above follows (that they are\r\n",
      "        listed below does not necessarily imply the conditions apply to the\r\n",
      "        present binary release):\r\n",
      "        \r\n",
      "        ----\r\n",
      "        \r\n",
      "        GCC RUNTIME LIBRARY EXCEPTION\r\n",
      "        \r\n",
      "        Version 3.1, 31 March 2009\r\n",
      "        \r\n",
      "        Copyright (C) 2009 Free Software Foundation, Inc. <http://fsf.org/>\r\n",
      "        \r\n",
      "        Everyone is permitted to copy and distribute verbatim copies of this\r\n",
      "        license document, but changing it is not allowed.\r\n",
      "        \r\n",
      "        This GCC Runtime Library Exception (\"Exception\") is an additional\r\n",
      "        permission under section 7 of the GNU General Public License, version\r\n",
      "        3 (\"GPLv3\"). It applies to a given file (the \"Runtime Library\") that\r\n",
      "        bears a notice placed by the copyright holder of the file stating that\r\n",
      "        the file is governed by GPLv3 along with this Exception.\r\n",
      "        \r\n",
      "        When you use GCC to compile a program, GCC may combine portions of\r\n",
      "        certain GCC header files and runtime libraries with the compiled\r\n",
      "        program. The purpose of this Exception is to allow compilation of\r\n",
      "        non-GPL (including proprietary) programs to use, in this way, the\r\n",
      "        header files and runtime libraries covered by this Exception.\r\n",
      "        \r\n",
      "        0. Definitions.\r\n",
      "        \r\n",
      "        A file is an \"Independent Module\" if it either requires the Runtime\r\n",
      "        Library for execution after a Compilation Process, or makes use of an\r\n",
      "        interface provided by the Runtime Library, but is not otherwise based\r\n",
      "        on the Runtime Library.\r\n",
      "        \r\n",
      "        \"GCC\" means a version of the GNU Compiler Collection, with or without\r\n",
      "        modifications, governed by version 3 (or a specified later version) of\r\n",
      "        the GNU General Public License (GPL) with the option of using any\r\n",
      "        subsequent versions published by the FSF.\r\n",
      "        \r\n",
      "        \"GPL-compatible Software\" is software whose conditions of propagation,\r\n",
      "        modification and use would permit combination with GCC in accord with\r\n",
      "        the license of GCC.\r\n",
      "        \r\n",
      "        \"Target Code\" refers to output from any compiler for a real or virtual\r\n",
      "        target processor architecture, in executable form or suitable for\r\n",
      "        input to an assembler, loader, linker and/or execution\r\n",
      "        phase. Notwithstanding that, Target Code does not include data in any\r\n",
      "        format that is used as a compiler intermediate representation, or used\r\n",
      "        for producing a compiler intermediate representation.\r\n",
      "        \r\n",
      "        The \"Compilation Process\" transforms code entirely represented in\r\n",
      "        non-intermediate languages designed for human-written code, and/or in\r\n",
      "        Java Virtual Machine byte code, into Target Code. Thus, for example,\r\n",
      "        use of source code generators and preprocessors need not be considered\r\n",
      "        part of the Compilation Process, since the Compilation Process can be\r\n",
      "        understood as starting with the output of the generators or\r\n",
      "        preprocessors.\r\n",
      "        \r\n",
      "        A Compilation Process is \"Eligible\" if it is done using GCC, alone or\r\n",
      "        with other GPL-compatible software, or if it is done without using any\r\n",
      "        work based on GCC. For example, using non-GPL-compatible Software to\r\n",
      "        optimize any GCC intermediate representations would not qualify as an\r\n",
      "        Eligible Compilation Process.\r\n",
      "        \r\n",
      "        1. Grant of Additional Permission.\r\n",
      "        \r\n",
      "        You have permission to propagate a work of Target Code formed by\r\n",
      "        combining the Runtime Library with Independent Modules, even if such\r\n",
      "        propagation would otherwise violate the terms of GPLv3, provided that\r\n",
      "        all Target Code was generated by Eligible Compilation Processes. You\r\n",
      "        may then convey such a combination under terms of your choice,\r\n",
      "        consistent with the licensing of the Independent Modules.\r\n",
      "        \r\n",
      "        2. No Weakening of GCC Copyleft.\r\n",
      "        \r\n",
      "        The availability of this Exception does not imply any general\r\n",
      "        presumption that third-party software is unaffected by the copyleft\r\n",
      "        requirements of the license of GCC.\r\n",
      "        \r\n",
      "        ----\r\n",
      "        \r\n",
      "                            GNU GENERAL PUBLIC LICENSE\r\n",
      "                               Version 3, 29 June 2007\r\n",
      "        \r\n",
      "         Copyright (C) 2007 Free Software Foundation, Inc. <http://fsf.org/>\r\n",
      "         Everyone is permitted to copy and distribute verbatim copies\r\n",
      "         of this license document, but changing it is not allowed.\r\n",
      "        \r\n",
      "                                    Preamble\r\n",
      "        \r\n",
      "          The GNU General Public License is a free, copyleft license for\r\n",
      "        software and other kinds of works.\r\n",
      "        \r\n",
      "          The licenses for most software and other practical works are designed\r\n",
      "        to take away your freedom to share and change the works.  By contrast,\r\n",
      "        the GNU General Public License is intended to guarantee your freedom to\r\n",
      "        share and change all versions of a program--to make sure it remains free\r\n",
      "        software for all its users.  We, the Free Software Foundation, use the\r\n",
      "        GNU General Public License for most of our software; it applies also to\r\n",
      "        any other work released this way by its authors.  You can apply it to\r\n",
      "        your programs, too.\r\n",
      "        \r\n",
      "          When we speak of free software, we are referring to freedom, not\r\n",
      "        price.  Our General Public Licenses are designed to make sure that you\r\n",
      "        have the freedom to distribute copies of free software (and charge for\r\n",
      "        them if you wish), that you receive source code or can get it if you\r\n",
      "        want it, that you can change the software or use pieces of it in new\r\n",
      "        free programs, and that you know you can do these things.\r\n",
      "        \r\n",
      "          To protect your rights, we need to prevent others from denying you\r\n",
      "        these rights or asking you to surrender the rights.  Therefore, you have\r\n",
      "        certain responsibilities if you distribute copies of the software, or if\r\n",
      "        you modify it: responsibilities to respect the freedom of others.\r\n",
      "        \r\n",
      "          For example, if you distribute copies of such a program, whether\r\n",
      "        gratis or for a fee, you must pass on to the recipients the same\r\n",
      "        freedoms that you received.  You must make sure that they, too, receive\r\n",
      "        or can get the source code.  And you must show them these terms so they\r\n",
      "        know their rights.\r\n",
      "        \r\n",
      "          Developers that use the GNU GPL protect your rights with two steps:\r\n",
      "        (1) assert copyright on the software, and (2) offer you this License\r\n",
      "        giving you legal permission to copy, distribute and/or modify it.\r\n",
      "        \r\n",
      "          For the developers' and authors' protection, the GPL clearly explains\r\n",
      "        that there is no warranty for this free software.  For both users' and\r\n",
      "        authors' sake, the GPL requires that modified versions be marked as\r\n",
      "        changed, so that their problems will not be attributed erroneously to\r\n",
      "        authors of previous versions.\r\n",
      "        \r\n",
      "          Some devices are designed to deny users access to install or run\r\n",
      "        modified versions of the software inside them, although the manufacturer\r\n",
      "        can do so.  This is fundamentally incompatible with the aim of\r\n",
      "        protecting users' freedom to change the software.  The systematic\r\n",
      "        pattern of such abuse occurs in the area of products for individuals to\r\n",
      "        use, which is precisely where it is most unacceptable.  Therefore, we\r\n",
      "        have designed this version of the GPL to prohibit the practice for those\r\n",
      "        products.  If such problems arise substantially in other domains, we\r\n",
      "        stand ready to extend this provision to those domains in future versions\r\n",
      "        of the GPL, as needed to protect the freedom of users.\r\n",
      "        \r\n",
      "          Finally, every program is threatened constantly by software patents.\r\n",
      "        States should not allow patents to restrict development and use of\r\n",
      "        software on general-purpose computers, but in those that do, we wish to\r\n",
      "        avoid the special danger that patents applied to a free program could\r\n",
      "        make it effectively proprietary.  To prevent this, the GPL assures that\r\n",
      "        patents cannot be used to render the program non-free.\r\n",
      "        \r\n",
      "          The precise terms and conditions for copying, distribution and\r\n",
      "        modification follow.\r\n",
      "        \r\n",
      "                               TERMS AND CONDITIONS\r\n",
      "        \r\n",
      "          0. Definitions.\r\n",
      "        \r\n",
      "          \"This License\" refers to version 3 of the GNU General Public License.\r\n",
      "        \r\n",
      "          \"Copyright\" also means copyright-like laws that apply to other kinds of\r\n",
      "        works, such as semiconductor masks.\r\n",
      "        \r\n",
      "          \"The Program\" refers to any copyrightable work licensed under this\r\n",
      "        License.  Each licensee is addressed as \"you\".  \"Licensees\" and\r\n",
      "        \"recipients\" may be individuals or organizations.\r\n",
      "        \r\n",
      "          To \"modify\" a work means to copy from or adapt all or part of the work\r\n",
      "        in a fashion requiring copyright permission, other than the making of an\r\n",
      "        exact copy.  The resulting work is called a \"modified version\" of the\r\n",
      "        earlier work or a work \"based on\" the earlier work.\r\n",
      "        \r\n",
      "          A \"covered work\" means either the unmodified Program or a work based\r\n",
      "        on the Program.\r\n",
      "        \r\n",
      "          To \"propagate\" a work means to do anything with it that, without\r\n",
      "        permission, would make you directly or secondarily liable for\r\n",
      "        infringement under applicable copyright law, except executing it on a\r\n",
      "        computer or modifying a private copy.  Propagation includes copying,\r\n",
      "        distribution (with or without modification), making available to the\r\n",
      "        public, and in some countries other activities as well.\r\n",
      "        \r\n",
      "          To \"convey\" a work means any kind of propagation that enables other\r\n",
      "        parties to make or receive copies.  Mere interaction with a user through\r\n",
      "        a computer network, with no transfer of a copy, is not conveying.\r\n",
      "        \r\n",
      "          An interactive user interface displays \"Appropriate Legal Notices\"\r\n",
      "        to the extent that it includes a convenient and prominently visible\r\n",
      "        feature that (1) displays an appropriate copyright notice, and (2)\r\n",
      "        tells the user that there is no warranty for the work (except to the\r\n",
      "        extent that warranties are provided), that licensees may convey the\r\n",
      "        work under this License, and how to view a copy of this License.  If\r\n",
      "        the interface presents a list of user commands or options, such as a\r\n",
      "        menu, a prominent item in the list meets this criterion.\r\n",
      "        \r\n",
      "          1. Source Code.\r\n",
      "        \r\n",
      "          The \"source code\" for a work means the preferred form of the work\r\n",
      "        for making modifications to it.  \"Object code\" means any non-source\r\n",
      "        form of a work.\r\n",
      "        \r\n",
      "          A \"Standard Interface\" means an interface that either is an official\r\n",
      "        standard defined by a recognized standards body, or, in the case of\r\n",
      "        interfaces specified for a particular programming language, one that\r\n",
      "        is widely used among developers working in that language.\r\n",
      "        \r\n",
      "          The \"System Libraries\" of an executable work include anything, other\r\n",
      "        than the work as a whole, that (a) is included in the normal form of\r\n",
      "        packaging a Major Component, but which is not part of that Major\r\n",
      "        Component, and (b) serves only to enable use of the work with that\r\n",
      "        Major Component, or to implement a Standard Interface for which an\r\n",
      "        implementation is available to the public in source code form.  A\r\n",
      "        \"Major Component\", in this context, means a major essential component\r\n",
      "        (kernel, window system, and so on) of the specific operating system\r\n",
      "        (if any) on which the executable work runs, or a compiler used to\r\n",
      "        produce the work, or an object code interpreter used to run it.\r\n",
      "        \r\n",
      "          The \"Corresponding Source\" for a work in object code form means all\r\n",
      "        the source code needed to generate, install, and (for an executable\r\n",
      "        work) run the object code and to modify the work, including scripts to\r\n",
      "        control those activities.  However, it does not include the work's\r\n",
      "        System Libraries, or general-purpose tools or generally available free\r\n",
      "        programs which are used unmodified in performing those activities but\r\n",
      "        which are not part of the work.  For example, Corresponding Source\r\n",
      "        includes interface definition files associated with source files for\r\n",
      "        the work, and the source code for shared libraries and dynamically\r\n",
      "        linked subprograms that the work is specifically designed to require,\r\n",
      "        such as by intimate data communication or control flow between those\r\n",
      "        subprograms and other parts of the work.\r\n",
      "        \r\n",
      "          The Corresponding Source need not include anything that users\r\n",
      "        can regenerate automatically from other parts of the Corresponding\r\n",
      "        Source.\r\n",
      "        \r\n",
      "          The Corresponding Source for a work in source code form is that\r\n",
      "        same work.\r\n",
      "        \r\n",
      "          2. Basic Permissions.\r\n",
      "        \r\n",
      "          All rights granted under this License are granted for the term of\r\n",
      "        copyright on the Program, and are irrevocable provided the stated\r\n",
      "        conditions are met.  This License explicitly affirms your unlimited\r\n",
      "        permission to run the unmodified Program.  The output from running a\r\n",
      "        covered work is covered by this License only if the output, given its\r\n",
      "        content, constitutes a covered work.  This License acknowledges your\r\n",
      "        rights of fair use or other equivalent, as provided by copyright law.\r\n",
      "        \r\n",
      "          You may make, run and propagate covered works that you do not\r\n",
      "        convey, without conditions so long as your license otherwise remains\r\n",
      "        in force.  You may convey covered works to others for the sole purpose\r\n",
      "        of having them make modifications exclusively for you, or provide you\r\n",
      "        with facilities for running those works, provided that you comply with\r\n",
      "        the terms of this License in conveying all material for which you do\r\n",
      "        not control copyright.  Those thus making or running the covered works\r\n",
      "        for you must do so exclusively on your behalf, under your direction\r\n",
      "        and control, on terms that prohibit them from making any copies of\r\n",
      "        your copyrighted material outside their relationship with you.\r\n",
      "        \r\n",
      "          Conveying under any other circumstances is permitted solely under\r\n",
      "        the conditions stated below.  Sublicensing is not allowed; section 10\r\n",
      "        makes it unnecessary.\r\n",
      "        \r\n",
      "          3. Protecting Users' Legal Rights From Anti-Circumvention Law.\r\n",
      "        \r\n",
      "          No covered work shall be deemed part of an effective technological\r\n",
      "        measure under any applicable law fulfilling obligations under article\r\n",
      "        11 of the WIPO copyright treaty adopted on 20 December 1996, or\r\n",
      "        similar laws prohibiting or restricting circumvention of such\r\n",
      "        measures.\r\n",
      "        \r\n",
      "          When you convey a covered work, you waive any legal power to forbid\r\n",
      "        circumvention of technological measures to the extent such circumvention\r\n",
      "        is effected by exercising rights under this License with respect to\r\n",
      "        the covered work, and you disclaim any intention to limit operation or\r\n",
      "        modification of the work as a means of enforcing, against the work's\r\n",
      "        users, your or third parties' legal rights to forbid circumvention of\r\n",
      "        technological measures.\r\n",
      "        \r\n",
      "          4. Conveying Verbatim Copies.\r\n",
      "        \r\n",
      "          You may convey verbatim copies of the Program's source code as you\r\n",
      "        receive it, in any medium, provided that you conspicuously and\r\n",
      "        appropriately publish on each copy an appropriate copyright notice;\r\n",
      "        keep intact all notices stating that this License and any\r\n",
      "        non-permissive terms added in accord with section 7 apply to the code;\r\n",
      "        keep intact all notices of the absence of any warranty; and give all\r\n",
      "        recipients a copy of this License along with the Program.\r\n",
      "        \r\n",
      "          You may charge any price or no price for each copy that you convey,\r\n",
      "        and you may offer support or warranty protection for a fee.\r\n",
      "        \r\n",
      "          5. Conveying Modified Source Versions.\r\n",
      "        \r\n",
      "          You may convey a work based on the Program, or the modifications to\r\n",
      "        produce it from the Program, in the form of source code under the\r\n",
      "        terms of section 4, provided that you also meet all of these conditions:\r\n",
      "        \r\n",
      "            a) The work must carry prominent notices stating that you modified\r\n",
      "            it, and giving a relevant date.\r\n",
      "        \r\n",
      "            b) The work must carry prominent notices stating that it is\r\n",
      "            released under this License and any conditions added under section\r\n",
      "            7.  This requirement modifies the requirement in section 4 to\r\n",
      "            \"keep intact all notices\".\r\n",
      "        \r\n",
      "            c) You must license the entire work, as a whole, under this\r\n",
      "            License to anyone who comes into possession of a copy.  This\r\n",
      "            License will therefore apply, along with any applicable section 7\r\n",
      "            additional terms, to the whole of the work, and all its parts,\r\n",
      "            regardless of how they are packaged.  This License gives no\r\n",
      "            permission to license the work in any other way, but it does not\r\n",
      "            invalidate such permission if you have separately received it.\r\n",
      "        \r\n",
      "            d) If the work has interactive user interfaces, each must display\r\n",
      "            Appropriate Legal Notices; however, if the Program has interactive\r\n",
      "            interfaces that do not display Appropriate Legal Notices, your\r\n",
      "            work need not make them do so.\r\n",
      "        \r\n",
      "          A compilation of a covered work with other separate and independent\r\n",
      "        works, which are not by their nature extensions of the covered work,\r\n",
      "        and which are not combined with it such as to form a larger program,\r\n",
      "        in or on a volume of a storage or distribution medium, is called an\r\n",
      "        \"aggregate\" if the compilation and its resulting copyright are not\r\n",
      "        used to limit the access or legal rights of the compilation's users\r\n",
      "        beyond what the individual works permit.  Inclusion of a covered work\r\n",
      "        in an aggregate does not cause this License to apply to the other\r\n",
      "        parts of the aggregate.\r\n",
      "        \r\n",
      "          6. Conveying Non-Source Forms.\r\n",
      "        \r\n",
      "          You may convey a covered work in object code form under the terms\r\n",
      "        of sections 4 and 5, provided that you also convey the\r\n",
      "        machine-readable Corresponding Source under the terms of this License,\r\n",
      "        in one of these ways:\r\n",
      "        \r\n",
      "            a) Convey the object code in, or embodied in, a physical product\r\n",
      "            (including a physical distribution medium), accompanied by the\r\n",
      "            Corresponding Source fixed on a durable physical medium\r\n",
      "            customarily used for software interchange.\r\n",
      "        \r\n",
      "            b) Convey the object code in, or embodied in, a physical product\r\n",
      "            (including a physical distribution medium), accompanied by a\r\n",
      "            written offer, valid for at least three years and valid for as\r\n",
      "            long as you offer spare parts or customer support for that product\r\n",
      "            model, to give anyone who possesses the object code either (1) a\r\n",
      "            copy of the Corresponding Source for all the software in the\r\n",
      "            product that is covered by this License, on a durable physical\r\n",
      "            medium customarily used for software interchange, for a price no\r\n",
      "            more than your reasonable cost of physically performing this\r\n",
      "            conveying of source, or (2) access to copy the\r\n",
      "            Corresponding Source from a network server at no charge.\r\n",
      "        \r\n",
      "            c) Convey individual copies of the object code with a copy of the\r\n",
      "            written offer to provide the Corresponding Source.  This\r\n",
      "            alternative is allowed only occasionally and noncommercially, and\r\n",
      "            only if you received the object code with such an offer, in accord\r\n",
      "            with subsection 6b.\r\n",
      "        \r\n",
      "            d) Convey the object code by offering access from a designated\r\n",
      "            place (gratis or for a charge), and offer equivalent access to the\r\n",
      "            Corresponding Source in the same way through the same place at no\r\n",
      "            further charge.  You need not require recipients to copy the\r\n",
      "            Corresponding Source along with the object code.  If the place to\r\n",
      "            copy the object code is a network server, the Corresponding Source\r\n",
      "            may be on a different server (operated by you or a third party)\r\n",
      "            that supports equivalent copying facilities, provided you maintain\r\n",
      "            clear directions next to the object code saying where to find the\r\n",
      "            Corresponding Source.  Regardless of what server hosts the\r\n",
      "            Corresponding Source, you remain obligated to ensure that it is\r\n",
      "            available for as long as needed to satisfy these requirements.\r\n",
      "        \r\n",
      "            e) Convey the object code using peer-to-peer transmission, provided\r\n",
      "            you inform other peers where the object code and Corresponding\r\n",
      "            Source of the work are being offered to the general public at no\r\n",
      "            charge under subsection 6d.\r\n",
      "        \r\n",
      "          A separable portion of the object code, whose source code is excluded\r\n",
      "        from the Corresponding Source as a System Library, need not be\r\n",
      "        included in conveying the object code work.\r\n",
      "        \r\n",
      "          A \"User Product\" is either (1) a \"consumer product\", which means any\r\n",
      "        tangible personal property which is normally used for personal, family,\r\n",
      "        or household purposes, or (2) anything designed or sold for incorporation\r\n",
      "        into a dwelling.  In determining whether a product is a consumer product,\r\n",
      "        doubtful cases shall be resolved in favor of coverage.  For a particular\r\n",
      "        product received by a particular user, \"normally used\" refers to a\r\n",
      "        typical or common use of that class of product, regardless of the status\r\n",
      "        of the particular user or of the way in which the particular user\r\n",
      "        actually uses, or expects or is expected to use, the product.  A product\r\n",
      "        is a consumer product regardless of whether the product has substantial\r\n",
      "        commercial, industrial or non-consumer uses, unless such uses represent\r\n",
      "        the only significant mode of use of the product.\r\n",
      "        \r\n",
      "          \"Installation Information\" for a User Product means any methods,\r\n",
      "        procedures, authorization keys, or other information required to install\r\n",
      "        and execute modified versions of a covered work in that User Product from\r\n",
      "        a modified version of its Corresponding Source.  The information must\r\n",
      "        suffice to ensure that the continued functioning of the modified object\r\n",
      "        code is in no case prevented or interfered with solely because\r\n",
      "        modification has been made.\r\n",
      "        \r\n",
      "          If you convey an object code work under this section in, or with, or\r\n",
      "        specifically for use in, a User Product, and the conveying occurs as\r\n",
      "        part of a transaction in which the right of possession and use of the\r\n",
      "        User Product is transferred to the recipient in perpetuity or for a\r\n",
      "        fixed term (regardless of how the transaction is characterized), the\r\n",
      "        Corresponding Source conveyed under this section must be accompanied\r\n",
      "        by the Installation Information.  But this requirement does not apply\r\n",
      "        if neither you nor any third party retains the ability to install\r\n",
      "        modified object code on the User Product (for example, the work has\r\n",
      "        been installed in ROM).\r\n",
      "        \r\n",
      "          The requirement to provide Installation Information does not include a\r\n",
      "        requirement to continue to provide support service, warranty, or updates\r\n",
      "        for a work that has been modified or installed by the recipient, or for\r\n",
      "        the User Product in which it has been modified or installed.  Access to a\r\n",
      "        network may be denied when the modification itself materially and\r\n",
      "        adversely affects the operation of the network or violates the rules and\r\n",
      "        protocols for communication across the network.\r\n",
      "        \r\n",
      "          Corresponding Source conveyed, and Installation Information provided,\r\n",
      "        in accord with this section must be in a format that is publicly\r\n",
      "        documented (and with an implementation available to the public in\r\n",
      "        source code form), and must require no special password or key for\r\n",
      "        unpacking, reading or copying.\r\n",
      "        \r\n",
      "          7. Additional Terms.\r\n",
      "        \r\n",
      "          \"Additional permissions\" are terms that supplement the terms of this\r\n",
      "        License by making exceptions from one or more of its conditions.\r\n",
      "        Additional permissions that are applicable to the entire Program shall\r\n",
      "        be treated as though they were included in this License, to the extent\r\n",
      "        that they are valid under applicable law.  If additional permissions\r\n",
      "        apply only to part of the Program, that part may be used separately\r\n",
      "        under those permissions, but the entire Program remains governed by\r\n",
      "        this License without regard to the additional permissions.\r\n",
      "        \r\n",
      "          When you convey a copy of a covered work, you may at your option\r\n",
      "        remove any additional permissions from that copy, or from any part of\r\n",
      "        it.  (Additional permissions may be written to require their own\r\n",
      "        removal in certain cases when you modify the work.)  You may place\r\n",
      "        additional permissions on material, added by you to a covered work,\r\n",
      "        for which you have or can give appropriate copyright permission.\r\n",
      "        \r\n",
      "          Notwithstanding any other provision of this License, for material you\r\n",
      "        add to a covered work, you may (if authorized by the copyright holders of\r\n",
      "        that material) supplement the terms of this License with terms:\r\n",
      "        \r\n",
      "            a) Disclaiming warranty or limiting liability differently from the\r\n",
      "            terms of sections 15 and 16 of this License; or\r\n",
      "        \r\n",
      "            b) Requiring preservation of specified reasonable legal notices or\r\n",
      "            author attributions in that material or in the Appropriate Legal\r\n",
      "            Notices displayed by works containing it; or\r\n",
      "        \r\n",
      "            c) Prohibiting misrepresentation of the origin of that material, or\r\n",
      "            requiring that modified versions of such material be marked in\r\n",
      "            reasonable ways as different from the original version; or\r\n",
      "        \r\n",
      "            d) Limiting the use for publicity purposes of names of licensors or\r\n",
      "            authors of the material; or\r\n",
      "        \r\n",
      "            e) Declining to grant rights under trademark law for use of some\r\n",
      "            trade names, trademarks, or service marks; or\r\n",
      "        \r\n",
      "            f) Requiring indemnification of licensors and authors of that\r\n",
      "            material by anyone who conveys the material (or modified versions of\r\n",
      "            it) with contractual assumptions of liability to the recipient, for\r\n",
      "            any liability that these contractual assumptions directly impose on\r\n",
      "            those licensors and authors.\r\n",
      "        \r\n",
      "          All other non-permissive additional terms are considered \"further\r\n",
      "        restrictions\" within the meaning of section 10.  If the Program as you\r\n",
      "        received it, or any part of it, contains a notice stating that it is\r\n",
      "        governed by this License along with a term that is a further\r\n",
      "        restriction, you may remove that term.  If a license document contains\r\n",
      "        a further restriction but permits relicensing or conveying under this\r\n",
      "        License, you may add to a covered work material governed by the terms\r\n",
      "        of that license document, provided that the further restriction does\r\n",
      "        not survive such relicensing or conveying.\r\n",
      "        \r\n",
      "          If you add terms to a covered work in accord with this section, you\r\n",
      "        must place, in the relevant source files, a statement of the\r\n",
      "        additional terms that apply to those files, or a notice indicating\r\n",
      "        where to find the applicable terms.\r\n",
      "        \r\n",
      "          Additional terms, permissive or non-permissive, may be stated in the\r\n",
      "        form of a separately written license, or stated as exceptions;\r\n",
      "        the above requirements apply either way.\r\n",
      "        \r\n",
      "          8. Termination.\r\n",
      "        \r\n",
      "          You may not propagate or modify a covered work except as expressly\r\n",
      "        provided under this License.  Any attempt otherwise to propagate or\r\n",
      "        modify it is void, and will automatically terminate your rights under\r\n",
      "        this License (including any patent licenses granted under the third\r\n",
      "        paragraph of section 11).\r\n",
      "        \r\n",
      "          However, if you cease all violation of this License, then your\r\n",
      "        license from a particular copyright holder is reinstated (a)\r\n",
      "        provisionally, unless and until the copyright holder explicitly and\r\n",
      "        finally terminates your license, and (b) permanently, if the copyright\r\n",
      "        holder fails to notify you of the violation by some reasonable means\r\n",
      "        prior to 60 days after the cessation.\r\n",
      "        \r\n",
      "          Moreover, your license from a particular copyright holder is\r\n",
      "        reinstated permanently if the copyright holder notifies you of the\r\n",
      "        violation by some reasonable means, this is the first time you have\r\n",
      "        received notice of violation of this License (for any work) from that\r\n",
      "        copyright holder, and you cure the violation prior to 30 days after\r\n",
      "        your receipt of the notice.\r\n",
      "        \r\n",
      "          Termination of your rights under this section does not terminate the\r\n",
      "        licenses of parties who have received copies or rights from you under\r\n",
      "        this License.  If your rights have been terminated and not permanently\r\n",
      "        reinstated, you do not qualify to receive new licenses for the same\r\n",
      "        material under section 10.\r\n",
      "        \r\n",
      "          9. Acceptance Not Required for Having Copies.\r\n",
      "        \r\n",
      "          You are not required to accept this License in order to receive or\r\n",
      "        run a copy of the Program.  Ancillary propagation of a covered work\r\n",
      "        occurring solely as a consequence of using peer-to-peer transmission\r\n",
      "        to receive a copy likewise does not require acceptance.  However,\r\n",
      "        nothing other than this License grants you permission to propagate or\r\n",
      "        modify any covered work.  These actions infringe copyright if you do\r\n",
      "        not accept this License.  Therefore, by modifying or propagating a\r\n",
      "        covered work, you indicate your acceptance of this License to do so.\r\n",
      "        \r\n",
      "          10. Automatic Licensing of Downstream Recipients.\r\n",
      "        \r\n",
      "          Each time you convey a covered work, the recipient automatically\r\n",
      "        receives a license from the original licensors, to run, modify and\r\n",
      "        propagate that work, subject to this License.  You are not responsible\r\n",
      "        for enforcing compliance by third parties with this License.\r\n",
      "        \r\n",
      "          An \"entity transaction\" is a transaction transferring control of an\r\n",
      "        organization, or substantially all assets of one, or subdividing an\r\n",
      "        organization, or merging organizations.  If propagation of a covered\r\n",
      "        work results from an entity transaction, each party to that\r\n",
      "        transaction who receives a copy of the work also receives whatever\r\n",
      "        licenses to the work the party's predecessor in interest had or could\r\n",
      "        give under the previous paragraph, plus a right to possession of the\r\n",
      "        Corresponding Source of the work from the predecessor in interest, if\r\n",
      "        the predecessor has it or can get it with reasonable efforts.\r\n",
      "        \r\n",
      "          You may not impose any further restrictions on the exercise of the\r\n",
      "        rights granted or affirmed under this License.  For example, you may\r\n",
      "        not impose a license fee, royalty, or other charge for exercise of\r\n",
      "        rights granted under this License, and you may not initiate litigation\r\n",
      "        (including a cross-claim or counterclaim in a lawsuit) alleging that\r\n",
      "        any patent claim is infringed by making, using, selling, offering for\r\n",
      "        sale, or importing the Program or any portion of it.\r\n",
      "        \r\n",
      "          11. Patents.\r\n",
      "        \r\n",
      "          A \"contributor\" is a copyright holder who authorizes use under this\r\n",
      "        License of the Program or a work on which the Program is based.  The\r\n",
      "        work thus licensed is called the contributor's \"contributor version\".\r\n",
      "        \r\n",
      "          A contributor's \"essential patent claims\" are all patent claims\r\n",
      "        owned or controlled by the contributor, whether already acquired or\r\n",
      "        hereafter acquired, that would be infringed by some manner, permitted\r\n",
      "        by this License, of making, using, or selling its contributor version,\r\n",
      "        but do not include claims that would be infringed only as a\r\n",
      "        consequence of further modification of the contributor version.  For\r\n",
      "        purposes of this definition, \"control\" includes the right to grant\r\n",
      "        patent sublicenses in a manner consistent with the requirements of\r\n",
      "        this License.\r\n",
      "        \r\n",
      "          Each contributor grants you a non-exclusive, worldwide, royalty-free\r\n",
      "        patent license under the contributor's essential patent claims, to\r\n",
      "        make, use, sell, offer for sale, import and otherwise run, modify and\r\n",
      "        propagate the contents of its contributor version.\r\n",
      "        \r\n",
      "          In the following three paragraphs, a \"patent license\" is any express\r\n",
      "        agreement or commitment, however denominated, not to enforce a patent\r\n",
      "        (such as an express permission to practice a patent or covenant not to\r\n",
      "        sue for patent infringement).  To \"grant\" such a patent license to a\r\n",
      "        party means to make such an agreement or commitment not to enforce a\r\n",
      "        patent against the party.\r\n",
      "        \r\n",
      "          If you convey a covered work, knowingly relying on a patent license,\r\n",
      "        and the Corresponding Source of the work is not available for anyone\r\n",
      "        to copy, free of charge and under the terms of this License, through a\r\n",
      "        publicly available network server or other readily accessible means,\r\n",
      "        then you must either (1) cause the Corresponding Source to be so\r\n",
      "        available, or (2) arrange to deprive yourself of the benefit of the\r\n",
      "        patent license for this particular work, or (3) arrange, in a manner\r\n",
      "        consistent with the requirements of this License, to extend the patent\r\n",
      "        license to downstream recipients.  \"Knowingly relying\" means you have\r\n",
      "        actual knowledge that, but for the patent license, your conveying the\r\n",
      "        covered work in a country, or your recipient's use of the covered work\r\n",
      "        in a country, would infringe one or more identifiable patents in that\r\n",
      "        country that you have reason to believe are valid.\r\n",
      "        \r\n",
      "          If, pursuant to or in connection with a single transaction or\r\n",
      "        arrangement, you convey, or propagate by procuring conveyance of, a\r\n",
      "        covered work, and grant a patent license to some of the parties\r\n",
      "        receiving the covered work authorizing them to use, propagate, modify\r\n",
      "        or convey a specific copy of the covered work, then the patent license\r\n",
      "        you grant is automatically extended to all recipients of the covered\r\n",
      "        work and works based on it.\r\n",
      "        \r\n",
      "          A patent license is \"discriminatory\" if it does not include within\r\n",
      "        the scope of its coverage, prohibits the exercise of, or is\r\n",
      "        conditioned on the non-exercise of one or more of the rights that are\r\n",
      "        specifically granted under this License.  You may not convey a covered\r\n",
      "        work if you are a party to an arrangement with a third party that is\r\n",
      "        in the business of distributing software, under which you make payment\r\n",
      "        to the third party based on the extent of your activity of conveying\r\n",
      "        the work, and under which the third party grants, to any of the\r\n",
      "        parties who would receive the covered work from you, a discriminatory\r\n",
      "        patent license (a) in connection with copies of the covered work\r\n",
      "        conveyed by you (or copies made from those copies), or (b) primarily\r\n",
      "        for and in connection with specific products or compilations that\r\n",
      "        contain the covered work, unless you entered into that arrangement,\r\n",
      "        or that patent license was granted, prior to 28 March 2007.\r\n",
      "        \r\n",
      "          Nothing in this License shall be construed as excluding or limiting\r\n",
      "        any implied license or other defenses to infringement that may\r\n",
      "        otherwise be available to you under applicable patent law.\r\n",
      "        \r\n",
      "          12. No Surrender of Others' Freedom.\r\n",
      "        \r\n",
      "          If conditions are imposed on you (whether by court order, agreement or\r\n",
      "        otherwise) that contradict the conditions of this License, they do not\r\n",
      "        excuse you from the conditions of this License.  If you cannot convey a\r\n",
      "        covered work so as to satisfy simultaneously your obligations under this\r\n",
      "        License and any other pertinent obligations, then as a consequence you may\r\n",
      "        not convey it at all.  For example, if you agree to terms that obligate you\r\n",
      "        to collect a royalty for further conveying from those to whom you convey\r\n",
      "        the Program, the only way you could satisfy both those terms and this\r\n",
      "        License would be to refrain entirely from conveying the Program.\r\n",
      "        \r\n",
      "          13. Use with the GNU Affero General Public License.\r\n",
      "        \r\n",
      "          Notwithstanding any other provision of this License, you have\r\n",
      "        permission to link or combine any covered work with a work licensed\r\n",
      "        under version 3 of the GNU Affero General Public License into a single\r\n",
      "        combined work, and to convey the resulting work.  The terms of this\r\n",
      "        License will continue to apply to the part which is the covered work,\r\n",
      "        but the special requirements of the GNU Affero General Public License,\r\n",
      "        section 13, concerning interaction through a network will apply to the\r\n",
      "        combination as such.\r\n",
      "        \r\n",
      "          14. Revised Versions of this License.\r\n",
      "        \r\n",
      "          The Free Software Foundation may publish revised and/or new versions of\r\n",
      "        the GNU General Public License from time to time.  Such new versions will\r\n",
      "        be similar in spirit to the present version, but may differ in detail to\r\n",
      "        address new problems or concerns.\r\n",
      "        \r\n",
      "          Each version is given a distinguishing version number.  If the\r\n",
      "        Program specifies that a certain numbered version of the GNU General\r\n",
      "        Public License \"or any later version\" applies to it, you have the\r\n",
      "        option of following the terms and conditions either of that numbered\r\n",
      "        version or of any later version published by the Free Software\r\n",
      "        Foundation.  If the Program does not specify a version number of the\r\n",
      "        GNU General Public License, you may choose any version ever published\r\n",
      "        by the Free Software Foundation.\r\n",
      "        \r\n",
      "          If the Program specifies that a proxy can decide which future\r\n",
      "        versions of the GNU General Public License can be used, that proxy's\r\n",
      "        public statement of acceptance of a version permanently authorizes you\r\n",
      "        to choose that version for the Program.\r\n",
      "        \r\n",
      "          Later license versions may give you additional or different\r\n",
      "        permissions.  However, no additional obligations are imposed on any\r\n",
      "        author or copyright holder as a result of your choosing to follow a\r\n",
      "        later version.\r\n",
      "        \r\n",
      "          15. Disclaimer of Warranty.\r\n",
      "        \r\n",
      "          THERE IS NO WARRANTY FOR THE PROGRAM, TO THE EXTENT PERMITTED BY\r\n",
      "        APPLICABLE LAW.  EXCEPT WHEN OTHERWISE STATED IN WRITING THE COPYRIGHT\r\n",
      "        HOLDERS AND/OR OTHER PARTIES PROVIDE THE PROGRAM \"AS IS\" WITHOUT WARRANTY\r\n",
      "        OF ANY KIND, EITHER EXPRESSED OR IMPLIED, INCLUDING, BUT NOT LIMITED TO,\r\n",
      "        THE IMPLIED WARRANTIES OF MERCHANTABILITY AND FITNESS FOR A PARTICULAR\r\n",
      "        PURPOSE.  THE ENTIRE RISK AS TO THE QUALITY AND PERFORMANCE OF THE PROGRAM\r\n",
      "        IS WITH YOU.  SHOULD THE PROGRAM PROVE DEFECTIVE, YOU ASSUME THE COST OF\r\n",
      "        ALL NECESSARY SERVICING, REPAIR OR CORRECTION.\r\n",
      "        \r\n",
      "          16. Limitation of Liability.\r\n",
      "        \r\n",
      "          IN NO EVENT UNLESS REQUIRED BY APPLICABLE LAW OR AGREED TO IN WRITING\r\n",
      "        WILL ANY COPYRIGHT HOLDER, OR ANY OTHER PARTY WHO MODIFIES AND/OR CONVEYS\r\n",
      "        THE PROGRAM AS PERMITTED ABOVE, BE LIABLE TO YOU FOR DAMAGES, INCLUDING ANY\r\n",
      "        GENERAL, SPECIAL, INCIDENTAL OR CONSEQUENTIAL DAMAGES ARISING OUT OF THE\r\n",
      "        USE OR INABILITY TO USE THE PROGRAM (INCLUDING BUT NOT LIMITED TO LOSS OF\r\n",
      "        DATA OR DATA BEING RENDERED INACCURATE OR LOSSES SUSTAINED BY YOU OR THIRD\r\n",
      "        PARTIES OR A FAILURE OF THE PROGRAM TO OPERATE WITH ANY OTHER PROGRAMS),\r\n",
      "        EVEN IF SUCH HOLDER OR OTHER PARTY HAS BEEN ADVISED OF THE POSSIBILITY OF\r\n",
      "        SUCH DAMAGES.\r\n",
      "        \r\n",
      "          17. Interpretation of Sections 15 and 16.\r\n",
      "        \r\n",
      "          If the disclaimer of warranty and limitation of liability provided\r\n",
      "        above cannot be given local legal effect according to their terms,\r\n",
      "        reviewing courts shall apply local law that most closely approximates\r\n",
      "        an absolute waiver of all civil liability in connection with the\r\n",
      "        Program, unless a warranty or assumption of liability accompanies a\r\n",
      "        copy of the Program in return for a fee.\r\n",
      "        \r\n",
      "                             END OF TERMS AND CONDITIONS\r\n",
      "        \r\n",
      "                    How to Apply These Terms to Your New Programs\r\n",
      "        \r\n",
      "          If you develop a new program, and you want it to be of the greatest\r\n",
      "        possible use to the public, the best way to achieve this is to make it\r\n",
      "        free software which everyone can redistribute and change under these terms.\r\n",
      "        \r\n",
      "          To do so, attach the following notices to the program.  It is safest\r\n",
      "        to attach them to the start of each source file to most effectively\r\n",
      "        state the exclusion of warranty; and each file should have at least\r\n",
      "        the \"copyright\" line and a pointer to where the full notice is found.\r\n",
      "        \r\n",
      "            <one line to give the program's name and a brief idea of what it does.>\r\n",
      "            Copyright (C) <year>  <name of author>\r\n",
      "        \r\n",
      "            This program is free software: you can redistribute it and/or modify\r\n",
      "            it under the terms of the GNU General Public License as published by\r\n",
      "            the Free Software Foundation, either version 3 of the License, or\r\n",
      "            (at your option) any later version.\r\n",
      "        \r\n",
      "            This program is distributed in the hope that it will be useful,\r\n",
      "            but WITHOUT ANY WARRANTY; without even the implied warranty of\r\n",
      "            MERCHANTABILITY or FITNESS FOR A PARTICULAR PURPOSE.  See the\r\n",
      "            GNU General Public License for more details.\r\n",
      "        \r\n",
      "            You should have received a copy of the GNU General Public License\r\n",
      "            along with this program.  If not, see <http://www.gnu.org/licenses/>.\r\n",
      "        \r\n",
      "        Also add information on how to contact you by electronic and paper mail.\r\n",
      "        \r\n",
      "          If the program does terminal interaction, make it output a short\r\n",
      "        notice like this when it starts in an interactive mode:\r\n",
      "        \r\n",
      "            <program>  Copyright (C) <year>  <name of author>\r\n",
      "            This program comes with ABSOLUTELY NO WARRANTY; for details type `show w'.\r\n",
      "            This is free software, and you are welcome to redistribute it\r\n",
      "            under certain conditions; type `show c' for details.\r\n",
      "        \r\n",
      "        The hypothetical commands `show w' and `show c' should show the appropriate\r\n",
      "        parts of the General Public License.  Of course, your program's commands\r\n",
      "        might be different; for a GUI interface, you would use an \"about box\".\r\n",
      "        \r\n",
      "          You should also get your employer (if you work as a programmer) or school,\r\n",
      "        if any, to sign a \"copyright disclaimer\" for the program, if necessary.\r\n",
      "        For more information on this, and how to apply and follow the GNU GPL, see\r\n",
      "        <http://www.gnu.org/licenses/>.\r\n",
      "        \r\n",
      "          The GNU General Public License does not permit incorporating your program\r\n",
      "        into proprietary programs.  If your program is a subroutine library, you\r\n",
      "        may consider it more useful to permit linking proprietary applications with\r\n",
      "        the library.  If this is what you want to do, use the GNU Lesser General\r\n",
      "        Public License instead of this License.  But first, please read\r\n",
      "        <http://www.gnu.org/philosophy/why-not-lgpl.html>.\r\n",
      "        \r\n",
      "        \r\n",
      "        Name: libquadmath\r\n",
      "        Files: scipy.libs/libquadmath*.so\r\n",
      "        Description: dynamically linked to files compiled with gcc\r\n",
      "        Availability: https://gcc.gnu.org/git/?p=gcc.git;a=tree;f=libquadmath\r\n",
      "        License: LGPL-2.1-or-later\r\n",
      "        \r\n",
      "            GCC Quad-Precision Math Library\r\n",
      "            Copyright (C) 2010-2019 Free Software Foundation, Inc.\r\n",
      "            Written by Francois-Xavier Coudert  <fxcoudert@gcc.gnu.org>\r\n",
      "        \r\n",
      "            This file is part of the libquadmath library.\r\n",
      "            Libquadmath is free software; you can redistribute it and/or\r\n",
      "            modify it under the terms of the GNU Library General Public\r\n",
      "            License as published by the Free Software Foundation; either\r\n",
      "            version 2.1 of the License, or (at your option) any later version.\r\n",
      "        \r\n",
      "            Libquadmath is distributed in the hope that it will be useful,\r\n",
      "            but WITHOUT ANY WARRANTY; without even the implied warranty of\r\n",
      "            MERCHANTABILITY or FITNESS FOR A PARTICULAR PURPOSE.  See the GNU\r\n",
      "            Lesser General Public License for more details.\r\n",
      "            https://www.gnu.org/licenses/old-licenses/lgpl-2.1.html\r\n",
      "Location: /home/andres-campos/github_public/Metodos-Estadisticos/venv/lib/python3.10/site-packages\r\n",
      "Requires: numpy\r\n",
      "Required-by: catboost, category-encoders, factor_analyzer, hdbscan, imbalanced-learn, lightgbm, pingouin, pynndescent, scikit-learn, scikit-optimize, statsmodels, sweetviz, umap-learn, xgboost\r\n"
     ]
    }
   ],
   "source": [
    "## Version de Scipy \n",
    "!pip show scipy"
   ]
  },
  {
   "cell_type": "code",
   "execution_count": 5,
   "metadata": {
    "colab": {
     "base_uri": "https://localhost:8080/"
    },
    "executionInfo": {
     "elapsed": 2877,
     "status": "ok",
     "timestamp": 1659667558779,
     "user": {
      "displayName": "Luis Andres Campos Maldonado",
      "userId": "15478348060554261231"
     },
     "user_tz": 300
    },
    "id": "g82BqIAzIiuM",
    "outputId": "6e710a56-85c6-4b6a-f31b-5e1ae61db3f5"
   },
   "outputs": [
    {
     "name": "stdout",
     "output_type": "stream",
     "text": [
      "Name: scikit-learn\r\n",
      "Version: 1.5.1\r\n",
      "Summary: A set of python modules for machine learning and data mining\r\n",
      "Home-page: https://scikit-learn.org\r\n",
      "Author: \r\n",
      "Author-email: \r\n",
      "License: new BSD\r\n",
      "Location: /home/andres-campos/github_public/Metodos-Estadisticos/venv/lib/python3.10/site-packages\r\n",
      "Requires: joblib, numpy, scipy, threadpoolctl\r\n",
      "Required-by: category-encoders, factor_analyzer, hdbscan, imbalanced-learn, mglearn, pingouin, prince, pynndescent, scikit-optimize, umap-learn\r\n"
     ]
    }
   ],
   "source": [
    "## Version scikit-learn\n",
    "!pip show scikit-learn"
   ]
  },
  {
   "cell_type": "code",
   "execution_count": 6,
   "metadata": {
    "executionInfo": {
     "elapsed": 64,
     "status": "ok",
     "timestamp": 1659667558781,
     "user": {
      "displayName": "Luis Andres Campos Maldonado",
      "userId": "15478348060554261231"
     },
     "user_tz": 300
    },
    "id": "O4-IikAWnhUF"
   },
   "outputs": [],
   "source": [
    "#!pip list "
   ]
  },
  {
   "cell_type": "code",
   "execution_count": 7,
   "metadata": {
    "colab": {
     "base_uri": "https://localhost:8080/"
    },
    "executionInfo": {
     "elapsed": 63,
     "status": "ok",
     "timestamp": 1659667558782,
     "user": {
      "displayName": "Luis Andres Campos Maldonado",
      "userId": "15478348060554261231"
     },
     "user_tz": 300
    },
    "id": "U3SMg8NeM1Hp",
    "outputId": "db1993c9-377f-4a83-dc32-8eb125cb012f"
   },
   "outputs": [
    {
     "name": "stdout",
     "output_type": "stream",
     "text": [
      "x:\n",
      "[[1 2 3]\n",
      " [4 5 6]]\n"
     ]
    }
   ],
   "source": [
    "import numpy as np\n",
    "x = np.array([[1, 2, 3], [4, 5, 6]])\n",
    "print(\"x:\\n{}\".format(x))"
   ]
  },
  {
   "cell_type": "code",
   "execution_count": 8,
   "metadata": {
    "colab": {
     "base_uri": "https://localhost:8080/"
    },
    "executionInfo": {
     "elapsed": 57,
     "status": "ok",
     "timestamp": 1659667558785,
     "user": {
      "displayName": "Luis Andres Campos Maldonado",
      "userId": "15478348060554261231"
     },
     "user_tz": 300
    },
    "id": "vR-CD0-yNQ_3",
    "outputId": "08a573e9-240b-4d30-d39e-ea3814e5a867"
   },
   "outputs": [
    {
     "name": "stdout",
     "output_type": "stream",
     "text": [
      "NumPy array:\n",
      "[[1. 0. 0. 0.]\n",
      " [0. 1. 0. 0.]\n",
      " [0. 0. 1. 0.]\n",
      " [0. 0. 0. 1.]]\n"
     ]
    }
   ],
   "source": [
    "from scipy import sparse\n",
    "# Create a 2D NumPy array with a diagonal of ones, and zeros everywhere else\n",
    "eye = np.eye(4)\n",
    "print(\"NumPy array:\\n{}\".format(eye))"
   ]
  },
  {
   "cell_type": "code",
   "execution_count": 9,
   "metadata": {
    "colab": {
     "base_uri": "https://localhost:8080/"
    },
    "executionInfo": {
     "elapsed": 51,
     "status": "ok",
     "timestamp": 1659667558786,
     "user": {
      "displayName": "Luis Andres Campos Maldonado",
      "userId": "15478348060554261231"
     },
     "user_tz": 300
    },
    "id": "jnrewCvINaPS",
    "outputId": "dcec2890-672d-4ef7-9a52-e9841e829923"
   },
   "outputs": [
    {
     "name": "stdout",
     "output_type": "stream",
     "text": [
      "\n",
      "SciPy sparse CSR matrix:\n",
      "<Compressed Sparse Row sparse matrix of dtype 'float64'\n",
      "\twith 4 stored elements and shape (4, 4)>\n",
      "  Coords\tValues\n",
      "  (0, 0)\t1.0\n",
      "  (1, 1)\t1.0\n",
      "  (2, 2)\t1.0\n",
      "  (3, 3)\t1.0\n"
     ]
    }
   ],
   "source": [
    "# Convert the NumPy array to a SciPy sparse matrix in CSR format\n",
    "# Only the nonzero entries are stored\n",
    "sparse_matrix = sparse.csr_matrix(eye)\n",
    "print(\"\\nSciPy sparse CSR matrix:\\n{}\".format(sparse_matrix))"
   ]
  },
  {
   "cell_type": "code",
   "execution_count": 10,
   "metadata": {
    "colab": {
     "base_uri": "https://localhost:8080/"
    },
    "executionInfo": {
     "elapsed": 46,
     "status": "ok",
     "timestamp": 1659667558787,
     "user": {
      "displayName": "Luis Andres Campos Maldonado",
      "userId": "15478348060554261231"
     },
     "user_tz": 300
    },
    "id": "VuHjv-yUOASm",
    "outputId": "60652543-4501-40c4-b8fb-0bf02d8b6344"
   },
   "outputs": [
    {
     "name": "stdout",
     "output_type": "stream",
     "text": [
      "COO representation:\n",
      "<COOrdinate sparse matrix of dtype 'float64'\n",
      "\twith 4 stored elements and shape (4, 4)>\n",
      "  Coords\tValues\n",
      "  (0, 0)\t1.0\n",
      "  (1, 1)\t1.0\n",
      "  (2, 2)\t1.0\n",
      "  (3, 3)\t1.0\n"
     ]
    }
   ],
   "source": [
    "data = np.ones(4)\n",
    "row_indices = np.arange(4)\n",
    "col_indices = np.arange(4)\n",
    "eye_coo = sparse.coo_matrix((data, (row_indices, col_indices)))\n",
    "print(\"COO representation:\\n{}\".format(eye_coo))"
   ]
  },
  {
   "cell_type": "code",
   "execution_count": 11,
   "metadata": {
    "colab": {
     "base_uri": "https://localhost:8080/",
     "height": 265
    },
    "executionInfo": {
     "elapsed": 42,
     "status": "ok",
     "timestamp": 1659667558789,
     "user": {
      "displayName": "Luis Andres Campos Maldonado",
      "userId": "15478348060554261231"
     },
     "user_tz": 300
    },
    "id": "v8650QioOGto",
    "outputId": "9ebf740f-92e1-4b67-d21a-6e33600bb59b"
   },
   "outputs": [
    {
     "data": {
      "image/png": "[encoded data removed]",
      "text/plain": [
       "<Figure size 640x480 with 1 Axes>"
      ]
     },
     "metadata": {},
     "output_type": "display_data"
    }
   ],
   "source": [
    "import matplotlib.pyplot as plt\n",
    "# Genera una secuencia de números de -10 a 10 con 100 valores.\n",
    "x = np.linspace(-10, 10, 100)\n",
    "# Crea un array matriz usando seno.\n",
    "y = np.sin(x)\n",
    "# Gráfico de un array contra otro.\n",
    "plt.plot(x, y, marker=\"x\")\n",
    "plt.show()"
   ]
  },
  {
   "cell_type": "code",
   "execution_count": 12,
   "metadata": {
    "colab": {
     "base_uri": "https://localhost:8080/",
     "height": 175
    },
    "executionInfo": {
     "elapsed": 423,
     "status": "ok",
     "timestamp": 1659667559178,
     "user": {
      "displayName": "Luis Andres Campos Maldonado",
      "userId": "15478348060554261231"
     },
     "user_tz": 300
    },
    "id": "rziSdyAnOfur",
    "outputId": "ddd2363b-b046-4aeb-e124-0d9e06cba4d2"
   },
   "outputs": [
    {
     "data": {
      "text/html": [
       "<div>\n",
       "<style scoped>\n",
       "    .dataframe tbody tr th:only-of-type {\n",
       "        vertical-align: middle;\n",
       "    }\n",
       "\n",
       "    .dataframe tbody tr th {\n",
       "        vertical-align: top;\n",
       "    }\n",
       "\n",
       "    .dataframe thead th {\n",
       "        text-align: right;\n",
       "    }\n",
       "</style>\n",
       "<table border=\"1\" class=\"dataframe\">\n",
       "  <thead>\n",
       "    <tr style=\"text-align: right;\">\n",
       "      <th></th>\n",
       "      <th>Name</th>\n",
       "      <th>Location</th>\n",
       "      <th>Age</th>\n",
       "    </tr>\n",
       "  </thead>\n",
       "  <tbody>\n",
       "    <tr>\n",
       "      <th>0</th>\n",
       "      <td>John</td>\n",
       "      <td>New York</td>\n",
       "      <td>24</td>\n",
       "    </tr>\n",
       "    <tr>\n",
       "      <th>1</th>\n",
       "      <td>Anna</td>\n",
       "      <td>Paris</td>\n",
       "      <td>13</td>\n",
       "    </tr>\n",
       "    <tr>\n",
       "      <th>2</th>\n",
       "      <td>Peter</td>\n",
       "      <td>Berlin</td>\n",
       "      <td>53</td>\n",
       "    </tr>\n",
       "    <tr>\n",
       "      <th>3</th>\n",
       "      <td>Linda</td>\n",
       "      <td>London</td>\n",
       "      <td>33</td>\n",
       "    </tr>\n",
       "  </tbody>\n",
       "</table>\n",
       "</div>"
      ],
      "text/plain": [
       "    Name  Location  Age\n",
       "0   John  New York   24\n",
       "1   Anna     Paris   13\n",
       "2  Peter    Berlin   53\n",
       "3  Linda    London   33"
      ]
     },
     "metadata": {},
     "output_type": "display_data"
    }
   ],
   "source": [
    "import pandas as pd\n",
    "# create a simple dataset of people\n",
    "data = {'Name': [\"John\", \"Anna\", \"Peter\", \"Linda\"],'Location' : [\"New York\", \"Paris\", \"Berlin\", \"London\"],\n",
    "        'Age' : [24, 13, 53, 33],}\n",
    "\n",
    "data_pandas = pd.DataFrame(data)\n",
    "display(data_pandas)"
   ]
  },
  {
   "cell_type": "code",
   "execution_count": 13,
   "metadata": {
    "colab": {
     "base_uri": "https://localhost:8080/",
     "height": 112
    },
    "executionInfo": {
     "elapsed": 16,
     "status": "ok",
     "timestamp": 1659667559179,
     "user": {
      "displayName": "Luis Andres Campos Maldonado",
      "userId": "15478348060554261231"
     },
     "user_tz": 300
    },
    "id": "PAcRHoXPOm89",
    "outputId": "d100e10a-6c0f-4763-d265-b0b6036a68cd"
   },
   "outputs": [
    {
     "data": {
      "text/html": [
       "<div>\n",
       "<style scoped>\n",
       "    .dataframe tbody tr th:only-of-type {\n",
       "        vertical-align: middle;\n",
       "    }\n",
       "\n",
       "    .dataframe tbody tr th {\n",
       "        vertical-align: top;\n",
       "    }\n",
       "\n",
       "    .dataframe thead th {\n",
       "        text-align: right;\n",
       "    }\n",
       "</style>\n",
       "<table border=\"1\" class=\"dataframe\">\n",
       "  <thead>\n",
       "    <tr style=\"text-align: right;\">\n",
       "      <th></th>\n",
       "      <th>Name</th>\n",
       "      <th>Location</th>\n",
       "      <th>Age</th>\n",
       "    </tr>\n",
       "  </thead>\n",
       "  <tbody>\n",
       "    <tr>\n",
       "      <th>2</th>\n",
       "      <td>Peter</td>\n",
       "      <td>Berlin</td>\n",
       "      <td>53</td>\n",
       "    </tr>\n",
       "    <tr>\n",
       "      <th>3</th>\n",
       "      <td>Linda</td>\n",
       "      <td>London</td>\n",
       "      <td>33</td>\n",
       "    </tr>\n",
       "  </tbody>\n",
       "</table>\n",
       "</div>"
      ],
      "text/plain": [
       "    Name Location  Age\n",
       "2  Peter   Berlin   53\n",
       "3  Linda   London   33"
      ]
     },
     "metadata": {},
     "output_type": "display_data"
    }
   ],
   "source": [
    "# Seleccionamos todos los registros con \"Age\" mayor a 30.\n",
    "display(data_pandas[data_pandas[\"Age\"] > 30])"
   ]
  },
  {
   "cell_type": "code",
   "execution_count": 14,
   "metadata": {
    "colab": {
     "base_uri": "https://localhost:8080/"
    },
    "executionInfo": {
     "elapsed": 681,
     "status": "ok",
     "timestamp": 1659667559846,
     "user": {
      "displayName": "Luis Andres Campos Maldonado",
      "userId": "15478348060554261231"
     },
     "user_tz": 300
    },
    "id": "Wtso7lxrO6sf",
    "outputId": "3de6ab79-2e3f-478c-9e93-d5175173c7ae"
   },
   "outputs": [
    {
     "name": "stdout",
     "output_type": "stream",
     "text": [
      "Python version: 3.10.12 (main, Nov  6 2024, 20:22:13) [GCC 11.4.0]\n",
      "pandas version: 2.2.2\n",
      "matplotlib version: 3.9.2\n",
      "NumPy version: 1.26.4\n",
      "SciPy version: 1.14.0\n",
      "IPython version: 8.26.0\n"
     ]
    },
    {
     "name": "stdout",
     "output_type": "stream",
     "text": [
      "scikit-learn version: 1.5.1\n"
     ]
    }
   ],
   "source": [
    "import sys\n",
    "print(\"Python version: {}\".format(sys.version))\n",
    "import pandas as pd\n",
    "print(\"pandas version: {}\".format(pd.__version__))\n",
    "import matplotlib\n",
    "print(\"matplotlib version: {}\".format(matplotlib.__version__))\n",
    "import numpy as np\n",
    "print(\"NumPy version: {}\".format(np.__version__))\n",
    "import scipy as sp\n",
    "print(\"SciPy version: {}\".format(sp.__version__))\n",
    "import IPython\n",
    "print(\"IPython version: {}\".format(IPython.__version__))\n",
    "import sklearn\n",
    "print(\"scikit-learn version: {}\".format(sklearn.__version__))"
   ]
  },
  {
   "cell_type": "markdown",
   "metadata": {
    "id": "jM2YfWz33EiG"
   },
   "source": [
    "## ***Primera aplicación: clasificación de las especies de iris***\n",
    "\n",
    "Vamos a abordar una primera aplicación de machine learning creando nuestro primer modelo.\n",
    "\n",
    "Supongamos que un jardinero está interesado en distinguir las especies de algunas flores de `iris` que ha encontrado. El jardinero ha recopilado algunas medidas asociadas con cada `iris`: \n",
    "\n",
    "- _El largo de los pétalos (petal length.)_\n",
    "- _El ancho de los pétalos (petal width)._\n",
    "- _El largo de los sépalos (sepal length)._\n",
    "- _El ancho de los sépalos (sepal width)._\n",
    "\n",
    "Todo lo anterior medido en centímetros (vea la Figura 1-2).\n",
    "\n",
    "\n",
    "También tiene las medidas de los `iris` que han sido previamente identificados por un experto botánico como perteneciente a las especies:\n",
    "\n",
    "- _setosa._\n",
    "- _versicolor._\n",
    "- _virginica._\n",
    "\n",
    "Supongamos que estas son las únicas especies que nuestro jardinero aficionado encontrará en la naturaleza. \n",
    "\n",
    "***Objetivo:*** Construir un modelo de machine learning que pueda aprender de las mediciones de estos lirios cuya especie se conoce, de modo que podamos predecir la especie para un nuevo `iris`."
   ]
  },
  {
   "cell_type": "markdown",
   "metadata": {
    "id": "F4fV3MNh7ecC"
   },
   "source": [
    "***Solución:*** \n",
    "\n",
    "\n",
    "Los datos que se usarán son los consignados en el DataFrame `Iris` un clásico de clásicos en los ejemplos de machine learning y estadística. En el módulo `datasets` de scikit-learn podemos obtener el conjunto de datos.\n",
    "\n"
   ]
  },
  {
   "cell_type": "code",
   "execution_count": 15,
   "metadata": {
    "executionInfo": {
     "elapsed": 147,
     "status": "ok",
     "timestamp": 1659667559852,
     "user": {
      "displayName": "Luis Andres Campos Maldonado",
      "userId": "15478348060554261231"
     },
     "user_tz": 300
    },
    "id": "QJyh-N5O8E56"
   },
   "outputs": [],
   "source": [
    "from sklearn.datasets import load_iris\n",
    "iris_dataset = load_iris()"
   ]
  },
  {
   "cell_type": "markdown",
   "metadata": {
    "id": "NdKRvd9I-FzY"
   },
   "source": [
    "El objeto iris que devuelve load_iris es un objeto Bunch, que es muy similar a un diccionario. Es decir, estructura key-value."
   ]
  },
  {
   "cell_type": "code",
   "execution_count": 16,
   "metadata": {
    "colab": {
     "base_uri": "https://localhost:8080/"
    },
    "executionInfo": {
     "elapsed": 145,
     "status": "ok",
     "timestamp": 1659667559853,
     "user": {
      "displayName": "Luis Andres Campos Maldonado",
      "userId": "15478348060554261231"
     },
     "user_tz": 300
    },
    "id": "VnFZadU59NN5",
    "outputId": "b00576d8-ff70-4529-c1f8-86394fa624a7"
   },
   "outputs": [
    {
     "name": "stdout",
     "output_type": "stream",
     "text": [
      "Keys del iris_dataset: \n",
      "dict_keys(['data', 'target', 'frame', 'target_names', 'DESCR', 'feature_names', 'filename', 'data_module'])\n"
     ]
    }
   ],
   "source": [
    "print(\"Keys del iris_dataset: \\n{}\".format(iris_dataset.keys()))"
   ]
  },
  {
   "cell_type": "markdown",
   "metadata": {
    "id": "MC2OPkdi-yxG"
   },
   "source": [
    "El value con key `DESCR` es una breve descripción del conjunto de datos. "
   ]
  },
  {
   "cell_type": "code",
   "execution_count": 17,
   "metadata": {
    "colab": {
     "base_uri": "https://localhost:8080/"
    },
    "executionInfo": {
     "elapsed": 138,
     "status": "ok",
     "timestamp": 1659667559854,
     "user": {
      "displayName": "Luis Andres Campos Maldonado",
      "userId": "15478348060554261231"
     },
     "user_tz": 300
    },
    "id": "3r4hmCc69IV-",
    "outputId": "8f55c9cf-263b-4c24-823a-30af68560622"
   },
   "outputs": [
    {
     "name": "stdout",
     "output_type": "stream",
     "text": [
      ".. _iris_dataset:\n",
      "\n",
      "Iris plants dataset\n",
      "--------------------\n",
      "\n",
      "**Data Set Characteristics:**\n",
      "\n",
      ":Number of Instances: 150 (50 in each of three classes)\n",
      ":Number of Attributes: 4 numeric, predictive attributes and the class\n",
      ":Attribute Information:\n",
      "    - sepal length in cm\n",
      "    - sepal width in cm\n",
      "    - petal length in cm\n",
      "    - petal width in cm\n",
      "    - class:\n",
      "            - Iris-Setosa\n",
      "            - Iris-Versicolour\n",
      "            - Iris-Virginica\n",
      "\n",
      ":Summary Statistics:\n",
      "\n",
      "============== ==== ==== ======= =====\n"
     ]
    }
   ],
   "source": [
    "print(iris_dataset['DESCR'][:500])"
   ]
  },
  {
   "cell_type": "markdown",
   "metadata": {
    "id": "YOkElw9u_eYW"
   },
   "source": [
    "Tenemos las especies de flor que queremos predecir:"
   ]
  },
  {
   "cell_type": "code",
   "execution_count": 18,
   "metadata": {
    "colab": {
     "base_uri": "https://localhost:8080/"
    },
    "executionInfo": {
     "elapsed": 128,
     "status": "ok",
     "timestamp": 1659667559855,
     "user": {
      "displayName": "Luis Andres Campos Maldonado",
      "userId": "15478348060554261231"
     },
     "user_tz": 300
    },
    "id": "lgvYO5-S_iTN",
    "outputId": "8102b400-d0ad-42ac-be9e-27d14cf838a8"
   },
   "outputs": [
    {
     "name": "stdout",
     "output_type": "stream",
     "text": [
      "Target names: ['setosa' 'versicolor' 'virginica']\n"
     ]
    }
   ],
   "source": [
    "print(\"Target names: {}\".format(iris_dataset['target_names']))"
   ]
  },
  {
   "cell_type": "markdown",
   "metadata": {
    "id": "TAVtR9SR_8Kw"
   },
   "source": [
    "Tenemos las características de los registros."
   ]
  },
  {
   "cell_type": "code",
   "execution_count": 19,
   "metadata": {
    "colab": {
     "base_uri": "https://localhost:8080/"
    },
    "executionInfo": {
     "elapsed": 117,
     "status": "ok",
     "timestamp": 1659667559856,
     "user": {
      "displayName": "Luis Andres Campos Maldonado",
      "userId": "15478348060554261231"
     },
     "user_tz": 300
    },
    "id": "6DwfL7VR_93d",
    "outputId": "5ad2deec-250f-4569-a995-059f49b14d4e"
   },
   "outputs": [
    {
     "name": "stdout",
     "output_type": "stream",
     "text": [
      "Features names: ['sepal length (cm)', 'sepal width (cm)', 'petal length (cm)', 'petal width (cm)']\n"
     ]
    }
   ],
   "source": [
    "print(\"Features names: {}\".format(iris_dataset['feature_names']))"
   ]
  },
  {
   "cell_type": "markdown",
   "metadata": {
    "id": "dPvtpZxXAbNH"
   },
   "source": [
    "Los datos están en la key \"data\", ellos contienen las medidas de longitud y  ancho de los pétalos y sépalos.\n",
    "Note que esta información está en un NumPy array."
   ]
  },
  {
   "cell_type": "code",
   "execution_count": 20,
   "metadata": {
    "colab": {
     "base_uri": "https://localhost:8080/"
    },
    "executionInfo": {
     "elapsed": 106,
     "status": "ok",
     "timestamp": 1659667559857,
     "user": {
      "displayName": "Luis Andres Campos Maldonado",
      "userId": "15478348060554261231"
     },
     "user_tz": 300
    },
    "id": "gkh3L78cBCDI",
    "outputId": "b6314068-ac61-4363-b5d5-18fe35f0eb95"
   },
   "outputs": [
    {
     "name": "stdout",
     "output_type": "stream",
     "text": [
      "Tipo de la data: <class 'numpy.ndarray'>\n"
     ]
    }
   ],
   "source": [
    "print(\"Tipo de la data: {}\".format(type(iris_dataset['data'])))"
   ]
  },
  {
   "cell_type": "code",
   "execution_count": 21,
   "metadata": {
    "colab": {
     "base_uri": "https://localhost:8080/"
    },
    "executionInfo": {
     "elapsed": 97,
     "status": "ok",
     "timestamp": 1659667559858,
     "user": {
      "displayName": "Luis Andres Campos Maldonado",
      "userId": "15478348060554261231"
     },
     "user_tz": 300
    },
    "id": "eQvLkLLwBTAg",
    "outputId": "a52ca723-368f-41f3-a225-2e87ab8e0417"
   },
   "outputs": [
    {
     "name": "stdout",
     "output_type": "stream",
     "text": [
      "Tamaño de la data: (150, 4)\n"
     ]
    }
   ],
   "source": [
    "print(\"Tamaño de la data: {}\".format(iris_dataset['data'].shape))"
   ]
  },
  {
   "cell_type": "code",
   "execution_count": 22,
   "metadata": {
    "colab": {
     "base_uri": "https://localhost:8080/"
    },
    "executionInfo": {
     "elapsed": 88,
     "status": "ok",
     "timestamp": 1659667559859,
     "user": {
      "displayName": "Luis Andres Campos Maldonado",
      "userId": "15478348060554261231"
     },
     "user_tz": 300
    },
    "id": "beHuiRxEBIux",
    "outputId": "bd47b048-b88b-412d-e58e-050df486c807"
   },
   "outputs": [
    {
     "data": {
      "text/plain": [
       "array([[5.1, 3.5, 1.4, 0.2],\n",
       "       [4.9, 3. , 1.4, 0.2],\n",
       "       [4.7, 3.2, 1.3, 0.2],\n",
       "       [4.6, 3.1, 1.5, 0.2],\n",
       "       [5. , 3.6, 1.4, 0.2]])"
      ]
     },
     "execution_count": 22,
     "metadata": {},
     "output_type": "execute_result"
    }
   ],
   "source": [
    "## 5 primeros registros\n",
    "iris_dataset['data'][:5]"
   ]
  },
  {
   "cell_type": "markdown",
   "metadata": {
    "id": "iIb88B7OByF4"
   },
   "source": [
    "A partir de estos datos, podemos ver que todas las primeras cinco flores tienen un ancho de pétalo de 0,2 cm, y que la primera flor tiene el sépalo más largo, con 5,1 cm."
   ]
  },
  {
   "cell_type": "markdown",
   "metadata": {
    "id": "EvXwcB2iB-Lu"
   },
   "source": [
    "\n",
    "La variable objetivo (_target_) conntiene las especies de cada una de las flores que se midieron, también\n",
    "como un NumPy array:"
   ]
  },
  {
   "cell_type": "code",
   "execution_count": 23,
   "metadata": {
    "colab": {
     "base_uri": "https://localhost:8080/"
    },
    "executionInfo": {
     "elapsed": 80,
     "status": "ok",
     "timestamp": 1659667559860,
     "user": {
      "displayName": "Luis Andres Campos Maldonado",
      "userId": "15478348060554261231"
     },
     "user_tz": 300
    },
    "id": "5yaW034VCEpk",
    "outputId": "3929f2be-ac85-4536-c546-cf5567aa49e0"
   },
   "outputs": [
    {
     "name": "stdout",
     "output_type": "stream",
     "text": [
      "Tipo del target: <class 'numpy.ndarray'>\n"
     ]
    }
   ],
   "source": [
    "print(\"Tipo del target: {}\".format(type(iris_dataset['target'])))"
   ]
  },
  {
   "cell_type": "code",
   "execution_count": 24,
   "metadata": {
    "colab": {
     "base_uri": "https://localhost:8080/"
    },
    "executionInfo": {
     "elapsed": 69,
     "status": "ok",
     "timestamp": 1659667559861,
     "user": {
      "displayName": "Luis Andres Campos Maldonado",
      "userId": "15478348060554261231"
     },
     "user_tz": 300
    },
    "id": "GspbIs-OCi_K",
    "outputId": "9c5a3368-8bad-462b-833a-4e7754ca233e"
   },
   "outputs": [
    {
     "name": "stdout",
     "output_type": "stream",
     "text": [
      "Tamaño de la variable target: (150,)\n"
     ]
    }
   ],
   "source": [
    "print(\"Tamaño de la variable target: {}\".format(iris_dataset['target'].shape))"
   ]
  },
  {
   "cell_type": "code",
   "execution_count": 25,
   "metadata": {
    "colab": {
     "base_uri": "https://localhost:8080/"
    },
    "executionInfo": {
     "elapsed": 60,
     "status": "ok",
     "timestamp": 1659667559862,
     "user": {
      "displayName": "Luis Andres Campos Maldonado",
      "userId": "15478348060554261231"
     },
     "user_tz": 300
    },
    "id": "B7JLAMEuCaVk",
    "outputId": "13ea902d-cdad-46c6-c3ba-3016135afd87"
   },
   "outputs": [
    {
     "data": {
      "text/plain": [
       "array([0, 0, 0, 0, 0, 0, 0, 0, 0, 0, 0, 0, 0, 0, 0, 0, 0, 0, 0, 0, 0, 0,\n",
       "       0, 0, 0, 0, 0, 0, 0, 0, 0, 0, 0, 0, 0, 0, 0, 0, 0, 0, 0, 0, 0, 0,\n",
       "       0, 0, 0, 0, 0, 0, 1, 1, 1, 1, 1, 1, 1, 1, 1, 1, 1, 1, 1, 1, 1, 1,\n",
       "       1, 1, 1, 1, 1, 1, 1, 1, 1, 1, 1, 1, 1, 1, 1, 1, 1, 1, 1, 1, 1, 1,\n",
       "       1, 1, 1, 1, 1, 1, 1, 1, 1, 1, 1, 1, 2, 2, 2, 2, 2, 2, 2, 2, 2, 2,\n",
       "       2, 2, 2, 2, 2, 2, 2, 2, 2, 2, 2, 2, 2, 2, 2, 2, 2, 2, 2, 2, 2, 2,\n",
       "       2, 2, 2, 2, 2, 2, 2, 2, 2, 2, 2, 2, 2, 2, 2, 2, 2, 2])"
      ]
     },
     "execution_count": 25,
     "metadata": {},
     "output_type": "execute_result"
    }
   ],
   "source": [
    "iris_dataset['target']"
   ]
  },
  {
   "cell_type": "markdown",
   "metadata": {
    "id": "XGju3vg5C4vI"
   },
   "source": [
    "Los significados de los números vienen dados en: \n",
    "\n",
    "```python\n",
    "iris['target_names']:\n",
    "```\n",
    "Es decir:\n",
    "\n",
    "- 0 significa setosa.\n",
    "- 1 significa versicolor.\n",
    "- 2 significa virginica."
   ]
  },
  {
   "cell_type": "markdown",
   "metadata": {
    "id": "woe12wSccREr"
   },
   "source": [
    "Notemos que conocemos la etiqueta correcta de cada registro de `iris`, en cuyo caso estamos en presencia de un problema de aprendizaje supervisado. En este problema, queremos predecir una de entre varias\n",
    "opciones (las especies de `iris`). Este es un ejemplo de un problema de _clasificación_. Las posibles salidas (diferentes especies de iris) se llaman _clases_. Cada elemento en el conjunto de datos pertenece a una de tres clases, por lo que este problema es un problema de clasificación de tres clases (three-class). El output  deseado para un registro (un `iris`) es la especie de esta flor. La especie a la que pertenece se llama etiqueta (_label_)."
   ]
  },
  {
   "cell_type": "code",
   "execution_count": 26,
   "metadata": {
    "colab": {
     "base_uri": "https://localhost:8080/",
     "height": 206
    },
    "executionInfo": {
     "elapsed": 50,
     "status": "ok",
     "timestamp": 1659667559863,
     "user": {
      "displayName": "Luis Andres Campos Maldonado",
      "userId": "15478348060554261231"
     },
     "user_tz": 300
    },
    "id": "9QZ4-L5hEPKY",
    "outputId": "be2dcdfb-0239-47c9-d555-0cd534027964"
   },
   "outputs": [
    {
     "data": {
      "text/html": [
       "<div>\n",
       "<style scoped>\n",
       "    .dataframe tbody tr th:only-of-type {\n",
       "        vertical-align: middle;\n",
       "    }\n",
       "\n",
       "    .dataframe tbody tr th {\n",
       "        vertical-align: top;\n",
       "    }\n",
       "\n",
       "    .dataframe thead th {\n",
       "        text-align: right;\n",
       "    }\n",
       "</style>\n",
       "<table border=\"1\" class=\"dataframe\">\n",
       "  <thead>\n",
       "    <tr style=\"text-align: right;\">\n",
       "      <th></th>\n",
       "      <th>sepal length (cm)</th>\n",
       "      <th>sepal width (cm)</th>\n",
       "      <th>petal length (cm)</th>\n",
       "      <th>petal width (cm)</th>\n",
       "    </tr>\n",
       "  </thead>\n",
       "  <tbody>\n",
       "    <tr>\n",
       "      <th>0</th>\n",
       "      <td>5.1</td>\n",
       "      <td>3.5</td>\n",
       "      <td>1.4</td>\n",
       "      <td>0.2</td>\n",
       "    </tr>\n",
       "    <tr>\n",
       "      <th>1</th>\n",
       "      <td>4.9</td>\n",
       "      <td>3.0</td>\n",
       "      <td>1.4</td>\n",
       "      <td>0.2</td>\n",
       "    </tr>\n",
       "    <tr>\n",
       "      <th>2</th>\n",
       "      <td>4.7</td>\n",
       "      <td>3.2</td>\n",
       "      <td>1.3</td>\n",
       "      <td>0.2</td>\n",
       "    </tr>\n",
       "    <tr>\n",
       "      <th>3</th>\n",
       "      <td>4.6</td>\n",
       "      <td>3.1</td>\n",
       "      <td>1.5</td>\n",
       "      <td>0.2</td>\n",
       "    </tr>\n",
       "    <tr>\n",
       "      <th>4</th>\n",
       "      <td>5.0</td>\n",
       "      <td>3.6</td>\n",
       "      <td>1.4</td>\n",
       "      <td>0.2</td>\n",
       "    </tr>\n",
       "  </tbody>\n",
       "</table>\n",
       "</div>"
      ],
      "text/plain": [
       "   sepal length (cm)  sepal width (cm)  petal length (cm)  petal width (cm)\n",
       "0                5.1               3.5                1.4               0.2\n",
       "1                4.9               3.0                1.4               0.2\n",
       "2                4.7               3.2                1.3               0.2\n",
       "3                4.6               3.1                1.5               0.2\n",
       "4                5.0               3.6                1.4               0.2"
      ]
     },
     "execution_count": 26,
     "metadata": {},
     "output_type": "execute_result"
    }
   ],
   "source": [
    "import pandas as pd\n",
    "\n",
    "iris_dataframe = pd.DataFrame(iris_dataset['data'], columns = iris_dataset['feature_names'])\n",
    "iris_dataframe.head()"
   ]
  },
  {
   "cell_type": "code",
   "execution_count": 27,
   "metadata": {
    "colab": {
     "base_uri": "https://localhost:8080/",
     "height": 424
    },
    "executionInfo": {
     "elapsed": 45,
     "status": "ok",
     "timestamp": 1659667559863,
     "user": {
      "displayName": "Luis Andres Campos Maldonado",
      "userId": "15478348060554261231"
     },
     "user_tz": 300
    },
    "id": "bZvRMKYWGMv0",
    "outputId": "6be1e320-7d40-43ea-801a-8231ce6e0363"
   },
   "outputs": [
    {
     "data": {
      "text/html": [
       "<div>\n",
       "<style scoped>\n",
       "    .dataframe tbody tr th:only-of-type {\n",
       "        vertical-align: middle;\n",
       "    }\n",
       "\n",
       "    .dataframe tbody tr th {\n",
       "        vertical-align: top;\n",
       "    }\n",
       "\n",
       "    .dataframe thead th {\n",
       "        text-align: right;\n",
       "    }\n",
       "</style>\n",
       "<table border=\"1\" class=\"dataframe\">\n",
       "  <thead>\n",
       "    <tr style=\"text-align: right;\">\n",
       "      <th></th>\n",
       "      <th>sepal length (cm)</th>\n",
       "      <th>sepal width (cm)</th>\n",
       "      <th>petal length (cm)</th>\n",
       "      <th>petal width (cm)</th>\n",
       "      <th>target_name</th>\n",
       "    </tr>\n",
       "  </thead>\n",
       "  <tbody>\n",
       "    <tr>\n",
       "      <th>0</th>\n",
       "      <td>5.1</td>\n",
       "      <td>3.5</td>\n",
       "      <td>1.4</td>\n",
       "      <td>0.2</td>\n",
       "      <td>setosa</td>\n",
       "    </tr>\n",
       "    <tr>\n",
       "      <th>1</th>\n",
       "      <td>4.9</td>\n",
       "      <td>3.0</td>\n",
       "      <td>1.4</td>\n",
       "      <td>0.2</td>\n",
       "      <td>setosa</td>\n",
       "    </tr>\n",
       "    <tr>\n",
       "      <th>2</th>\n",
       "      <td>4.7</td>\n",
       "      <td>3.2</td>\n",
       "      <td>1.3</td>\n",
       "      <td>0.2</td>\n",
       "      <td>setosa</td>\n",
       "    </tr>\n",
       "    <tr>\n",
       "      <th>3</th>\n",
       "      <td>4.6</td>\n",
       "      <td>3.1</td>\n",
       "      <td>1.5</td>\n",
       "      <td>0.2</td>\n",
       "      <td>setosa</td>\n",
       "    </tr>\n",
       "    <tr>\n",
       "      <th>4</th>\n",
       "      <td>5.0</td>\n",
       "      <td>3.6</td>\n",
       "      <td>1.4</td>\n",
       "      <td>0.2</td>\n",
       "      <td>setosa</td>\n",
       "    </tr>\n",
       "    <tr>\n",
       "      <th>...</th>\n",
       "      <td>...</td>\n",
       "      <td>...</td>\n",
       "      <td>...</td>\n",
       "      <td>...</td>\n",
       "      <td>...</td>\n",
       "    </tr>\n",
       "    <tr>\n",
       "      <th>145</th>\n",
       "      <td>6.7</td>\n",
       "      <td>3.0</td>\n",
       "      <td>5.2</td>\n",
       "      <td>2.3</td>\n",
       "      <td>virginica</td>\n",
       "    </tr>\n",
       "    <tr>\n",
       "      <th>146</th>\n",
       "      <td>6.3</td>\n",
       "      <td>2.5</td>\n",
       "      <td>5.0</td>\n",
       "      <td>1.9</td>\n",
       "      <td>virginica</td>\n",
       "    </tr>\n",
       "    <tr>\n",
       "      <th>147</th>\n",
       "      <td>6.5</td>\n",
       "      <td>3.0</td>\n",
       "      <td>5.2</td>\n",
       "      <td>2.0</td>\n",
       "      <td>virginica</td>\n",
       "    </tr>\n",
       "    <tr>\n",
       "      <th>148</th>\n",
       "      <td>6.2</td>\n",
       "      <td>3.4</td>\n",
       "      <td>5.4</td>\n",
       "      <td>2.3</td>\n",
       "      <td>virginica</td>\n",
       "    </tr>\n",
       "    <tr>\n",
       "      <th>149</th>\n",
       "      <td>5.9</td>\n",
       "      <td>3.0</td>\n",
       "      <td>5.1</td>\n",
       "      <td>1.8</td>\n",
       "      <td>virginica</td>\n",
       "    </tr>\n",
       "  </tbody>\n",
       "</table>\n",
       "<p>150 rows × 5 columns</p>\n",
       "</div>"
      ],
      "text/plain": [
       "     sepal length (cm)  sepal width (cm)  petal length (cm)  petal width (cm)  \\\n",
       "0                  5.1               3.5                1.4               0.2   \n",
       "1                  4.9               3.0                1.4               0.2   \n",
       "2                  4.7               3.2                1.3               0.2   \n",
       "3                  4.6               3.1                1.5               0.2   \n",
       "4                  5.0               3.6                1.4               0.2   \n",
       "..                 ...               ...                ...               ...   \n",
       "145                6.7               3.0                5.2               2.3   \n",
       "146                6.3               2.5                5.0               1.9   \n",
       "147                6.5               3.0                5.2               2.0   \n",
       "148                6.2               3.4                5.4               2.3   \n",
       "149                5.9               3.0                5.1               1.8   \n",
       "\n",
       "    target_name  \n",
       "0        setosa  \n",
       "1        setosa  \n",
       "2        setosa  \n",
       "3        setosa  \n",
       "4        setosa  \n",
       "..          ...  \n",
       "145   virginica  \n",
       "146   virginica  \n",
       "147   virginica  \n",
       "148   virginica  \n",
       "149   virginica  \n",
       "\n",
       "[150 rows x 5 columns]"
      ]
     },
     "execution_count": 27,
     "metadata": {},
     "output_type": "execute_result"
    }
   ],
   "source": [
    "df_plot = iris_dataframe.copy()\n",
    "df_plot['target_name'] = iris_dataset['target']\n",
    "df_plot[\"target_name\"] = df_plot['target_name'].replace({0:\"setosa\",1:\"versicolor\",2:\"virginica\"})\n",
    "df_plot"
   ]
  },
  {
   "cell_type": "markdown",
   "metadata": {
    "id": "a50dx4EhTeqd"
   },
   "source": [
    "Lo primero es lo primero: vamos a analizar un poco los datos, esto antes de construir nuestro modelo, es una buena idea inspeccionar los datos, esto con el objetivo de \"ver\" si la información deseada podría estar contenida en los datos. Además, inspeccionar los datos es una buena manera de encontrar anomalías y peculiaridades. Tal vez algunos iris se midieron usando pulgadas y no centímetros, por ejemplo. En el mundo real, inconsistencias en los datos y mediciones inesperadas son muy comunes.\n",
    "\n",
    "Una de las mejores formas de inspeccionar los datos es visualizarlos. Una forma de hacerlo es mediante el uso de un scatter plots. Si tiene una pequeña cantidad de varibles, como las que tenemos aquí, esto es bastante razonable. Recuerde que este plot de pares no muestra\n",
    "la interacción de todas las características a la vez, por lo que algunos aspectos interesantes de los datos pueden que no se revelen al visualizarlo de esta manera."
   ]
  },
  {
   "cell_type": "markdown",
   "metadata": {
    "id": "ppPT-9aYP5ZV"
   },
   "source": [
    "#### ***Ejercicio 1.***\n",
    "\n",
    "Construya un [`pairplot`](https://seaborn.pydata.org/generated/seaborn.pairplot.html) o un [`PairGrid`](https://seaborn.pydata.org/generated/seaborn.PairGrid.html) en donde la diagonal principal tenga un histograma y un scatter-plot fuera de la diagonal principal. Haga uso del parámetro `hue` con las especies."
   ]
  },
  {
   "cell_type": "markdown",
   "metadata": {
    "id": "9wSOUZVVQvIY"
   },
   "source": [
    "***Respuesta:***"
   ]
  },
  {
   "cell_type": "code",
   "execution_count": 28,
   "metadata": {
    "colab": {
     "base_uri": "https://localhost:8080/",
     "height": 972
    },
    "executionInfo": {
     "elapsed": 8785,
     "status": "ok",
     "timestamp": 1659667568608,
     "user": {
      "displayName": "Luis Andres Campos Maldonado",
      "userId": "15478348060554261231"
     },
     "user_tz": 300
    },
    "id": "8agJONssMpcL",
    "outputId": "b4111b88-3a01-4d45-c75f-054b58a99185"
   },
   "outputs": [
    {
     "name": "stderr",
     "output_type": "stream",
     "text": [
      "/home/andres-campos/github_public/Metodos-Estadisticos/venv/lib/python3.10/site-packages/seaborn/axisgrid.py:1513: UserWarning: Ignoring `palette` because no `hue` variable has been assigned.\n",
      "  func(x=vector, **plot_kwargs)\n",
      "/home/andres-campos/github_public/Metodos-Estadisticos/venv/lib/python3.10/site-packages/seaborn/axisgrid.py:1513: UserWarning: Ignoring `palette` because no `hue` variable has been assigned.\n",
      "  func(x=vector, **plot_kwargs)\n",
      "/home/andres-campos/github_public/Metodos-Estadisticos/venv/lib/python3.10/site-packages/seaborn/axisgrid.py:1513: UserWarning: Ignoring `palette` because no `hue` variable has been assigned.\n",
      "  func(x=vector, **plot_kwargs)\n",
      "/home/andres-campos/github_public/Metodos-Estadisticos/venv/lib/python3.10/site-packages/seaborn/axisgrid.py:1513: UserWarning: Ignoring `palette` because no `hue` variable has been assigned.\n",
      "  func(x=vector, **plot_kwargs)\n"
     ]
    },
    {
     "data": {
      "image/png": "[encoded data removed]",
      "text/plain": [
       "<Figure size 1500x1500 with 20 Axes>"
      ]
     },
     "metadata": {},
     "output_type": "display_data"
    }
   ],
   "source": [
    "## Celda de código para probar.\n",
    "import matplotlib.pyplot as plt\n",
    "import seaborn as sns\n",
    "\n",
    "sns.set_theme()\n",
    "\n",
    "g = sns.PairGrid(df_plot,hue='target_name', palette = \"dark\")\n",
    "g.map_diag(sns.histplot, hue = None, color = \"orange\", bins=20)\n",
    "g.map_offdiag(sns.scatterplot)\n",
    "g.add_legend()\n",
    "g.fig.set_size_inches(15,15)"
   ]
  },
  {
   "cell_type": "markdown",
   "metadata": {
    "id": "wniWm15HUtGo"
   },
   "source": [
    "De las gráficas, podemos ver que las tres clases parecen estar relativamente bien separadas usando las medidas de sépalos y pétalos. Esto significa que un modelo de aprendizaje automático probablemente podrá aprender a separarlos."
   ]
  },
  {
   "cell_type": "markdown",
   "metadata": {
    "id": "sFi-u04ddvMO"
   },
   "source": [
    "### ***Conjuntos de datos Training y Test***\n",
    "\n",
    "Deseamos construir un modelo de machine learning a partir de este conjunto de datos, buscando que se pueda ***predecir*** la especie de `iris` para un nuevo conjunto de datos. Para esto, necesitamos construir un modelo y por supuesto saber si realmente funciona, es decir, si se debe confiar en sus predicciones.\n",
    "\n",
    "Desafortunadamente, no podemos usar los datos que usamos para construir el modelo para evaluarlo. Esto se debe a que nuestro modelo siempre puede simplemente recordar todo el conjunto de datos con que se alimento el modelo, y por lo tanto, prediga siempre la etiqueta correcta para cualquier punto de dicho conjunto.\n",
    "\n",
    "Este “recordar” no nos indica si nuestro modelo se generalizará bien (en otras palabras, si también funcionará bien con nuevos datos). Para evaluar el rendimiento del modelo, le mostramos nuevos datos (datos que no ha visto antes) para los que tenemos etiquetas. \n",
    "\n",
    "Para solucionar dicho problema debemos dividir nuestro conjunto de datos, en 2 conjuntos, el primero tendrá los datos de entrenamiento (training-data) y el segundo tendrá los datos de prueba (test-data). Con la primera parte de la data vamos a construir nuestro modelo de machine learning. Con los datos de prueba se evaluará qué tan bien funciona el modelo.\n",
    "\n",
    "scikit-learn contiene una función que mezcla el conjunto de datos y lo divide, la función `train_test_split` extrae el 75% de la data en los datos de entrenamiento, junto con las etiquetas correspondientes para estos datos. El 25% restante de la data, junto con las etiquetas restantes, se declara como los datos de prueba. Usar un test que contenga el 25% de la data es una buena regla general.\n",
    "\n"
   ]
  },
  {
   "cell_type": "code",
   "execution_count": 29,
   "metadata": {
    "colab": {
     "base_uri": "https://localhost:8080/",
     "height": 206
    },
    "executionInfo": {
     "elapsed": 73,
     "status": "ok",
     "timestamp": 1659667568609,
     "user": {
      "displayName": "Luis Andres Campos Maldonado",
      "userId": "15478348060554261231"
     },
     "user_tz": 300
    },
    "id": "UVjwztxAiv2X",
    "outputId": "88f8c92a-ae42-4bd5-ec34-b5ca3aebbd79"
   },
   "outputs": [
    {
     "data": {
      "text/html": [
       "<div>\n",
       "<style scoped>\n",
       "    .dataframe tbody tr th:only-of-type {\n",
       "        vertical-align: middle;\n",
       "    }\n",
       "\n",
       "    .dataframe tbody tr th {\n",
       "        vertical-align: top;\n",
       "    }\n",
       "\n",
       "    .dataframe thead th {\n",
       "        text-align: right;\n",
       "    }\n",
       "</style>\n",
       "<table border=\"1\" class=\"dataframe\">\n",
       "  <thead>\n",
       "    <tr style=\"text-align: right;\">\n",
       "      <th></th>\n",
       "      <th>sepal length (cm)</th>\n",
       "      <th>sepal width (cm)</th>\n",
       "      <th>petal length (cm)</th>\n",
       "      <th>petal width (cm)</th>\n",
       "      <th>target</th>\n",
       "    </tr>\n",
       "  </thead>\n",
       "  <tbody>\n",
       "    <tr>\n",
       "      <th>0</th>\n",
       "      <td>5.1</td>\n",
       "      <td>3.5</td>\n",
       "      <td>1.4</td>\n",
       "      <td>0.2</td>\n",
       "      <td>0</td>\n",
       "    </tr>\n",
       "    <tr>\n",
       "      <th>1</th>\n",
       "      <td>4.9</td>\n",
       "      <td>3.0</td>\n",
       "      <td>1.4</td>\n",
       "      <td>0.2</td>\n",
       "      <td>0</td>\n",
       "    </tr>\n",
       "    <tr>\n",
       "      <th>2</th>\n",
       "      <td>4.7</td>\n",
       "      <td>3.2</td>\n",
       "      <td>1.3</td>\n",
       "      <td>0.2</td>\n",
       "      <td>0</td>\n",
       "    </tr>\n",
       "    <tr>\n",
       "      <th>3</th>\n",
       "      <td>4.6</td>\n",
       "      <td>3.1</td>\n",
       "      <td>1.5</td>\n",
       "      <td>0.2</td>\n",
       "      <td>0</td>\n",
       "    </tr>\n",
       "    <tr>\n",
       "      <th>4</th>\n",
       "      <td>5.0</td>\n",
       "      <td>3.6</td>\n",
       "      <td>1.4</td>\n",
       "      <td>0.2</td>\n",
       "      <td>0</td>\n",
       "    </tr>\n",
       "  </tbody>\n",
       "</table>\n",
       "</div>"
      ],
      "text/plain": [
       "   sepal length (cm)  sepal width (cm)  petal length (cm)  petal width (cm)  \\\n",
       "0                5.1               3.5                1.4               0.2   \n",
       "1                4.9               3.0                1.4               0.2   \n",
       "2                4.7               3.2                1.3               0.2   \n",
       "3                4.6               3.1                1.5               0.2   \n",
       "4                5.0               3.6                1.4               0.2   \n",
       "\n",
       "   target  \n",
       "0       0  \n",
       "1       0  \n",
       "2       0  \n",
       "3       0  \n",
       "4       0  "
      ]
     },
     "execution_count": 29,
     "metadata": {},
     "output_type": "execute_result"
    }
   ],
   "source": [
    "## DataFrame de trabajo.\n",
    "iris_dataframe[\"target\"] = iris_dataset[\"target\"]\n",
    "iris_dataframe.head()"
   ]
  },
  {
   "cell_type": "markdown",
   "metadata": {
    "id": "K1K7ejHaJ_jD"
   },
   "source": [
    "Por convención de las matemáticas tomamos $X$ mayúscula para los datos consigandos en las features (matriz) y $y$ para los datos en la variable target (vector)."
   ]
  },
  {
   "cell_type": "code",
   "execution_count": 30,
   "metadata": {
    "executionInfo": {
     "elapsed": 67,
     "status": "ok",
     "timestamp": 1659667568610,
     "user": {
      "displayName": "Luis Andres Campos Maldonado",
      "userId": "15478348060554261231"
     },
     "user_tz": 300
    },
    "id": "-4xJQTT9iAPg"
   },
   "outputs": [],
   "source": [
    "from sklearn.model_selection import train_test_split\n",
    "\n",
    "X_train, X_test, y_train, y_test = train_test_split(iris_dataset['data'], \n",
    "                                                    iris_dataset['target'], \n",
    "                                                    random_state=0)"
   ]
  },
  {
   "cell_type": "markdown",
   "metadata": {
    "id": "Br0R6xtpiAiS"
   },
   "source": [
    "\n",
    "\n",
    "\n",
    "Antes de realizar la división, la función `train_test_split` mezcla el conjunto de datos mediante un generador de números pseudoaleatorios. Si solo tomamos el último 25 % de los datos como conjunto de prueba, todos los puntos de datos tendrían la etiqueta 2, ya que los puntos de datos están ordenados por la etiqueta. Usando un conjunto de prueba que contiene solo\n",
    "una de las tres clases no nos diría mucho sobre qué tan bien generaliza nuestro modelo, entonces mezclamos nuestros datos para asegurarnos de que los datos en test contengan datos de todas las clases. Finalmente,para asegurarnos de que obtendremos el mismo resultado si ejecutamos la misma función varias veces\n",
    "veces, le proporcionamos al generador de números pseudoaleatorios una semilla fija usando el\n",
    "parámetro `random_state`. Esto hará que el resultado sea determinista, con lo que se garantiza tener el mismo resultado. "
   ]
  },
  {
   "cell_type": "markdown",
   "metadata": {
    "id": "rzsG3Ny8Q-vn"
   },
   "source": [
    "El output de la función `train_test_split` es `X_train`, `X_test`, `y_train` y `y_test`, que son todas arrays NumPy. `X_train` contiene el 75% de los registros de la data y `X_test` contiene el 25% restante:"
   ]
  },
  {
   "cell_type": "code",
   "execution_count": 31,
   "metadata": {
    "colab": {
     "base_uri": "https://localhost:8080/"
    },
    "executionInfo": {
     "elapsed": 66,
     "status": "ok",
     "timestamp": 1659667568611,
     "user": {
      "displayName": "Luis Andres Campos Maldonado",
      "userId": "15478348060554261231"
     },
     "user_tz": 300
    },
    "id": "ARCIn0l6Q2bz",
    "outputId": "3f6f69fe-5537-44c4-d854-1504046d8dbf"
   },
   "outputs": [
    {
     "name": "stdout",
     "output_type": "stream",
     "text": [
      "El tamaño de X_train es (112, 4)\n",
      "El tamaño de y_train es: (112,)\n"
     ]
    }
   ],
   "source": [
    "print(\"El tamaño de X_train es {}\".format(X_train.shape))\n",
    "print(\"El tamaño de y_train es: {}\".format(y_train.shape))"
   ]
  },
  {
   "cell_type": "code",
   "execution_count": 32,
   "metadata": {
    "colab": {
     "base_uri": "https://localhost:8080/"
    },
    "executionInfo": {
     "elapsed": 55,
     "status": "ok",
     "timestamp": 1659667568612,
     "user": {
      "displayName": "Luis Andres Campos Maldonado",
      "userId": "15478348060554261231"
     },
     "user_tz": 300
    },
    "id": "lhkk6e1tSAgW",
    "outputId": "f33c8e96-f769-47ec-bfe8-b83cc5d961c0"
   },
   "outputs": [
    {
     "name": "stdout",
     "output_type": "stream",
     "text": [
      "El tamaño de X_test es (38, 4)\n",
      "El tamaño de y_test es: (38,)\n"
     ]
    }
   ],
   "source": [
    "print(\"El tamaño de X_test es {}\".format(X_test.shape))\n",
    "print(\"El tamaño de y_test es: {}\".format(y_test.shape))"
   ]
  },
  {
   "cell_type": "code",
   "execution_count": 33,
   "metadata": {
    "colab": {
     "base_uri": "https://localhost:8080/"
    },
    "executionInfo": {
     "elapsed": 50,
     "status": "ok",
     "timestamp": 1659667568616,
     "user": {
      "displayName": "Luis Andres Campos Maldonado",
      "userId": "15478348060554261231"
     },
     "user_tz": 300
    },
    "id": "FNrxeVnPSQRa",
    "outputId": "e22a2bb3-c102-410b-fbc9-2c42716e005e"
   },
   "outputs": [
    {
     "name": "stdout",
     "output_type": "stream",
     "text": [
      "Muestra de la data de las features:\n",
      "\n",
      " [[5.9 3.  4.2 1.5]\n",
      " [5.8 2.6 4.  1.2]\n",
      " [6.8 3.  5.5 2.1]\n",
      " [4.7 3.2 1.3 0.2]\n",
      " [6.9 3.1 5.1 2.3]]\n",
      "\n",
      "Muestra de la data en la variable target:\n",
      "\n",
      " [1 1 2 0 2]\n"
     ]
    }
   ],
   "source": [
    "## Muestra de la data en Train.\n",
    "print(\"Muestra de la data de las features:\\n\\n\",X_train[:5])\n",
    "print(\"\\nMuestra de la data en la variable target:\\n\\n\",y_train[:5])"
   ]
  },
  {
   "cell_type": "code",
   "execution_count": 34,
   "metadata": {
    "colab": {
     "base_uri": "https://localhost:8080/"
    },
    "executionInfo": {
     "elapsed": 44,
     "status": "ok",
     "timestamp": 1659667568617,
     "user": {
      "displayName": "Luis Andres Campos Maldonado",
      "userId": "15478348060554261231"
     },
     "user_tz": 300
    },
    "id": "noRRTfbaTGrY",
    "outputId": "a7860d9f-d788-49e8-dd1c-6c5728e7e0cb"
   },
   "outputs": [
    {
     "name": "stdout",
     "output_type": "stream",
     "text": [
      "Muestra de la data de las features:\n",
      "\n",
      " [[5.8 2.8 5.1 2.4]\n",
      " [6.  2.2 4.  1. ]\n",
      " [5.5 4.2 1.4 0.2]\n",
      " [7.3 2.9 6.3 1.8]\n",
      " [5.  3.4 1.5 0.2]]\n",
      "\n",
      "Muestra de la data en la variable target:\n",
      "\n",
      " [2 1 0 2 0]\n"
     ]
    }
   ],
   "source": [
    "## Muestra de la data en Test.\n",
    "print(\"Muestra de la data de las features:\\n\\n\",X_test[:5])\n",
    "print(\"\\nMuestra de la data en la variable target:\\n\\n\",y_test[:5])"
   ]
  },
  {
   "cell_type": "markdown",
   "metadata": {
    "id": "bKjCUEONU8bG"
   },
   "source": [
    "### ***Construcción de nuestro primer modelo: [`k-Nearest Neighbors`](https://scikit-learn.org/stable/modules/generated/sklearn.neighbors.KNeighborsClassifier.html)***\n",
    "\n",
    "El modelo KNN es un modelo de clasificación bastante fácil de enterder. Para construcción de este modelo, basta considerar sólo la data en train. Para hacer una predicción para un nuevo registro de datos, el algoritmo encuentra el punto en el conjunto train que está más cerca del nuevo punto. Luego asigna la etiqueta de registro que tiene este registro en train al nuevo registro. La $k$ en `k-Nearest Neighbors` significa que en lugar de usar solo el vecino más cercano\n",
    "al nuevo punto de datos, podemos considerar cualquier número fijo $k$ de vecinos (por ejemplo, los tres o cinco vecinos más cercanos). Entonces, podemos hacer una predicción la cual será la clase mayoritaria entre estos vecinos. Más adelante profundizaremos este método de clasificación, de arranque usaremos solo un vecino."
   ]
  },
  {
   "cell_type": "code",
   "execution_count": 35,
   "metadata": {
    "executionInfo": {
     "elapsed": 42,
     "status": "ok",
     "timestamp": 1659667568619,
     "user": {
      "displayName": "Luis Andres Campos Maldonado",
      "userId": "15478348060554261231"
     },
     "user_tz": 300
    },
    "id": "7cOJ5wR2Xbnw"
   },
   "outputs": [],
   "source": [
    "from sklearn.neighbors import KNeighborsClassifier\n",
    "knn = KNeighborsClassifier(n_neighbors=1)"
   ]
  },
  {
   "cell_type": "markdown",
   "metadata": {
    "id": "9vvAWZgXXoj4"
   },
   "source": [
    "El objeto `knn` encapsula el algoritmo que se usará para construir el modelo a partir de los datos en train, así como el algoritmo para hacer predicciones sobre nuevos puntos de datos. También contienen la información que el algoritmo ha extraído de los datos de entrenamiento. En el caso de KNeighborsClassifier, solo almacenará el conjunto de train."
   ]
  },
  {
   "cell_type": "code",
   "execution_count": 36,
   "metadata": {
    "colab": {
     "base_uri": "https://localhost:8080/"
    },
    "executionInfo": {
     "elapsed": 42,
     "status": "ok",
     "timestamp": 1659667568620,
     "user": {
      "displayName": "Luis Andres Campos Maldonado",
      "userId": "15478348060554261231"
     },
     "user_tz": 300
    },
    "id": "Q-cFySz1YoMl",
    "outputId": "563bebf1-8ca7-43de-fde6-066eca422d6c"
   },
   "outputs": [
    {
     "data": {
      "text/plain": [
       "{'algorithm': 'auto',\n",
       " 'leaf_size': 30,\n",
       " 'metric': 'minkowski',\n",
       " 'metric_params': None,\n",
       " 'n_jobs': None,\n",
       " 'n_neighbors': 1,\n",
       " 'p': 2,\n",
       " 'weights': 'uniform'}"
      ]
     },
     "execution_count": 36,
     "metadata": {},
     "output_type": "execute_result"
    }
   ],
   "source": [
    "knn.get_params()"
   ]
  },
  {
   "cell_type": "markdown",
   "metadata": {
    "id": "Js9coC2bZuYE"
   },
   "source": [
    "Lo anterior nos muestra qué parámetros\n",
    "se usarán para crear el modelo. Casi todos ellos son los valores predeterminados, note que tenemos `n_neighbors=1`, que es el parámetro que pasamos. La mayoría de los modelos en `scikit-learn` tiene muchos parámetros, pero la mayoría de ellos son optimizaciones de velocidad o para casos de uso muy especiales. Por ahora, no nos preocupamos por el otros parámetros mostrados. Recuerde que más adelante cubriremos toda la temática."
   ]
  },
  {
   "cell_type": "markdown",
   "metadata": {
    "id": "1IR7h8aza4Wc"
   },
   "source": [
    "Para construir el modelo en el conjunto train, llamamos al método `fit()` que es el ajuste del objeto `knn`, que toma como argumentos el NumPy array `X_train` que contiene la data train y el NumPy array en `y_train` de las etiquetas de train correspondientes:"
   ]
  },
  {
   "cell_type": "code",
   "execution_count": 37,
   "metadata": {
    "colab": {
     "base_uri": "https://localhost:8080/"
    },
    "executionInfo": {
     "elapsed": 39,
     "status": "ok",
     "timestamp": 1659667568622,
     "user": {
      "displayName": "Luis Andres Campos Maldonado",
      "userId": "15478348060554261231"
     },
     "user_tz": 300
    },
    "id": "HnAP1wHKYRrH",
    "outputId": "f8ab39c0-329a-46e0-ca5b-1fba08bd3454"
   },
   "outputs": [
    {
     "data": {
      "text/html": [
       "<style>#sk-container-id-1 {\n",
       "  /* Definition of color scheme common for light and dark mode */\n",
       "  --sklearn-color-text: black;\n",
       "  --sklearn-color-line: gray;\n",
       "  /* Definition of color scheme for unfitted estimators */\n",
       "  --sklearn-color-unfitted-level-0: #fff5e6;\n",
       "  --sklearn-color-unfitted-level-1: #f6e4d2;\n",
       "  --sklearn-color-unfitted-level-2: #ffe0b3;\n",
       "  --sklearn-color-unfitted-level-3: chocolate;\n",
       "  /* Definition of color scheme for fitted estimators */\n",
       "  --sklearn-color-fitted-level-0: #f0f8ff;\n",
       "  --sklearn-color-fitted-level-1: #d4ebff;\n",
       "  --sklearn-color-fitted-level-2: #b3dbfd;\n",
       "  --sklearn-color-fitted-level-3: cornflowerblue;\n",
       "\n",
       "  /* Specific color for light theme */\n",
       "  --sklearn-color-text-on-default-background: var(--sg-text-color, var(--theme-code-foreground, var(--jp-content-font-color1, black)));\n",
       "  --sklearn-color-background: var(--sg-background-color, var(--theme-background, var(--jp-layout-color0, white)));\n",
       "  --sklearn-color-border-box: var(--sg-text-color, var(--theme-code-foreground, var(--jp-content-font-color1, black)));\n",
       "  --sklearn-color-icon: #696969;\n",
       "\n",
       "  @media (prefers-color-scheme: dark) {\n",
       "    /* Redefinition of color scheme for dark theme */\n",
       "    --sklearn-color-text-on-default-background: var(--sg-text-color, var(--theme-code-foreground, var(--jp-content-font-color1, white)));\n",
       "    --sklearn-color-background: var(--sg-background-color, var(--theme-background, var(--jp-layout-color0, #111)));\n",
       "    --sklearn-color-border-box: var(--sg-text-color, var(--theme-code-foreground, var(--jp-content-font-color1, white)));\n",
       "    --sklearn-color-icon: #878787;\n",
       "  }\n",
       "}\n",
       "\n",
       "#sk-container-id-1 {\n",
       "  color: var(--sklearn-color-text);\n",
       "}\n",
       "\n",
       "#sk-container-id-1 pre {\n",
       "  padding: 0;\n",
       "}\n",
       "\n",
       "#sk-container-id-1 input.sk-hidden--visually {\n",
       "  border: 0;\n",
       "  clip: rect(1px 1px 1px 1px);\n",
       "  clip: rect(1px, 1px, 1px, 1px);\n",
       "  height: 1px;\n",
       "  margin: -1px;\n",
       "  overflow: hidden;\n",
       "  padding: 0;\n",
       "  position: absolute;\n",
       "  width: 1px;\n",
       "}\n",
       "\n",
       "#sk-container-id-1 div.sk-dashed-wrapped {\n",
       "  border: 1px dashed var(--sklearn-color-line);\n",
       "  margin: 0 0.4em 0.5em 0.4em;\n",
       "  box-sizing: border-box;\n",
       "  padding-bottom: 0.4em;\n",
       "  background-color: var(--sklearn-color-background);\n",
       "}\n",
       "\n",
       "#sk-container-id-1 div.sk-container {\n",
       "  /* jupyter's `normalize.less` sets `[hidden] { display: none; }`\n",
       "     but bootstrap.min.css set `[hidden] { display: none !important; }`\n",
       "     so we also need the `!important` here to be able to override the\n",
       "     default hidden behavior on the sphinx rendered scikit-learn.org.\n",
       "     See: https://github.com/scikit-learn/scikit-learn/issues/21755 */\n",
       "  display: inline-block !important;\n",
       "  position: relative;\n",
       "}\n",
       "\n",
       "#sk-container-id-1 div.sk-text-repr-fallback {\n",
       "  display: none;\n",
       "}\n",
       "\n",
       "div.sk-parallel-item,\n",
       "div.sk-serial,\n",
       "div.sk-item {\n",
       "  /* draw centered vertical line to link estimators */\n",
       "  background-image: linear-gradient(var(--sklearn-color-text-on-default-background), var(--sklearn-color-text-on-default-background));\n",
       "  background-size: 2px 100%;\n",
       "  background-repeat: no-repeat;\n",
       "  background-position: center center;\n",
       "}\n",
       "\n",
       "/* Parallel-specific style estimator block */\n",
       "\n",
       "#sk-container-id-1 div.sk-parallel-item::after {\n",
       "  content: \"\";\n",
       "  width: 100%;\n",
       "  border-bottom: 2px solid var(--sklearn-color-text-on-default-background);\n",
       "  flex-grow: 1;\n",
       "}\n",
       "\n",
       "#sk-container-id-1 div.sk-parallel {\n",
       "  display: flex;\n",
       "  align-items: stretch;\n",
       "  justify-content: center;\n",
       "  background-color: var(--sklearn-color-background);\n",
       "  position: relative;\n",
       "}\n",
       "\n",
       "#sk-container-id-1 div.sk-parallel-item {\n",
       "  display: flex;\n",
       "  flex-direction: column;\n",
       "}\n",
       "\n",
       "#sk-container-id-1 div.sk-parallel-item:first-child::after {\n",
       "  align-self: flex-end;\n",
       "  width: 50%;\n",
       "}\n",
       "\n",
       "#sk-container-id-1 div.sk-parallel-item:last-child::after {\n",
       "  align-self: flex-start;\n",
       "  width: 50%;\n",
       "}\n",
       "\n",
       "#sk-container-id-1 div.sk-parallel-item:only-child::after {\n",
       "  width: 0;\n",
       "}\n",
       "\n",
       "/* Serial-specific style estimator block */\n",
       "\n",
       "#sk-container-id-1 div.sk-serial {\n",
       "  display: flex;\n",
       "  flex-direction: column;\n",
       "  align-items: center;\n",
       "  background-color: var(--sklearn-color-background);\n",
       "  padding-right: 1em;\n",
       "  padding-left: 1em;\n",
       "}\n",
       "\n",
       "\n",
       "/* Toggleable style: style used for estimator/Pipeline/ColumnTransformer box that is\n",
       "clickable and can be expanded/collapsed.\n",
       "- Pipeline and ColumnTransformer use this feature and define the default style\n",
       "- Estimators will overwrite some part of the style using the `sk-estimator` class\n",
       "*/\n",
       "\n",
       "/* Pipeline and ColumnTransformer style (default) */\n",
       "\n",
       "#sk-container-id-1 div.sk-toggleable {\n",
       "  /* Default theme specific background. It is overwritten whether we have a\n",
       "  specific estimator or a Pipeline/ColumnTransformer */\n",
       "  background-color: var(--sklearn-color-background);\n",
       "}\n",
       "\n",
       "/* Toggleable label */\n",
       "#sk-container-id-1 label.sk-toggleable__label {\n",
       "  cursor: pointer;\n",
       "  display: block;\n",
       "  width: 100%;\n",
       "  margin-bottom: 0;\n",
       "  padding: 0.5em;\n",
       "  box-sizing: border-box;\n",
       "  text-align: center;\n",
       "}\n",
       "\n",
       "#sk-container-id-1 label.sk-toggleable__label-arrow:before {\n",
       "  /* Arrow on the left of the label */\n",
       "  content: \"▸\";\n",
       "  float: left;\n",
       "  margin-right: 0.25em;\n",
       "  color: var(--sklearn-color-icon);\n",
       "}\n",
       "\n",
       "#sk-container-id-1 label.sk-toggleable__label-arrow:hover:before {\n",
       "  color: var(--sklearn-color-text);\n",
       "}\n",
       "\n",
       "/* Toggleable content - dropdown */\n",
       "\n",
       "#sk-container-id-1 div.sk-toggleable__content {\n",
       "  max-height: 0;\n",
       "  max-width: 0;\n",
       "  overflow: hidden;\n",
       "  text-align: left;\n",
       "  /* unfitted */\n",
       "  background-color: var(--sklearn-color-unfitted-level-0);\n",
       "}\n",
       "\n",
       "#sk-container-id-1 div.sk-toggleable__content.fitted {\n",
       "  /* fitted */\n",
       "  background-color: var(--sklearn-color-fitted-level-0);\n",
       "}\n",
       "\n",
       "#sk-container-id-1 div.sk-toggleable__content pre {\n",
       "  margin: 0.2em;\n",
       "  border-radius: 0.25em;\n",
       "  color: var(--sklearn-color-text);\n",
       "  /* unfitted */\n",
       "  background-color: var(--sklearn-color-unfitted-level-0);\n",
       "}\n",
       "\n",
       "#sk-container-id-1 div.sk-toggleable__content.fitted pre {\n",
       "  /* unfitted */\n",
       "  background-color: var(--sklearn-color-fitted-level-0);\n",
       "}\n",
       "\n",
       "#sk-container-id-1 input.sk-toggleable__control:checked~div.sk-toggleable__content {\n",
       "  /* Expand drop-down */\n",
       "  max-height: 200px;\n",
       "  max-width: 100%;\n",
       "  overflow: auto;\n",
       "}\n",
       "\n",
       "#sk-container-id-1 input.sk-toggleable__control:checked~label.sk-toggleable__label-arrow:before {\n",
       "  content: \"▾\";\n",
       "}\n",
       "\n",
       "/* Pipeline/ColumnTransformer-specific style */\n",
       "\n",
       "#sk-container-id-1 div.sk-label input.sk-toggleable__control:checked~label.sk-toggleable__label {\n",
       "  color: var(--sklearn-color-text);\n",
       "  background-color: var(--sklearn-color-unfitted-level-2);\n",
       "}\n",
       "\n",
       "#sk-container-id-1 div.sk-label.fitted input.sk-toggleable__control:checked~label.sk-toggleable__label {\n",
       "  background-color: var(--sklearn-color-fitted-level-2);\n",
       "}\n",
       "\n",
       "/* Estimator-specific style */\n",
       "\n",
       "/* Colorize estimator box */\n",
       "#sk-container-id-1 div.sk-estimator input.sk-toggleable__control:checked~label.sk-toggleable__label {\n",
       "  /* unfitted */\n",
       "  background-color: var(--sklearn-color-unfitted-level-2);\n",
       "}\n",
       "\n",
       "#sk-container-id-1 div.sk-estimator.fitted input.sk-toggleable__control:checked~label.sk-toggleable__label {\n",
       "  /* fitted */\n",
       "  background-color: var(--sklearn-color-fitted-level-2);\n",
       "}\n",
       "\n",
       "#sk-container-id-1 div.sk-label label.sk-toggleable__label,\n",
       "#sk-container-id-1 div.sk-label label {\n",
       "  /* The background is the default theme color */\n",
       "  color: var(--sklearn-color-text-on-default-background);\n",
       "}\n",
       "\n",
       "/* On hover, darken the color of the background */\n",
       "#sk-container-id-1 div.sk-label:hover label.sk-toggleable__label {\n",
       "  color: var(--sklearn-color-text);\n",
       "  background-color: var(--sklearn-color-unfitted-level-2);\n",
       "}\n",
       "\n",
       "/* Label box, darken color on hover, fitted */\n",
       "#sk-container-id-1 div.sk-label.fitted:hover label.sk-toggleable__label.fitted {\n",
       "  color: var(--sklearn-color-text);\n",
       "  background-color: var(--sklearn-color-fitted-level-2);\n",
       "}\n",
       "\n",
       "/* Estimator label */\n",
       "\n",
       "#sk-container-id-1 div.sk-label label {\n",
       "  font-family: monospace;\n",
       "  font-weight: bold;\n",
       "  display: inline-block;\n",
       "  line-height: 1.2em;\n",
       "}\n",
       "\n",
       "#sk-container-id-1 div.sk-label-container {\n",
       "  text-align: center;\n",
       "}\n",
       "\n",
       "/* Estimator-specific */\n",
       "#sk-container-id-1 div.sk-estimator {\n",
       "  font-family: monospace;\n",
       "  border: 1px dotted var(--sklearn-color-border-box);\n",
       "  border-radius: 0.25em;\n",
       "  box-sizing: border-box;\n",
       "  margin-bottom: 0.5em;\n",
       "  /* unfitted */\n",
       "  background-color: var(--sklearn-color-unfitted-level-0);\n",
       "}\n",
       "\n",
       "#sk-container-id-1 div.sk-estimator.fitted {\n",
       "  /* fitted */\n",
       "  background-color: var(--sklearn-color-fitted-level-0);\n",
       "}\n",
       "\n",
       "/* on hover */\n",
       "#sk-container-id-1 div.sk-estimator:hover {\n",
       "  /* unfitted */\n",
       "  background-color: var(--sklearn-color-unfitted-level-2);\n",
       "}\n",
       "\n",
       "#sk-container-id-1 div.sk-estimator.fitted:hover {\n",
       "  /* fitted */\n",
       "  background-color: var(--sklearn-color-fitted-level-2);\n",
       "}\n",
       "\n",
       "/* Specification for estimator info (e.g. \"i\" and \"?\") */\n",
       "\n",
       "/* Common style for \"i\" and \"?\" */\n",
       "\n",
       ".sk-estimator-doc-link,\n",
       "a:link.sk-estimator-doc-link,\n",
       "a:visited.sk-estimator-doc-link {\n",
       "  float: right;\n",
       "  font-size: smaller;\n",
       "  line-height: 1em;\n",
       "  font-family: monospace;\n",
       "  background-color: var(--sklearn-color-background);\n",
       "  border-radius: 1em;\n",
       "  height: 1em;\n",
       "  width: 1em;\n",
       "  text-decoration: none !important;\n",
       "  margin-left: 1ex;\n",
       "  /* unfitted */\n",
       "  border: var(--sklearn-color-unfitted-level-1) 1pt solid;\n",
       "  color: var(--sklearn-color-unfitted-level-1);\n",
       "}\n",
       "\n",
       ".sk-estimator-doc-link.fitted,\n",
       "a:link.sk-estimator-doc-link.fitted,\n",
       "a:visited.sk-estimator-doc-link.fitted {\n",
       "  /* fitted */\n",
       "  border: var(--sklearn-color-fitted-level-1) 1pt solid;\n",
       "  color: var(--sklearn-color-fitted-level-1);\n",
       "}\n",
       "\n",
       "/* On hover */\n",
       "div.sk-estimator:hover .sk-estimator-doc-link:hover,\n",
       ".sk-estimator-doc-link:hover,\n",
       "div.sk-label-container:hover .sk-estimator-doc-link:hover,\n",
       ".sk-estimator-doc-link:hover {\n",
       "  /* unfitted */\n",
       "  background-color: var(--sklearn-color-unfitted-level-3);\n",
       "  color: var(--sklearn-color-background);\n",
       "  text-decoration: none;\n",
       "}\n",
       "\n",
       "div.sk-estimator.fitted:hover .sk-estimator-doc-link.fitted:hover,\n",
       ".sk-estimator-doc-link.fitted:hover,\n",
       "div.sk-label-container:hover .sk-estimator-doc-link.fitted:hover,\n",
       ".sk-estimator-doc-link.fitted:hover {\n",
       "  /* fitted */\n",
       "  background-color: var(--sklearn-color-fitted-level-3);\n",
       "  color: var(--sklearn-color-background);\n",
       "  text-decoration: none;\n",
       "}\n",
       "\n",
       "/* Span, style for the box shown on hovering the info icon */\n",
       ".sk-estimator-doc-link span {\n",
       "  display: none;\n",
       "  z-index: 9999;\n",
       "  position: relative;\n",
       "  font-weight: normal;\n",
       "  right: .2ex;\n",
       "  padding: .5ex;\n",
       "  margin: .5ex;\n",
       "  width: min-content;\n",
       "  min-width: 20ex;\n",
       "  max-width: 50ex;\n",
       "  color: var(--sklearn-color-text);\n",
       "  box-shadow: 2pt 2pt 4pt #999;\n",
       "  /* unfitted */\n",
       "  background: var(--sklearn-color-unfitted-level-0);\n",
       "  border: .5pt solid var(--sklearn-color-unfitted-level-3);\n",
       "}\n",
       "\n",
       ".sk-estimator-doc-link.fitted span {\n",
       "  /* fitted */\n",
       "  background: var(--sklearn-color-fitted-level-0);\n",
       "  border: var(--sklearn-color-fitted-level-3);\n",
       "}\n",
       "\n",
       ".sk-estimator-doc-link:hover span {\n",
       "  display: block;\n",
       "}\n",
       "\n",
       "/* \"?\"-specific style due to the `<a>` HTML tag */\n",
       "\n",
       "#sk-container-id-1 a.estimator_doc_link {\n",
       "  float: right;\n",
       "  font-size: 1rem;\n",
       "  line-height: 1em;\n",
       "  font-family: monospace;\n",
       "  background-color: var(--sklearn-color-background);\n",
       "  border-radius: 1rem;\n",
       "  height: 1rem;\n",
       "  width: 1rem;\n",
       "  text-decoration: none;\n",
       "  /* unfitted */\n",
       "  color: var(--sklearn-color-unfitted-level-1);\n",
       "  border: var(--sklearn-color-unfitted-level-1) 1pt solid;\n",
       "}\n",
       "\n",
       "#sk-container-id-1 a.estimator_doc_link.fitted {\n",
       "  /* fitted */\n",
       "  border: var(--sklearn-color-fitted-level-1) 1pt solid;\n",
       "  color: var(--sklearn-color-fitted-level-1);\n",
       "}\n",
       "\n",
       "/* On hover */\n",
       "#sk-container-id-1 a.estimator_doc_link:hover {\n",
       "  /* unfitted */\n",
       "  background-color: var(--sklearn-color-unfitted-level-3);\n",
       "  color: var(--sklearn-color-background);\n",
       "  text-decoration: none;\n",
       "}\n",
       "\n",
       "#sk-container-id-1 a.estimator_doc_link.fitted:hover {\n",
       "  /* fitted */\n",
       "  background-color: var(--sklearn-color-fitted-level-3);\n",
       "}\n",
       "</style><div id=\"sk-container-id-1\" class=\"sk-top-container\"><div class=\"sk-text-repr-fallback\"><pre>KNeighborsClassifier(n_neighbors=1)</pre><b>In a Jupyter environment, please rerun this cell to show the HTML representation or trust the notebook. <br />On GitHub, the HTML representation is unable to render, please try loading this page with nbviewer.org.</b></div><div class=\"sk-container\" hidden><div class=\"sk-item\"><div class=\"sk-estimator fitted sk-toggleable\"><input class=\"sk-toggleable__control sk-hidden--visually\" id=\"sk-estimator-id-1\" type=\"checkbox\" checked><label for=\"sk-estimator-id-1\" class=\"sk-toggleable__label fitted sk-toggleable__label-arrow fitted\">&nbsp;&nbsp;KNeighborsClassifier<a class=\"sk-estimator-doc-link fitted\" rel=\"noreferrer\" target=\"_blank\" href=\"https://scikit-learn.org/1.5/modules/generated/sklearn.neighbors.KNeighborsClassifier.html\">?<span>Documentation for KNeighborsClassifier</span></a><span class=\"sk-estimator-doc-link fitted\">i<span>Fitted</span></span></label><div class=\"sk-toggleable__content fitted\"><pre>KNeighborsClassifier(n_neighbors=1)</pre></div> </div></div></div></div>"
      ],
      "text/plain": [
       "KNeighborsClassifier(n_neighbors=1)"
      ]
     },
     "execution_count": 37,
     "metadata": {},
     "output_type": "execute_result"
    }
   ],
   "source": [
    "knn.fit(X_train, y_train)"
   ]
  },
  {
   "cell_type": "markdown",
   "metadata": {
    "id": "rdHjt4Pwfc19"
   },
   "source": [
    "### ***Haciendo predicciones***\n",
    "\n",
    "Podemos hacer predicciones usando este modelo sobre nuevos datos para los que quizás no se conoce la etiqueta correctas. Supongamos que tenemos un lirio con la siguiente información:\n",
    "\n",
    "- Un sépalo de 5 cm.\n",
    "- Un ancho de sépalo de 2,9 cm.\n",
    "- Un largo de pétalo de 1 cm.\n",
    "- Y un ancho de pétalo de 0,2 cm.\n",
    "\n",
    "¿Qué especie de iris sería este lirio? \n",
    "\n",
    "Debemos organizar esta información en un NumPy array, la forma de este array debe ser, el número de muestras (1) y multiplicado por el número de caracteristicas (4):\n"
   ]
  },
  {
   "cell_type": "code",
   "execution_count": 38,
   "metadata": {
    "colab": {
     "base_uri": "https://localhost:8080/"
    },
    "executionInfo": {
     "elapsed": 35,
     "status": "ok",
     "timestamp": 1659667568623,
     "user": {
      "displayName": "Luis Andres Campos Maldonado",
      "userId": "15478348060554261231"
     },
     "user_tz": 300
    },
    "id": "T48t-roNbRiK",
    "outputId": "f6b03637-5cef-46d1-8c12-4baad2bc8ea6"
   },
   "outputs": [
    {
     "name": "stdout",
     "output_type": "stream",
     "text": [
      "X_new.shape: (1, 4)\n"
     ]
    }
   ],
   "source": [
    "X_new = np.array([[5, 2.9, 1, 0.2]])\n",
    "print(\"X_new.shape: {}\".format(X_new.shape))"
   ]
  },
  {
   "cell_type": "markdown",
   "metadata": {
    "id": "aM2rowRQgr5J"
   },
   "source": [
    "Notemos que tenemos las medidas de una sola flor en una fila del NumPy array bidimensional, esto pues  `scikit-learn` siempre espera arrays bidimensionales\n",
    "de los datos para hacer una predicción. Debemos invocar al método `predict()` del objeto knn:"
   ]
  },
  {
   "cell_type": "code",
   "execution_count": 39,
   "metadata": {
    "colab": {
     "base_uri": "https://localhost:8080/"
    },
    "executionInfo": {
     "elapsed": 33,
     "status": "ok",
     "timestamp": 1659667569027,
     "user": {
      "displayName": "Luis Andres Campos Maldonado",
      "userId": "15478348060554261231"
     },
     "user_tz": 300
    },
    "id": "YkebP_TkbUvD",
    "outputId": "64ccfa5f-d7f3-4a2a-cf62-1a8f4fb78fab"
   },
   "outputs": [
    {
     "name": "stdout",
     "output_type": "stream",
     "text": [
      "Predicción: [0]\n",
      "Nombre de la etiqueta predicha: ['setosa']\n"
     ]
    }
   ],
   "source": [
    "prediction = knn.predict(X_new)\n",
    "print(\"Predicción: {}\".format(prediction))\n",
    "print(\"Nombre de la etiqueta predicha: {}\".format(iris_dataset['target_names'][prediction]))"
   ]
  },
  {
   "cell_type": "markdown",
   "metadata": {
    "id": "KsK55kMcj51i"
   },
   "source": [
    "Nuestro modelo predice que este nuevo iris pertenece a la clase 0, lo que significa que su especie es\n",
    "setosa. ¿Cómo sabemos si podemos confiar en nuestro modelo? ¡No conocemos la especie correcta de esta muestra, que es el objetivo de construir el modelo!"
   ]
  },
  {
   "cell_type": "markdown",
   "metadata": {
    "id": "Qq3zdmwHkVa5"
   },
   "source": [
    "### ***Evaluación del modelo.***\n",
    "\n",
    "¿Recuerda que tenemos un conjunto de test? Es en este lugar donde entra en juego. Sabemos que estos datos no se usaron para construir el modelo, pero sabemos cuál es la especie correcta para cada iris en el conjunto test. Por lo tanto, podemos hacer una predicción para cada iris en los datos de test y compararlos contra su etiqueta (la especie conocida). Podemos medir qué tan bien funciona el modelo calculando la precisión (`accuracy`), que es la fracción de flores para las se hizo una predicción correcta:\n",
    "\n"
   ]
  },
  {
   "cell_type": "code",
   "execution_count": 40,
   "metadata": {
    "colab": {
     "base_uri": "https://localhost:8080/"
    },
    "executionInfo": {
     "elapsed": 29,
     "status": "ok",
     "timestamp": 1659667569027,
     "user": {
      "displayName": "Luis Andres Campos Maldonado",
      "userId": "15478348060554261231"
     },
     "user_tz": 300
    },
    "id": "ITMo94Znk9ra",
    "outputId": "38dcd23e-57da-4d6c-bd07-0869164814b2"
   },
   "outputs": [
    {
     "name": "stdout",
     "output_type": "stream",
     "text": [
      "Predicciones en el conjunto test:\n",
      "\n",
      " [2 1 0 2 0 2 0 1 1 1 2 1 1 1 1 0 1 1 0 0 2 1 0 0 2 0 0 1 1 0 2 1 0 2 2 1 0\n",
      " 2]\n"
     ]
    }
   ],
   "source": [
    "y_pred = knn.predict(X_test)\n",
    "print(\"Predicciones en el conjunto test:\\n\\n {}\".format(y_pred))"
   ]
  },
  {
   "cell_type": "code",
   "execution_count": 41,
   "metadata": {
    "colab": {
     "base_uri": "https://localhost:8080/"
    },
    "executionInfo": {
     "elapsed": 21,
     "status": "ok",
     "timestamp": 1659667569028,
     "user": {
      "displayName": "Luis Andres Campos Maldonado",
      "userId": "15478348060554261231"
     },
     "user_tz": 300
    },
    "id": "K5HTQHARlTQD",
    "outputId": "7371aee6-c6d3-46ce-8063-14df00fbbfe4"
   },
   "outputs": [
    {
     "name": "stdout",
     "output_type": "stream",
     "text": [
      "Score en el conjunto test: 0.97\n",
      "===================================================\n",
      "¿Porqué esta operacion nos proporciona el accuracy?\n"
     ]
    }
   ],
   "source": [
    "print(\"Score en el conjunto test: {:.2f}\".format(np.mean(y_pred == y_test)))\n",
    "print(\"=\"*51)\n",
    "print(\"¿Porqué esta operacion nos proporciona el accuracy?\")"
   ]
  },
  {
   "cell_type": "markdown",
   "metadata": {
    "id": "a7tzognal7d2"
   },
   "source": [
    "También podemos usar el método `score()` del objeto knn, que calculará la puntuación con exactitud:\n"
   ]
  },
  {
   "cell_type": "code",
   "execution_count": 42,
   "metadata": {
    "colab": {
     "base_uri": "https://localhost:8080/"
    },
    "executionInfo": {
     "elapsed": 17,
     "status": "ok",
     "timestamp": 1659667569029,
     "user": {
      "displayName": "Luis Andres Campos Maldonado",
      "userId": "15478348060554261231"
     },
     "user_tz": 300
    },
    "id": "pnk-z7cxmMWP",
    "outputId": "e296cf35-4865-43fe-e643-19ba394c621d"
   },
   "outputs": [
    {
     "name": "stdout",
     "output_type": "stream",
     "text": [
      "Score en el conjunto test: 0.97\n"
     ]
    }
   ],
   "source": [
    "print(\"Score en el conjunto test: {:.2f}\".format(knn.score(X_test, y_test)))"
   ]
  },
  {
   "cell_type": "markdown",
   "metadata": {
    "id": "zXCaVCr6mZ8n"
   },
   "source": [
    "Para este modelo, el `accuracy` en el conjunto test es de aproximadamente 0,97, lo que significa que hicimos un buen trabajo en la predicción para el 97% de los iris en el conjunto test. Bajo algunos supuestos matemáticos, esto significa que podemos esperar que nuestro modelo sea correcto el 97% del tiempo para nuevos\n",
    "iris. Este alto nivel de precisión significa que nuestro\n",
    "el modelo puede ser lo suficientemente confiable como para usarlo."
   ]
  },
  {
   "cell_type": "markdown",
   "metadata": {
    "id": "bHO9kGKAnENG"
   },
   "source": [
    "## ***Conclusiones y comentarios***\n",
    "\n",
    "Se realizó una breve introducción al machine learning y sus aplicaciones, seguido se discutió la distinción entre\n",
    "aprendizaje supervisado y no supervisado y se brindó una descripción general de las herramientas. Finalmente resolvimos la tarea de construir un modelo para predecir qué especie de iris pertenece una flor en particular usando medidas físicas de la flor. Para ello, usamos una data con las medidas y clasificación conocida de la especie. En el contexto del problema se tenían tres posibles especies, setosa, versicolor o virginica, lo que hizo que estuvieramos en presencia de una tarea de clasificación de tres clases. Recordemos que las especies se denominan clases en el problema de clasificación, y la especie de un solo iris se llama su label. El conjunto de datos Iris consta de dos matrices NumPy: una que contiene los datos, que es\n",
    "denominado $X$ en scikit-learn, y uno que contiene los resultados correctos o deseados, llamada $y$. El array $X$ es un arreglo bidimensional, con una fila por cada registro y una columna por entidad. El array $y$ es un arreglo unidimensional, el cualvaquí contiene una label de la clase, es decir, un número entero que va de 0 a 2, para cada una de las muestras. Seguido, dividimos nuestra dada en el conjunto train y en test, train para construir nuestro modelo y test para evaluar su desempeño, es decir, qué tan bien se generalizará nuestro modelo a datos nunca antes vistos. El algoritmo seleccionado fue $knn$, que hace predicciones\n",
    "para un nuevo punto de datos considerando su(s) vecino(s) más cercano(s) en el conjunto train. Para ello,instanciamos la clase, configurando parámetros. Luego construimos el modelo llamando el método `fit()` pasandole los datos en `X_train` y las labels correctas en `y_train`. Finalmente, evaluamos el modelo utilizando el método `score()`, que calcula la precisión del modelo. Esto se realiza sobre el conjunto test y se  descubrió que nuestro modelo tiene una precisión de aproximadamente el 97 %, lo que significa que es correcto en un 97 % en el conjunto test."
   ]
  }
 ],
 "metadata": {
  "colab": {
   "authorship_tag": "ABX9TyPScUkWAvroLOPkczkufGV5",
   "name": "Lectura_1_Intro.ipynb",
   "provenance": []
  },
  "kernelspec": {
   "display_name": "Python 3",
   "name": "python3"
  },
  "language_info": {
   "codemirror_mode": {
    "name": "ipython",
    "version": 3
   },
   "file_extension": ".py",
   "mimetype": "text/x-python",
   "name": "python",
   "nbconvert_exporter": "python",
   "pygments_lexer": "ipython3",
   "version": "3.10.12"
  }
 },
 "nbformat": 4,
 "nbformat_minor": 0
}